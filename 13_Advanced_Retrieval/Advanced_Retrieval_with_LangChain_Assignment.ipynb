{
  "cells": [
    {
      "cell_type": "markdown",
      "metadata": {
        "id": "e-IqJAMkwnCF"
      },
      "source": [
        "# Advanced Retrieval with LangChain\n",
        "\n",
        "In the following notebook, we'll explore various methods of advanced retrieval using LangChain!\n",
        "\n",
        "We'll touch on:\n",
        "\n",
        "- Naive Retrieval\n",
        "- Best-Matching 25 (BM25)\n",
        "- Multi-Query Retrieval\n",
        "- Parent-Document Retrieval\n",
        "- Contextual Compression (a.k.a. Rerank)\n",
        "- Ensemble Retrieval\n",
        "- Semantic chunking\n",
        "\n",
        "We'll also discuss how these methods impact performance on our set of documents with a simple RAG chain.\n",
        "\n",
        "There will be two breakout rooms:\n",
        "\n",
        "- 🤝 Breakout Room Part #1\n",
        "  - Task 1: Getting Dependencies!\n",
        "  - Task 2: Data Collection and Preparation\n",
        "  - Task 3: Setting Up QDrant!\n",
        "  - Task 4-10: Retrieval Strategies\n",
        "- 🤝 Breakout Room Part #2\n",
        "  - Activity: Evaluate with Ragas"
      ]
    },
    {
      "cell_type": "markdown",
      "metadata": {
        "id": "4rKP3hgHivpe"
      },
      "source": [
        "# 🤝 Breakout Room Part #1"
      ]
    },
    {
      "cell_type": "markdown",
      "metadata": {
        "id": "3xes8oT-xHN7"
      },
      "source": [
        "## Task 1: Getting Dependencies!\n",
        "\n",
        "We're going to need a few specific LangChain community packages, like OpenAI (for our [LLM](https://platform.openai.com/docs/models) and [Embedding Model](https://platform.openai.com/docs/guides/embeddings)) and Cohere (for our [Reranker](https://cohere.com/rerank)).\n",
        "\n",
        "> You do not need to run the following cells if you are running this notebook locally. "
      ]
    },
    {
      "cell_type": "code",
      "execution_count": null,
      "metadata": {
        "colab": {
          "base_uri": "https://localhost:8080/"
        },
        "id": "MkgFAXWVW3wm",
        "outputId": "636db35c-f05a-4038-ec7a-02360bef2dae"
      },
      "outputs": [
        {
          "name": "stdout",
          "output_type": "stream",
          "text": [
            "\u001b[?25l   \u001b[90m━━━━━━━━━━━━━━━━━━━━━━━━━━━━━━━━━━━━━━━━\u001b[0m \u001b[32m0.0/49.6 kB\u001b[0m \u001b[31m?\u001b[0m eta \u001b[36m-:--:--\u001b[0m\r\u001b[2K   \u001b[90m━━━━━━━━━━━━━━━━━━━━━━━━━━━━━━━━━━━━━━━━\u001b[0m \u001b[32m49.6/49.6 kB\u001b[0m \u001b[31m3.2 MB/s\u001b[0m eta \u001b[36m0:00:00\u001b[0m\n",
            "\u001b[?25h\u001b[?25l   \u001b[90m━━━━━━━━━━━━━━━━━━━━━━━━━━━━━━━━━━━━━━━━\u001b[0m \u001b[32m0.0/44.0 kB\u001b[0m \u001b[31m?\u001b[0m eta \u001b[36m-:--:--\u001b[0m\r\u001b[2K   \u001b[90m━━━━━━━━━━━━━━━━━━━━━━━━━━━━━━━━━━━━━━━━\u001b[0m \u001b[32m44.0/44.0 kB\u001b[0m \u001b[31m2.3 MB/s\u001b[0m eta \u001b[36m0:00:00\u001b[0m\n",
            "\u001b[?25h\u001b[?25l   \u001b[90m━━━━━━━━━━━━━━━━━━━━━━━━━━━━━━━━━━━━━━━━\u001b[0m \u001b[32m0.0/233.1 kB\u001b[0m \u001b[31m?\u001b[0m eta \u001b[36m-:--:--\u001b[0m\r\u001b[2K   \u001b[90m━━━━━━━━━━━━━━━━━━━━━━━━━━━━━━━━━━━━━━━━\u001b[0m \u001b[32m233.1/233.1 kB\u001b[0m \u001b[31m8.0 MB/s\u001b[0m eta \u001b[36m0:00:00\u001b[0m\n",
            "\u001b[2K   \u001b[90m━━━━━━━━━━━━━━━━━━━━━━━━━━━━━━━━━━━━━━━━\u001b[0m \u001b[32m378.1/378.1 kB\u001b[0m \u001b[31m15.9 MB/s\u001b[0m eta \u001b[36m0:00:00\u001b[0m\n",
            "\u001b[2K   \u001b[90m━━━━━━━━━━━━━━━━━━━━━━━━━━━━━━━━━━━━━━━━\u001b[0m \u001b[32m1.1/1.1 MB\u001b[0m \u001b[31m37.4 MB/s\u001b[0m eta \u001b[36m0:00:00\u001b[0m\n",
            "\u001b[2K   \u001b[90m━━━━━━━━━━━━━━━━━━━━━━━━━━━━━━━━━━━━━━━━\u001b[0m \u001b[32m139.1/139.1 kB\u001b[0m \u001b[31m8.5 MB/s\u001b[0m eta \u001b[36m0:00:00\u001b[0m\n",
            "\u001b[2K   \u001b[90m━━━━━━━━━━━━━━━━━━━━━━━━━━━━━━━━━━━━━━━━\u001b[0m \u001b[32m3.1/3.1 MB\u001b[0m \u001b[31m58.2 MB/s\u001b[0m eta \u001b[36m0:00:00\u001b[0m\n",
            "\u001b[2K   \u001b[90m━━━━━━━━━━━━━━━━━━━━━━━━━━━━━━━━━━━━━━━━\u001b[0m \u001b[32m318.9/318.9 kB\u001b[0m \u001b[31m16.9 MB/s\u001b[0m eta \u001b[36m0:00:00\u001b[0m\n",
            "\u001b[2K   \u001b[90m━━━━━━━━━━━━━━━━━━━━━━━━━━━━━━━━━━━━━━━━\u001b[0m \u001b[32m12.6/12.6 MB\u001b[0m \u001b[31m63.4 MB/s\u001b[0m eta \u001b[36m0:00:00\u001b[0m\n",
            "\u001b[2K   \u001b[90m━━━━━━━━━━━━━━━━━━━━━━━━━━━━━━━━━━━━━━━━\u001b[0m \u001b[32m82.7/82.7 kB\u001b[0m \u001b[31m5.2 MB/s\u001b[0m eta \u001b[36m0:00:00\u001b[0m\n",
            "\u001b[?25h"
          ]
        }
      ],
      "source": [
        "#!pip install -qU langchain langchain-openai langchain-cohere rank_bm25"
      ]
    },
    {
      "cell_type": "markdown",
      "metadata": {
        "id": "dKqYM4Eoxcov"
      },
      "source": [
        "We're also going to be leveraging [Qdrant's](https://qdrant.tech/documentation/frameworks/langchain/) (pronounced \"Quadrant\") VectorDB in \"memory\" mode (so we can leverage it locally in our colab environment)."
      ]
    },
    {
      "cell_type": "code",
      "execution_count": null,
      "metadata": {
        "id": "s6xav5CxYnML"
      },
      "outputs": [],
      "source": [
        "#!pip install -qU qdrant-client"
      ]
    },
    {
      "cell_type": "markdown",
      "metadata": {
        "id": "Z7OHJXzfyJyA"
      },
      "source": [
        "We'll also provide our OpenAI key, as well as our Cohere API key."
      ]
    },
    {
      "cell_type": "code",
      "execution_count": 2,
      "metadata": {},
      "outputs": [],
      "source": [
        "import os\n",
        "import getpass\n",
        "\n",
        "os.environ[\"LANGCHAIN_TRACING_V2\"] = \"true\"\n",
        "os.environ[\"LANGCHAIN_API_KEY\"] = getpass.getpass(\"LangChain API Key:\")"
      ]
    },
    {
      "cell_type": "code",
      "execution_count": 5,
      "metadata": {},
      "outputs": [],
      "source": [
        "from uuid import uuid4\n",
        "\n",
        "os.environ[\"LANGCHAIN_PROJECT\"] = f\"AIM - SDG - {uuid4().hex[0:8]}\""
      ]
    },
    {
      "cell_type": "code",
      "execution_count": 4,
      "metadata": {
        "colab": {
          "base_uri": "https://localhost:8080/"
        },
        "id": "7LttlDQUYgSI",
        "outputId": "9dca95ab-4d02-4adf-ec3f-cb831326dc54"
      },
      "outputs": [],
      "source": [
        "\n",
        "os.environ[\"OPENAI_API_KEY\"] = getpass.getpass(\"Enter your OpenAI API Key:\")"
      ]
    },
    {
      "cell_type": "code",
      "execution_count": 6,
      "metadata": {
        "colab": {
          "base_uri": "https://localhost:8080/"
        },
        "id": "3iUahNiJyQbv",
        "outputId": "78bf06ef-2ee8-46c3-f73d-27958b4dd79b"
      },
      "outputs": [],
      "source": [
        "os.environ[\"COHERE_API_KEY\"] = getpass.getpass(\"Cohere API Key:\")"
      ]
    },
    {
      "cell_type": "markdown",
      "metadata": {
        "id": "B0pDRFEWSXvh"
      },
      "source": []
    },
    {
      "cell_type": "markdown",
      "metadata": {
        "id": "mw304iAFyRtl"
      },
      "source": [
        "## Task 2: Data Collection and Preparation\n",
        "\n",
        "We'll be using some reviews from the 4 movies in the John Wick franchise today to explore the different retrieval strategies.\n",
        "\n",
        "These were obtained from IMDB, and are available in the [AIM Data Repository](https://github.com/AI-Maker-Space/DataRepository)."
      ]
    },
    {
      "cell_type": "markdown",
      "metadata": {
        "id": "xXKHcZmKzDwT"
      },
      "source": [
        "### Data Collection\n",
        "\n",
        "We can simply `wget` these from GitHub.\n",
        "\n",
        "You could use any review data you wanted in this step - just be careful to make sure your metadata is aligned with your choice."
      ]
    },
    {
      "cell_type": "code",
      "execution_count": 7,
      "metadata": {
        "colab": {
          "base_uri": "https://localhost:8080/"
        },
        "id": "vbbSIGtzX3dS",
        "outputId": "0ce6514e-2479-4001-af24-824f987ce599"
      },
      "outputs": [
        {
          "name": "stdout",
          "output_type": "stream",
          "text": [
            "--2025-05-19 12:59:00--  https://raw.githubusercontent.com/AI-Maker-Space/DataRepository/main/jw1.csv\n",
            "Resolving raw.githubusercontent.com (raw.githubusercontent.com)... 185.199.108.133, 185.199.109.133, 185.199.110.133, ...\n",
            "Connecting to raw.githubusercontent.com (raw.githubusercontent.com)|185.199.108.133|:443... connected.\n",
            "HTTP request sent, awaiting response... 200 OK\n",
            "Length: 19628 (19K) [text/plain]\n",
            "Saving to: ‘john_wick_1.csv’\n",
            "\n",
            "john_wick_1.csv     100%[===================>]  19.17K  --.-KB/s    in 0.003s  \n",
            "\n",
            "2025-05-19 12:59:00 (7.03 MB/s) - ‘john_wick_1.csv’ saved [19628/19628]\n",
            "\n",
            "--2025-05-19 12:59:01--  https://raw.githubusercontent.com/AI-Maker-Space/DataRepository/main/jw2.csv\n",
            "Resolving raw.githubusercontent.com (raw.githubusercontent.com)... 185.199.110.133, 185.199.111.133, 185.199.108.133, ...\n",
            "Connecting to raw.githubusercontent.com (raw.githubusercontent.com)|185.199.110.133|:443... connected.\n",
            "HTTP request sent, awaiting response... 200 OK\n",
            "Length: 14747 (14K) [text/plain]\n",
            "Saving to: ‘john_wick_2.csv’\n",
            "\n",
            "john_wick_2.csv     100%[===================>]  14.40K  --.-KB/s    in 0.002s  \n",
            "\n",
            "2025-05-19 12:59:01 (8.28 MB/s) - ‘john_wick_2.csv’ saved [14747/14747]\n",
            "\n",
            "--2025-05-19 12:59:01--  https://raw.githubusercontent.com/AI-Maker-Space/DataRepository/main/jw3.csv\n",
            "Resolving raw.githubusercontent.com (raw.githubusercontent.com)... 185.199.109.133, 185.199.110.133, 185.199.111.133, ...\n",
            "Connecting to raw.githubusercontent.com (raw.githubusercontent.com)|185.199.109.133|:443... connected.\n",
            "HTTP request sent, awaiting response... 200 OK\n",
            "Length: 13888 (14K) [text/plain]\n",
            "Saving to: ‘john_wick_3.csv’\n",
            "\n",
            "john_wick_3.csv     100%[===================>]  13.56K  --.-KB/s    in 0s      \n",
            "\n",
            "2025-05-19 12:59:01 (74.3 MB/s) - ‘john_wick_3.csv’ saved [13888/13888]\n",
            "\n",
            "--2025-05-19 12:59:01--  https://raw.githubusercontent.com/AI-Maker-Space/DataRepository/main/jw4.csv\n",
            "Resolving raw.githubusercontent.com (raw.githubusercontent.com)... 185.199.108.133, 185.199.109.133, 185.199.110.133, ...\n",
            "Connecting to raw.githubusercontent.com (raw.githubusercontent.com)|185.199.108.133|:443... connected.\n",
            "HTTP request sent, awaiting response... 200 OK\n",
            "Length: 15109 (15K) [text/plain]\n",
            "Saving to: ‘john_wick_4.csv’\n",
            "\n",
            "john_wick_4.csv     100%[===================>]  14.75K  --.-KB/s    in 0.004s  \n",
            "\n",
            "2025-05-19 12:59:02 (4.11 MB/s) - ‘john_wick_4.csv’ saved [15109/15109]\n",
            "\n"
          ]
        }
      ],
      "source": [
        "!wget https://raw.githubusercontent.com/AI-Maker-Space/DataRepository/main/jw1.csv -O john_wick_1.csv\n",
        "!wget https://raw.githubusercontent.com/AI-Maker-Space/DataRepository/main/jw2.csv -O john_wick_2.csv\n",
        "!wget https://raw.githubusercontent.com/AI-Maker-Space/DataRepository/main/jw3.csv -O john_wick_3.csv\n",
        "!wget https://raw.githubusercontent.com/AI-Maker-Space/DataRepository/main/jw4.csv -O john_wick_4.csv"
      ]
    },
    {
      "cell_type": "markdown",
      "metadata": {
        "id": "A92NC2QZzCsi"
      },
      "source": [
        "### Data Preparation\n",
        "\n",
        "We want to make sure all our documents have the relevant metadata for the various retrieval strategies we're going to be applying today.\n",
        "\n",
        "- Self-Query: Wants as much metadata as we can provide\n",
        "- Time-weighted: Wants temporal data\n",
        "\n",
        "> NOTE: While we're creating a temporal relationship based on when these movies came out for illustrative purposes, it needs to be clear that the \"time-weighting\" in the Time-weighted Retriever is based on when the document was *accessed* last - not when it was created."
      ]
    },
    {
      "cell_type": "code",
      "execution_count": 8,
      "metadata": {
        "id": "GshBjVRJZ6p8"
      },
      "outputs": [
        {
          "name": "stdout",
          "output_type": "stream",
          "text": [
            "[Document(metadata={'source': 'john_wick_1.csv', 'row': 0, 'Review_Date': '6 May 2015', 'Review_Title': ' Kinetic, concise, and stylish; John Wick kicks ass.\\n', 'Review_Url': '/review/rw3233896/?ref_=tt_urv', 'Author': 'lnvicta', 'Rating': '8'}, page_content=\": 0\\nReview: The best way I can describe John Wick is to picture Taken but instead of Liam Neeson it's Keanu Reeves and instead of his daughter it's his dog. That's essentially the plot of the movie. John Wick (Reeves) is out to seek revenge on the people who took something he loved from him. It's a beautifully simple premise for an action movie - when action movies get convoluted, they get bad i.e. A Good Day to Die Hard. John Wick gives the viewers what they want: Awesome action, stylish stunts, kinetic chaos, and a relatable hero to tie it all together. John Wick succeeds in its simplicity.\"), Document(metadata={'source': 'john_wick_1.csv', 'row': 1, 'Review_Date': '17 January 2015', 'Review_Title': ' Story: 3 minutes; Entertainment: 101 minutes.\\n', 'Review_Url': '/review/rw3164002/?ref_=tt_urv', 'Author': 'CountJonnie', 'Rating': '7'}, page_content=\": 1\\nReview: It looks as if the filmmakers realized that the public was sick of certain movies. Most movies nowadays are full of wire work, sci-fi, etc. often topped with icing made of needless or predictable background stories that add nothing. For example the beautiful girlfriend who gives the moral speeches or the troubled teenage daughter, who aren't present here.\"), Document(metadata={'source': 'john_wick_1.csv', 'row': 2, 'Review_Date': '5 May 2023', 'Review_Title': \" You don't mess with another person's dog. It's as simple as that!\\n\", 'Review_Url': '/review/rw9033669/?ref_=tt_urv', 'Author': 'Coventry', 'Rating': '5'}, page_content=': 2\\nReview: With the fourth installment scoring immensely at the cinemas as I\\'m submitting this review, and after three previous films that are apparently loved by everyone else in the world, I thought perhaps it would be time for me check out \"John Wick\".'), Document(metadata={'source': 'john_wick_1.csv', 'row': 3, 'Review_Date': '28 September 2018', 'Review_Title': ' Keanu gets pissed and shoots people in the face for 101 minutes*\\n', 'Review_Url': '/review/rw4366368/?ref_=tt_urv', 'Author': 'Kitsfi', 'Rating': '8'}, page_content=': 3\\nReview: John wick has a very simple revenge story. It can be summarized as \"Keanu gets angry and shoots bad guys\" but what makes it special? Directed by Chad Stahelski who\\'s a stunt specialist boy does it show because the main selling point in the film are some real virtuoso action sequences, well made choreographies. Unlike today\\'s action movies, it doesn\\'t use quick-cuts or shaky cameras actually see what\\'s going on.'), Document(metadata={'source': 'john_wick_1.csv', 'row': 4, 'Review_Date': '30 July 2020', 'Review_Title': ' delivers if taken for what it is\\n', 'Review_Url': '/review/rw5952152/?ref_=tt_urv', 'Author': 'Special-K88', 'Rating': ''}, page_content=': 4\\nReview: Though he no longer has a taste for wet work, retired assassin and \"Boogeyman\" John Wick has suffered a personal tragedy that\\'s left a huge void in his life. When he and his dog (really the last meaningful thing he has left) fall victim to a scummy group of Russian mobsters, he emerges from his shell with vengeance on his mind. Slow and ambiguous at first, but reveals more as it goes along, and once it kicks into gear it rarely lets up with plenty of stylized, visceral action scenes, an impressive arsenal of weaponry, plus sly direction and editing that give it the feel of a violent music video at times. Preposterously fun to watch, it just doesn\\'t have much of a story at its disposal, not to mention all the over-the-top bloodletting and mayhem eventually becomes redundant. Savvy, indestructible Reeves looks right at home, and delivers many of his lines with a sardonic wit. **½'), Document(metadata={'source': 'john_wick_1.csv', 'row': 5, 'Review_Date': '23 March 2023', 'Review_Title': ' Violent and gripping story with plenty of unstopped action , shootouts and breathtaking fights\\n', 'Review_Url': '/review/rw8945545/?ref_=tt_urv', 'Author': 'ma-cortes', 'Rating': '7'}, page_content=\": 5\\nReview: Ultra-violent first entry with lots of killings, thrills , noisy action , suspense , and crossfire . In this original John Wick (2014) , an ex-hit-man comes out of retirement to track down the gangsters that killed his dog and took everything from him . With the untimely death of his beloved wife still bitter in his mouth he seeks for vengeance . But when an arrogant Russian mob prince and hoodlums steal his car and kill his dog , they are fully aware of his lethal capacity. The Bogeyman will find himself dragged into an impossible task as every killer in the business dreams of cornering the legendary Wick who now has an enormous price on his head . In this first installment John Wick , blind with revenge, and for his salvation John will immediately unleash a carefully orchestrated maelstrom of destruction against those attempt to chase him and with a price tag on his head, as he is the target of hit men : an army of bounty-hunting killers on his trail and a murderer woman everywhere . The legendary hitman will be forced to unearth his meticulously concealed identity and to carry out a relentless vendetta . Now, only blood can quench the boogeyman's thirst for retribution . Don't Set Him Off! . John Wick isn't the Boogeyman... He's the guy you send to kill the doomed Boogeyman. Revenge is all he has left. You want peace, prepare for war . Don't Hunt What You Can't Kill. Tick Tock, Mr. Wick. Everyone Is Waiting. For John Wick . Every Action Has Consequences. This Friday, Wick is Back . Its the World Vs. Wick. Every Action Has Consequences.\"), Document(metadata={'source': 'john_wick_1.csv', 'row': 6, 'Review_Date': '24 February 2015', 'Review_Title': \" I'm Thinking I'm Back\\n\", 'Review_Url': '/review/rw3191151/?ref_=tt_urv', 'Author': 'ThomasDrufke', 'Rating': '8'}, page_content=\": 6\\nReview: John Wick is one of those few movies a year that seemed like it would be absolutely terrible, but when you finally sit down and watch it, turns out to be incredible. Not only is it one of the most fun films of the year, but it's so much different than the action films we have today. It doesn't try to be inventive or over-the-top, it just plays to it's strengths.\"), Document(metadata={'source': 'john_wick_1.csv', 'row': 7, 'Review_Date': '19 November 2015', 'Review_Title': ' The best action revenge film of all time from 2014 so far!\\n', 'Review_Url': '/review/rw3357633/?ref_=tt_urv', 'Author': 'ivo-cobra8', 'Rating': '10'}, page_content=\": 7\\nReview: John Wick (2014) is the best revenge flick from Keanu Reeves of 2014 from The Matrix (1999) to John Wick (2014) another action fast paced, Entertaining slick action packed film, which kind I have never seen before. It is a very fun, straightforward action movie with an 80's sensibility. It's nice to see Keanu doing these types of roles again. It is one of my personal favorite Keanu Reeves movies. Keanu Reeves is a bad ass what a great action packed blood packed film. Movies should really learn from this on how to make a decent action film, especially with the crap we are getting today like escape plan bullet to the head and such. This film to me is the greatest action film to come out in this century. Keanu was phenomenal the action was so fast paced and exciting my jaw literally dropped as Keanu took out all the bad guys! I personally think this film is better then all Taken films combined. It was simply brilliant, it was made for 20 million dollars and I am glad it made 40 million in the US. I think this film deserved to make 100 million!\"), Document(metadata={'source': 'john_wick_1.csv', 'row': 8, 'Review_Date': '23 February 2020', 'Review_Title': ' love this movie highly recommend\\n', 'Review_Url': '/review/rw5503708/?ref_=tt_urv', 'Author': 'MrHeraclius', 'Rating': ''}, page_content=\": 8\\nReview: It's hard to find anything bad to say about John Wick. The action is beautifully choreographed, the setup is surprisingly emotional for an action flick, and Keanu.... What more is there to say? If you love action or even just like it you will be in for the ride of your life.\"), Document(metadata={'source': 'john_wick_1.csv', 'row': 9, 'Review_Date': '20 October 2014', 'Review_Title': \" The coolest action film you'll see all year\\n\", 'Review_Url': '/review/rw3107759/?ref_=tt_urv', 'Author': 'trublu215', 'Rating': '9'}, page_content=\": 9\\nReview: At first glance, John Wick sounds like a terrible film on paper but with the slickness of Keanu Reeves' performance as the titular character and the sheer brilliance in its action sequences, this marks the best action film of the year and one of the absolute best in the past decade. Following a brutal home invasion that leaves his beloved dog murdered by thugs from his past, John Wick vows revenge on the ones who have taken what he loves most. Like I said, on paper, this seems like a direct-to-DVD slopfest starring John Cena but as a film with Keanu Reeves as the lead, it marks the very welcomed return for Reeves to the genre. John Wick is insanely fun, violently brutal and an overall romp especially for those disappointed by The Expendables 3. John Wick is propelled by Tarantino-esque dialog mixed with the swagger of action stars from the 70s. Reeves literally emulates cool in this film and does it with such confidence, that we don't even doubt the character...even when he kills countless bad guys with extreme force in some utterly ridiculous and implausible situations. We don't doubt it for a minute. This is EXACTLY what you want out of an action film. It is briskly paced, brilliantly shot and meticulously choreographed and keeps you wanting more and more. The supporting cast filled with the likes of John Legiuzamo, Ian McShane, and Willen Dafoe also keeps this film very interesting. These guys don't play good guys, hell, John Wick by traditional standards would be a bad guy in any other film. Every character is more ruthless than the next and pushes John Wick to be more ruthless than they are, creating a very cool dynamic between the character and the plot regarding the idea of how far is too far? However, don't expect some revelation from John Wick regarding the morality of bad and evil. This film wants you entertained and does so with brute force, it never lets up, not even for a second. One scene in particular that will have your blood pumping is a showdown between thugs and Wick in a nightclub. This action sequence remains the best in the film and will have you grasping your theater seat because of the sheer intensity of it. Overall, John Wick is slick, violent fun that turns into a remarkable, surprising film that will catch you off guard. It is THAT good. I highly recommend this film to action buffs especially but I'm sure those who just like a good movie will love it as well.\"), Document(metadata={'source': 'john_wick_1.csv', 'row': 10, 'Review_Date': '22 November 2014', 'Review_Title': ' Most Excellent\\n', 'Review_Url': '/review/rw3128980/?ref_=tt_urv', 'Author': 'utgard14', 'Rating': '7'}, page_content=\": 10\\nReview: Wow what a great surprise this was. I was told by a friend this was good but it's been awhile since I liked a Keanu movie so I was hesitant to try it. Retired hit-man John Wick (Keanu Reeves) loses his wife to cancer. After her funeral he receives a puppy she left him. A few days later some thugs, led by the son of a Russian gangster John used to work for, break into John's house. They beat him up, take the keys to his beloved car, and kill the puppy. They did this not knowing who he was; they just wanted the car. Now John Wick is out for revenge and the Russian gangster is trying to save his son's life by sending killers after John.\"), Document(metadata={'source': 'john_wick_1.csv', 'row': 11, 'Review_Date': '25 September 2015', 'Review_Title': ' Action as it should be\\n', 'Review_Url': '/review/rw3323198/?ref_=tt_urv', 'Author': 'Leofwine_draca', 'Rating': '8'}, page_content=\": 11\\nReview: JOHN WICK is a rare example of Hollywood getting things spot-on when it comes to creating the near-perfect action film. JOHN WICK is a relentless, pulse-pounding thriller that has plenty of similarity to the Liam Neeson classic TAKEN, albeit with a more simplistic (and also more emotionally intense) plot line. This is the kind of lean, pared-down film-making that's all about intensity and momentum. It sits well with classic international fare like POINT BLANK, SLEEPLESS NIGHT, MEA CULPA, THE MAN FROM NOWHERE, and THE RAID films.\"), Document(metadata={'source': 'john_wick_1.csv', 'row': 12, 'Review_Date': '23 January 2015', 'Review_Title': ' 8/10\\n', 'Review_Url': '/review/rw3168672/?ref_=tt_urv', 'Author': 'Giacomo_De_Bello', 'Rating': '8'}, page_content=': 12\\nReview: The only word that keeps coming back to mind when reviewing this movie is: exhilarating. The fun factor this amazing action film has is probably the highest of any movie this year. I could not stop myself from having a blast!'), Document(metadata={'source': 'john_wick_1.csv', 'row': 13, 'Review_Date': '26 March 2023', 'Review_Title': ' Hello, my name is Inigo Montoya, you killed my dog, prepare to die...\\n', 'Review_Url': '/review/rw8951947/?ref_=tt_urv', 'Author': 'AlsExGal', 'Rating': '4'}, page_content=': 13\\nReview: ... slaughtering a line from the superior \"Princess Bride\". It\\'s a shame that Keanu Reeves is supposed to be one of the nicest guys to work\\nwith in Hollywood, because this film is a mess. We should stop asking Hollywood to come up with original ideas, because when they do, this is the result. 101 minutes of cliched action that checks all of the boxes - retired hit-man coming out of retirement, a boy and his dog, the perfect wife who is conveniently dead, stolen cars, Russian mobsters, a spoiled son who doesn\\'t have half the restraint and judgment of dad precisely because dad spoiled him, and lots of blood.'), Document(metadata={'source': 'john_wick_1.csv', 'row': 14, 'Review_Date': '25 October 2014', 'Review_Title': \" Yeah I'm Thinking He's Back\\n\", 'Review_Url': '/review/rw3111220/?ref_=tt_urv', 'Author': 'Palidan400', 'Rating': '8'}, page_content=': 14\\nReview: Keanu Reeve is John Wick. He\\'s a deadly and unstoppable hit-man, and it shows. \"John Wick\" is short and to the point, but so much fun. At 1 hour and 36 minutes running time, there is never a dull moment in what may be one of the best action films of the year.'), Document(metadata={'source': 'john_wick_1.csv', 'row': 15, 'Review_Date': '3 September 2015', 'Review_Title': ' Mediocre action movie\\n', 'Review_Url': '/review/rw3310020/?ref_=tt_urv', 'Author': 'grantss', 'Rating': '5'}, page_content=': 15\\nReview: Mediocre action movie.'), Document(metadata={'source': 'john_wick_1.csv', 'row': 16, 'Review_Date': '10 February 2016', 'Review_Title': ' Got on my Wick...\\n', 'Review_Url': '/review/rw3412495/?ref_=tt_urv', 'Author': 'Howlin Wolf', 'Rating': '4'}, page_content=\": 16\\nReview: You could have written this on the back of a napkin... 'Guy's dog is murdered; guy goes mental, efficiently killing those responsible. The End'. There's no colour to the story, whatsoever; there are only garish colours in the nightclub scenes. If all you need to think something is cool is to see people getting beaten up or shot, then join the Army...\"), Document(metadata={'source': 'john_wick_1.csv', 'row': 17, 'Review_Date': '27 February 2016', 'Review_Title': ' The man who kills the Boogeyman\\n', 'Review_Url': '/review/rw3422991/?ref_=tt_urv', 'Author': 'Horst_In_Translation', 'Rating': '8'}, page_content=': 17\\nReview: There are actually quite a handful reasons why \"John Wick\" could have become a failure. The two directors have never made a film before and almost exclusively worked in the stunt department so far. The writer is not exactly experienced either. Lead actor Keanu Reeves usually scores more through boyish charm than through realistic portrayal of gritty badass characters. And the genre of crime action thrillers rarely delivers in terms of real significance. Still it became a very good film. The main reason for that is probably that it does not attempt to be anything of great cinematic value, does not try to teach groundbreaking stories on moral, loyalty or betrayal. Instead, Derek Kolstad\\'s script goes for a gutsy revenge thriller that is not even hurt by its occasional predictability.'), Document(metadata={'source': 'john_wick_1.csv', 'row': 18, 'Review_Date': '10 September 2019', 'Review_Title': ' Probably NOT a film to watch with your kids or mother.\\n', 'Review_Url': '/review/rw5112990/?ref_=tt_urv', 'Author': 'planktonrules', 'Rating': '7'}, page_content=\": 18\\nReview: When the story begins, John (Keanu Reeves) has just lost his wife. After her death, he's a bit lost but tries to rebuild his life. One day, he's getting gas and a young Russian-American punk notices Wick's classic car...and tries to buy it off him. But Wick isn't interested and declines. Soon, the punk arrives at Wick's home with some goons where they surprise him--beating him senseless, destroying his stuff, killing his dog and stealing his car! This is when you then learn that Wick is a super-assassin....and the punk chose the wrong guy to attack. The jerk's father is a big-time Russian mobster....and it's a contest to see who will win...the mobster and his gang or Wick on his own. Considering there are (so far) two MORE John Wick films, it pretty much seems certain who will win this battle.\"), Document(metadata={'source': 'john_wick_1.csv', 'row': 19, 'Review_Date': '14 April 2023', 'Review_Title': \" I Don't Get It\\n\", 'Review_Url': '/review/rw8991670/?ref_=tt_urv', 'Author': 'xiaoli7377', 'Rating': '6'}, page_content=': 19\\nReview: I really don\\'t understand the love that \"John Wick\" receives. It\\'s just kind of a generic action thriller to me. No different than a \"Bourne\" or \"Taken\" movie. It gets a slight bump for me in a rating of 6 instead of 5 because I did think that the cinematography was really good and also the fight choreography was top notch. I can definitely see the influence of martial arts films on this.'), Document(metadata={'source': 'john_wick_1.csv', 'row': 20, 'Review_Date': '22 October 2014', 'Review_Title': ' Smoothest action film to come around in a long time\\n', 'Review_Url': '/review/rw3109271/?ref_=tt_urv', 'Author': 'IceSkateUpHill', 'Rating': '10'}, page_content=\": 20\\nReview: John Wick is something special. It takes as much time setting up elaborate action sequences as it does the world with which it all takes place in. And what a world it is. It reminds me of Millers Crossing and it is cooler than any other recent attempt at noir. We are shown a criminal underworld where, if you are connected, many powerful people know who you are and show you respect. John Wick was connected but he got out. He is the rare killer who has found peace, and he is grateful for that peace. Some young kids steal that from him and he does what he does best, he wages a one man war against the Russian Mafia. It might sound like the film takes quite a leap but it all makes sense. The motives of John and the people who get in the way of his bullets are all very clear, even if it does come across as rather simple. That's the plot at it's most basic. Then there's the action. The film is directed by Reeve's stuntman from The Matrix, so this guy knows action. There are sequences that flow so smoothly it puts other action films and their quick cuts to shame. Keaunu moves so fluidly throughout the film and comes across as such a natural that the only disappointment is that we have not seen him like this before. Along the way are plenty of character actors, fans of The Matrix and The Wire will recognize a few people then there are more obvious ones like Ian McShane and Willem Dafoe. Everyone seems to be having a good time. That is another plus for this movie. It get's dark at times but overall it is quite fun, not very chipper, but fun. I cannot recommend this movie enough. I believe it is a must see for action fans and for anyone looking for something a bit different from the usual fare.\"), Document(metadata={'source': 'john_wick_1.csv', 'row': 21, 'Review_Date': '18 April 2015', 'Review_Title': ' Hit-man and his dog\\n', 'Review_Url': '/review/rw3222483/?ref_=tt_urv', 'Author': 'Prismark10', 'Rating': '5'}, page_content=': 21\\nReview: John Wick is an action film with video game type shooting scenes but a somewhat barmy plotting. Keanu Reeves makes it watchable despite the script.'), Document(metadata={'source': 'john_wick_1.csv', 'row': 22, 'Review_Date': '12 February 2015', 'Review_Title': ' Storytelling is Good Copying\\n', 'Review_Url': '/review/rw3182143/?ref_=tt_urv', 'Author': 'westsideschl', 'Rating': '2'}, page_content=': 22\\nReview: All the below are non-creative copying of past movies (done many times before): 1. Opening scene - alarm clock going off. 2. Coffee brewing. 3. Casket being lowered; raining for effect; long shot of cemetery showing stranger watching. 4. Afterwards, solemn wake party. 5. Mystery package at door. From? Of course. 6. Bad guys are (Guess what nationality?) $1000 if you have no idea. And, of course, are as stereotypic as cut-out doll figures. 7. Older hot cars and lots of squealing tires, burning rubber (or synthetic equivalent). You would think Reeves character would be past that 17 year old\\'s infatuation. 8. Master killer still has an arsenal hidden away, why? Anticipated this precise series of events unfolding many years earlier. Or, nostalgia. 9. Reeves is covered in tats, of course, to show us toughness. Russian iconic tats no less - oops! 10. Dozen (cheaper that way) bad guys need some skill training because they\\'re slow, dumb and can\\'t seem to shoot at a target a few feet away and always walk around corners without looking first. 11. Been done before \"cleaning crew\" just a call away to dispose of waste animal tissue (human of course). They always look the same in these movies. 12. Usual cheap scene filler, and getting really tedious, helicopter shot of city and car traveling on road below (even did a several times). 13. Background music the usual rock/blues/alter/jazz sound. 14. Barely clothed chicks tossed in for the male viewer and one to be bad. 15. Same old club scenes with strobes. 16. Usual wharf/dock driving and shooting scenes. 17. Now for the fun part and a new record surpassing the past record of 65 kills by one individual in a movie (can\\'t remember the movie from a couple of years ago but it had that Detroit blighted semi-deserted projects, public housing/towers backdrop with this guy going through the floors shooting all the druggies). The new record for a movie is (drum roll) 73 by Reeves and 8 by others = 81 (maybe more, hard to keep track at times).'), Document(metadata={'source': 'john_wick_1.csv', 'row': 23, 'Review_Date': '28 September 2015', 'Review_Title': ' High Energy Action Fun\\n', 'Review_Url': '/review/rw3325041/?ref_=tt_urv', 'Author': 'Michael_Elliott', 'Rating': ''}, page_content=': 23\\nReview: John Wick (2014)'), Document(metadata={'source': 'john_wick_1.csv', 'row': 24, 'Review_Date': '15 April 2018', 'Review_Title': ' Garbage\\n', 'Review_Url': '/review/rw4129747/?ref_=tt_urv', 'Author': 'donlessnau-591-637730', 'Rating': '1'}, page_content=': 24\\nReview: Predictable, juvenile revenge movie for 8 year olds. Reeves mumbles his way through 2 hours with Matrix like fight scenes that defy believability. Mindless, childish crap.')]\n",
            "[Document(metadata={'source': 'john_wick_2.csv', 'row': 0, 'Review_Date': '14 September 2018', 'Review_Title': ' \"No one gets out and comes back without repercussions.\"\\n', 'Review_Url': '/review/rw4338449/?ref_=tt_urv', 'Author': 'classicsoncall', 'Rating': '7'}, page_content=': 0\\nReview: No doubt about it, \"John Wick: Chapter 2\" is a slick action thriller, but man, oh man, how can any one person absorb that kind of punishment? John (Keanu Reeves) gets shot, stabbed and hit by cars multiple times and postures a limp now and then to indicate he might have gotten just a little bit hurt. Besides that, he almost never makes a wrong move when hunted by dozens of assassins all at the same time. Okay, I get it, Reeves is the star of the picture and has to come out on top, but I\\'d like a little more credibility put into these kinds of stories. But I guess that\\'s the whole point, suspend your disbelief for a couple of hours and just go with all of the over the top action the film makers can put together.'), Document(metadata={'source': 'john_wick_2.csv', 'row': 1, 'Review_Date': '28 November 2020', 'Review_Title': \" It's just a great action film\\n\", 'Review_Url': '/review/rw6316364/?ref_=tt_urv', 'Author': 'danielmanson', 'Rating': '8'}, page_content=\": 1\\nReview: I mean. This literally is what is says on the tin. It's jam packed with action and I love it.\"), Document(metadata={'source': 'john_wick_2.csv', 'row': 2, 'Review_Date': '14 February 2017', 'Review_Title': ' Professional Courtesy\\n', 'Review_Url': '/review/rw3640053/?ref_=tt_urv', 'Author': 'ThomasDrufke', 'Rating': '8'}, page_content=\": 2\\nReview: A film with more head-shots than words spoken, John Wick: Chapter 2 is just about the most violent film I've seen in quite some time. But it knows exactly what it wants to do, and succeeds immensely.\"), Document(metadata={'source': 'john_wick_2.csv', 'row': 3, 'Review_Date': '5 May 2023', 'Review_Title': ' Stab, kick, shoot, repeat. Stab, kick, shoot, repeat. Stab, kick shoot, repeat.\\n', 'Review_Url': '/review/rw9034779/?ref_=tt_urv', 'Author': 'Coventry', 'Rating': '5'}, page_content=': 3\\nReview: Well, I committed to watching the first three \"John Wick\" movies consecutively, and in case I totally worship them - like apparently the rest of the world does - I would hurry myself to the theater and watch the fourth installment on the big screen. After the first one already, I knew this wasn\\'t going to be my thing. Not that \"John Wick\" is a bad film, it\\'s just a very monotonous \\'shoot-em-all-up\\' actioner that rapidly makes you go like \"yeah, whatever\".'), Document(metadata={'source': 'john_wick_2.csv', 'row': 4, 'Review_Date': '13 February 2017', 'Review_Title': ' The rare sequel that is better than the original movie\\n', 'Review_Url': '/review/rw3639244/?ref_=tt_urv', 'Author': 'paul-allaer', 'Rating': '8'}, page_content=': 4\\nReview: \"John Wick: Chapter 2\" (2017 release; 122 min.) continues the \\'adventures\\' of former (?) hit man John Wick. As the movie opens, we are immediately thrown in the middle of a car vs. bike chase, and next thing we know, we find our man retrieving his beloved Mustang from a chop shop in NYC, but not without cars flying about, and dozens of dead or wounded bodies. And that\\'s all in the pre-opening credits! As the story unfolds, Wick, who wants \"out, is nevertheless forced back \"in\" when an Italian baddie calls in a favor and Wick has no choice but to accept. To tell you more of the plot would spoil your viewing experience, you\\'ll just have to see for yourself how it all plays out.'), Document(metadata={'source': 'john_wick_2.csv', 'row': 5, 'Review_Date': '7 October 2017', 'Review_Title': ' more Gun Fu\\n', 'Review_Url': '/review/rw3825224/?ref_=tt_urv', 'Author': 'SnoopyStyle', 'Rating': '6'}, page_content=\": 5\\nReview: Iosef's uncle still has John Wick's car. Wick comes after it and the uncle accepts his offer of peace. He hopes to return to his peaceful retirement but crime lord Santino D'Antonio calls in his Marker. He faces deadly assassins, numerous killers, and countless thugs as Santino uses him to gain power even offering a $7 million contract.\"), Document(metadata={'source': 'john_wick_2.csv', 'row': 6, 'Review_Date': '14 February 2017', 'Review_Title': \" John Wick: Chapter 2 continues it's faced paced, neo-noir story of our assassin\\n\", 'Review_Url': '/review/rw3639868/?ref_=tt_urv', 'Author': 'RforFilm', 'Rating': '8'}, page_content=\": 6\\nReview: In 2014, a Keanu Reeves revenge thriller John Wick became a surprise hit. I originally skipped out on the film as I felt that the trailers only showed an assassin story that I felt I've seen before. As far as I'm concerned, I made a big mistake. Before seeing the sequel, I felt it was important to watch the first one. I rented it on Amazon Prime and I was shock by what I saw; a dark, stylish, and fun action movie that is doing it's own thing. Though I've seen plenty stories about revenge (The Count of Monte Cristo and Moby Dick being the prime examples), I can't recall one over someone's pet being murdered.\"), Document(metadata={'source': 'john_wick_2.csv', 'row': 7, 'Review_Date': '17 February 2017', 'Review_Title': \" He's Bloody Back\\n\", 'Review_Url': '/review/rw3641212/?ref_=tt_urv', 'Author': 'coreyjdenford', 'Rating': '8'}, page_content=': 7\\nReview: This review of John Wick: Chapter 2 is spoiler free'), Document(metadata={'source': 'john_wick_2.csv', 'row': 8, 'Review_Date': '23 February 2020', 'Review_Title': ' Great\\n', 'Review_Url': '/review/rw5503709/?ref_=tt_urv', 'Author': 'MrHeraclius', 'Rating': ''}, page_content=\": 8\\nReview: In this 2nd installment of John Wick, the stylish visual and hard core action returns twice the level of the first film. So prepare for another suspenseful and cliffhanging sequences flow from this action movie when you watch this. The story goes deeper and the action scenes were incredibly entertaining! The revenge theme was still part of the movie's plot but this time the focus is the personal backstab of Wick. Keanu Reeves delivers again a notable performance as a titular character. This film is what a sequel movie should be - justifying the connection to the predecessor movie that made it successful by expanding its story and maintaining the elements that made it a superb film. The ending of this film opened the possibility of many more franchise of this movie.\"), Document(metadata={'source': 'john_wick_2.csv', 'row': 9, 'Review_Date': '22 July 2017', 'Review_Title': ' A disappointing sequel for the most part\\n', 'Review_Url': '/review/rw3760991/?ref_=tt_urv', 'Author': 'Horst_In_Translation', 'Rating': '4'}, page_content=': 9\\nReview: \"John Wick: Chapter 2\" is an American movie from this year (2017). Experienced visual effects artist Stahelski and Kolstad returned from the very first Wick film to work on the script/direction here too, so the premise with regard to people working behind the camera is there. And in front of the camera we see familiar faces again, people that survived the film, like most of all Keanu Reeves playing the central character. This is a really long film at over 2 hours and at this runtime, it is considerably longer than the first. And there is a lot other stuff different compared to the original. Most has to do with the fun component. I think the first film was a great fun watch from start to finish while offering emotion nonetheless and also delivering in the crime and drama genres. And action too, but I don\\'t care too much about that. This genre is also basically the only one where this new movie delivers as the first 30 minutes are truly packed with action. It gets less afterward, but there is no denying that it was still all about the action and nothing else.'), Document(metadata={'source': 'john_wick_2.csv', 'row': 10, 'Review_Date': '1 July 2017', 'Review_Title': \" Slick, but I was detached in a way I wasn't in the first film\\n\", 'Review_Url': '/review/rw3743472/?ref_=tt_urv', 'Author': 'bob the moo', 'Rating': ''}, page_content=\": 10\\nReview: The first John Wick film took me by surprise; it was a cartoonish action film that was surprisingly brutal in its content, cruel in its delivery, and had a real punch to it. All of it existed inside a world that convinced in its own logic, even if it was clearly fantasy. John Wick 2 doesn't have the ability to sneak up on me unannounced, which does work against it, but this is not what hurts it the most.\"), Document(metadata={'source': 'john_wick_2.csv', 'row': 11, 'Review_Date': '25 February 2017', 'Review_Title': ' Generic, repetitive and forgettable\\n', 'Review_Url': '/review/rw3647634/?ref_=tt_urv', 'Author': 'DVR_Brale', 'Rating': '5'}, page_content=\": 11\\nReview: Don't believe the hype. John Wick: Chapter 2 is not as nearly as good as almost everyone is portraying it to be. It's a generic movie with a dumb story line. Action is very repetitive - I got full-fed with it after seeing first two action scenes.\"), Document(metadata={'source': 'john_wick_2.csv', 'row': 12, 'Review_Date': '8 February 2017', 'Review_Title': ' Love letter for action genre written by bold bloody hallmark, and a pencil.\\n', 'Review_Url': '/review/rw3635439/?ref_=tt_urv', 'Author': 'quincytheodore', 'Rating': '9'}, page_content=\": 12\\nReview: If there's an equivalent of classical orchestra for untamed unapologetically brutal carnage, there's no doubt it'd be John Wick. Dancing through hail of bullets, horde of assassins straight from video game, oozing noir style from each drop of blood, John Wick: Chapter 2 is nothing short of an artistic spectacle.\"), Document(metadata={'source': 'john_wick_2.csv', 'row': 13, 'Review_Date': '25 November 2021', 'Review_Title': ' Entertaining Sequel\\n', 'Review_Url': '/review/rw7582036/?ref_=tt_urv', 'Author': 'Johnny_West', 'Rating': '10'}, page_content=': 13\\nReview: Keanu Reeves is reunited with his Matrix master, Laurence Fishburne in this sequel. It was nice to see them as allies.'), Document(metadata={'source': 'john_wick_2.csv', 'row': 14, 'Review_Date': '25 May 2019', 'Review_Title': ' No story, No plot, but a whole lot of boring gun scenes!\\n', 'Review_Url': '/review/rw4886603/?ref_=tt_urv', 'Author': 'skullhead739', 'Rating': '3'}, page_content=': 14\\nReview: I absolutely love action movies, like Rambo, Alien, and taken. But this is a absolute disaster of an action movie...'), Document(metadata={'source': 'john_wick_2.csv', 'row': 15, 'Review_Date': '19 February 2017', 'Review_Title': ' Violence Without Consequences = Childish Nonsense\\n', 'Review_Url': '/review/rw3642330/?ref_=tt_urv', 'Author': 'leftbanker-1', 'Rating': '1'}, page_content=': 15\\nReview: \"I keel you, I keel all of you. Kill, kill, and more kill.\" And throw in a few completely pointless and stupid car chases and lots of explosions for the mouth-breathers and you have a formula for a successful action movie. We should make violence at least as much of a taboo in film ratings as sex.'), Document(metadata={'source': 'john_wick_2.csv', 'row': 16, 'Review_Date': '9 February 2017', 'Review_Title': ' Kick-ass, entertaining and relentless throughout. This is what every sequel should aspire to be.\\n', 'Review_Url': '/review/rw3636884/?ref_=tt_urv', 'Author': 'trublu215', 'Rating': '5'}, page_content=\": 16\\nReview: John Wick Chapter 2 pits Keanu Reeves' titular character against the mean and nefarious of the criminal underworld. Once again, Reeves proves that he is a force to be reckoned with in this ridiculous, over-the-top sequel that is every bit as fun as the original. These types of films are rarely known for their artistic value but John Wick: Chapter 2 sets the bar pretty high, not only in its action, but in it's set design and camera work. This is pure escapist entertainment and couldn't have come at a better time. Those wanting to take a break from watching the Oscar nominees, this film is exactly what you're looking for.\"), Document(metadata={'source': 'john_wick_2.csv', 'row': 17, 'Review_Date': '18 March 2018', 'Review_Title': ' Even worse than the first movie\\n', 'Review_Url': '/review/rw4095490/?ref_=tt_urv', 'Author': 'grantss', 'Rating': '2'}, page_content=': 17\\nReview: Picking up where the first movie left off, John Wick still wants his car back. Also, he now discovers that there is a bounty on his head. Rejoining his former profession, he heads to Rome to complete an assassination assignment.'), Document(metadata={'source': 'john_wick_2.csv', 'row': 18, 'Review_Date': '28 February 2017', 'Review_Title': ' Mindless repetitive action...no story, no drama, he can kill 100 guys at the same time...\\n', 'Review_Url': '/review/rw3650338/?ref_=tt_urv', 'Author': 'jmichael3387', 'Rating': '2'}, page_content=\": 18\\nReview: And all of this equals boredom. 2 hours of the same thing over and over. A movie for young teens who judge movies as they do video games; the more kills, the better. After the 30th guy got his head blown off, it became totally boring to me. John Wick gets hit by a car 6 times, gets thrown down a flight of stairs 10 times, gets punched and kicked 500 times...and yet he keeps fighting. He fights 30 guys at the same time, with a gun or without, and he always wins. There is zero plot, zero character development, zero drama...it's all mindless action. And repetitive. Fistfights, guns, and cars. Nothing else. Nothing creative. Well they tried to be creative a couple times...like wasting 15 minutes with a woman doing an elaborate yet gross suicide...and for no reason other than to slap something 'original' up on the screen. It was completely pointless. How this movie is rated highly is beyond me. Like I say, it must be young teens who judge movies on number of kills. PS - I'm not exaggerating. The main bad guy simply puts a message into his phone, and within 3 minutes, literally the entire city is out to kill John Wick. So he has to fight 30 guys at a time, killing 500 guys within 20 minutes or so. Mind-numbingly stupid and boring.\"), Document(metadata={'source': 'john_wick_2.csv', 'row': 19, 'Review_Date': '29 November 2020', 'Review_Title': ' John Wick Kills A Lot Of People\\n', 'Review_Url': '/review/rw6320115/?ref_=tt_urv', 'Author': 'boblipton', 'Rating': '5'}, page_content=\": 19\\nReview: If you've seen the first John Wick movie, you know that Keanu Reeves is John Wick, a retired assassin who comes out of retirement when someone kills his dog. In this one, which begins a week later, matters are still reverberating, and some one has stolen his car, which calls for a lot of carnage. That settled, John is called on to pay off an old debt by helping Ian McShane take over the Assassin's Guild by flying around to Italy, Canada and Manhattan and killing what seems like hundreds of assassins.\"), Document(metadata={'source': 'john_wick_2.csv', 'row': 20, 'Review_Date': '28 May 2017', 'Review_Title': ' A New Franchise is Born\\n', 'Review_Url': '/review/rw3718180/?ref_=tt_urv', 'Author': 'claudio_carvalho', 'Rating': '8'}, page_content=\": 20\\nReview: After resolving his issues with the Russian mafia, John Wick (Keanu Reeves) returns home. But soon the mobster Santino D'Antonio (Riccardo Scamarcio) visits him to show Wick's marker and tells that he needs to help. John Wicks refuses since he is retired and Santino blows-up his house. John Wick meets the owner of the Continental hotel in New York City, Winston (Ian McShane), and he tells that Wick cannot violate the Mafia rules and shall honor the marker. Santino asks John Wick to kill his sister Gianna D'Antonio (Claudia Gerini) in Rome so that he can sit on the High Table of the criminal organizations. When John Wicks accomplishes his assignment, Santino puts a seven-million dollar contract on him attracting professional killers from everywhere. But Wick promises to kill Santino that is not protected by his marker anymore.\"), Document(metadata={'source': 'john_wick_2.csv', 'row': 21, 'Review_Date': '8 February 2017', 'Review_Title': ' Great Action Movie!\\n', 'Review_Url': '/review/rw3635784/?ref_=tt_urv', 'Author': 'MichaelNontonMulu', 'Rating': '9'}, page_content=': 21\\nReview: Wow, this is one of the best action movies that I have seen in quite some time. It is really what I was hoping for in a good old fashion action movie that was done entirely on hand to hand combat and gun shootings. This is a wonderful kick-ass movie where the killings were done so brutally with lots of bloody scenes. It also kind of remind me of the various one man army movies in the 80s played by Sylvester Stallone or Arnold Schwarzenegger. If you have seen John Wick the original (which I hope you have seen it before you see this one), then you will be amazed with this sequel. It was bloodier, more fighting, more assassins trying to kill John and longer running time. What I can say is this is an even better version than the original movie. Although in term of story, there is a bit of a more complexity in the sequel as opposed to the simplicity of the original movie.'), Document(metadata={'source': 'john_wick_2.csv', 'row': 22, 'Review_Date': '12 February 2017', 'Review_Title': ' This is how you film an action movie !\\n', 'Review_Url': '/review/rw3638970/?ref_=tt_urv', 'Author': 'destroyerwod', 'Rating': '9'}, page_content=': 22\\nReview: John Wick is one of my favourite recent years action movie and the second one pick up right where the first one left. The action is sharp, well filmed, no bad shaky cams and jump cuts like a certain bad action movie i saw recently. Its so refreshing to see everything and admire the practical stunt work.'), Document(metadata={'source': 'john_wick_2.csv', 'row': 23, 'Review_Date': '4 February 2020', 'Review_Title': ' Keanu kills everyone. Again.\\n', 'Review_Url': '/review/rw5459627/?ref_=tt_urv', 'Author': 'BA_Harrison', 'Rating': '5'}, page_content=\": 23\\nReview: I love me a bit of the old ultra-violence, but I also like a plot of some kind to go with all of the gunfire, blood and broken bones. Failing that, the gory mayhem had better be something special - something that breaks new ground in terms of action cinema. John Wick Chapter 2 is relentlessly violent, Keanu Reeves' eponymous hitman laying waste to almost everyone he crosses paths with, once again finishing most victims with a shot to the head, but the action is simply more of the same, director Chad Stahelski bringing nothing new to the table.\"), Document(metadata={'source': 'john_wick_2.csv', 'row': 24, 'Review_Date': '10 February 2017', 'Review_Title': \" Man! I didn't think Chapter 2 could out do the original, but man! This was Fantastic!\\n\", 'Review_Url': '/review/rw3637449/?ref_=tt_urv', 'Author': 'subxerogravity', 'Rating': '9'}, page_content=': 24\\nReview: No electric boogaloo here, This is one of the best Sequels ever made!')]\n",
            "[Document(metadata={'source': 'john_wick_3.csv', 'row': 0, 'Review_Date': '22 September 2019', 'Review_Title': ' Enjoyably choreographed, but the lack of consequence combined with the global scale robs it of urgency and means it outstays its welcome a bit\\n', 'Review_Url': '/review/rw5136960/?ref_=tt_urv', 'Author': 'bob the moo', 'Rating': ''}, page_content=': 0\\nReview: It is 5 years since the first John Wick film - one that took me by surprise by how silly it was as a narrative, but yet how well it delivered action sequences. The second film was only 2 years ago, and it raised the stakes and went from a man seeking revenge on another group of people, into one where the world was filled with assassins, popping up from everywhere all the time. I remember ending that film feeling like it had gone too far but that the third would probably do more of that. True enough, Parabellum (\"prepare for war\") sees the whole world filled with assassins, and a huge administrative system around them - but yet the whole lot of them can\\'t seem to cause John Wick too much trouble. As with the first film, this expands the world more than it can bear, and although it looks cool at times, the world makes no sense whatsoever and it hurts the film the more it relies on it (which it does as it expands it).'), Document(metadata={'source': 'john_wick_3.csv', 'row': 1, 'Review_Date': '21 October 2021', 'Review_Title': ' Starting to test the friendship\\n', 'Review_Url': '/review/rw7466057/?ref_=tt_urv', 'Author': 'benxrichardson', 'Rating': '6'}, page_content=\": 1\\nReview: I'm a fan of the John Wick films. The action sequences are of the highest order and there is quite a bit that feels unique in each action scene. By half way through JW3I started to long for a plot line or a human relationship. There needs to be more to a movie than just fighting.\"), Document(metadata={'source': 'john_wick_3.csv', 'row': 2, 'Review_Date': '22 December 2019', 'Review_Title': ' JW3 is about 40 min too long\\n', 'Review_Url': '/review/rw5342497/?ref_=tt_urv', 'Author': 'Calicodreamin', 'Rating': '4'}, page_content=': 2\\nReview: Undeniably action packed, but my goodness is it pointless! The whole movie is Keanu reeves wandering around New York (then Casablanca, then New York again) while killing people. I enjoy a mindless action thriller, but this is positively brain dead.'), Document(metadata={'source': 'john_wick_3.csv', 'row': 3, 'Review_Date': '27 May 2019', 'Review_Title': ' the fighting scenes get dull after a while\\n', 'Review_Url': '/review/rw4892511/?ref_=tt_urv', 'Author': 'dannton', 'Rating': '6'}, page_content=': 3\\nReview: This franchise has obviously become a parody. It seems that a very high number of the World\\'s population serve the High Table. They\\'re everywhere, behind every corner, but they cannot kill one single man, even if they stab, shoot, throw him from the hotel roof or hit him with a car at full speed. And the Head of this \"powerful organization\" lives among camels in an African desert ... There are some entertaining moments, however the numerous fighting scenes become dull after a while.'), Document(metadata={'source': 'john_wick_3.csv', 'row': 4, 'Review_Date': '7 July 2019', 'Review_Title': ' Brainless\\n', 'Review_Url': '/review/rw4982369/?ref_=tt_urv', 'Author': 'mgd_m', 'Rating': '2'}, page_content=\": 4\\nReview: Hollow plot interspersed with the most boring fighting scenes ever. Dozens and dozens of inept villains, who are there just to be shoot. Gone are the fresh sequences of the first movie.\\nSuper-uninteresting main villain. Very poor climax. Twists, just for the sake of twists. It seems like there's nobody out there capable of writing a movie anymore.\"), Document(metadata={'source': 'john_wick_3.csv', 'row': 5, 'Review_Date': '17 July 2019', 'Review_Title': ' The magic is gone\\n', 'Review_Url': '/review/rw4999970/?ref_=tt_urv', 'Author': 'soundoflight', 'Rating': '5'}, page_content=': 5\\nReview: The first John Wick film was special because it broke a mold of sorts. It went against certain action film conventions - the hero was not a muscle bound hulk like a Schwarzenegger or Stallone, the action was super fast paced, the plot was basic and straighforward, but introduced some unique elements, and there was something a bit unique and stylish about the film. John Wick was cool.'), Document(metadata={'source': 'john_wick_3.csv', 'row': 6, 'Review_Date': '7 February 2020', 'Review_Title': ' More of the same. Yawn!\\n', 'Review_Url': '/review/rw5466367/?ref_=tt_urv', 'Author': 'BA_Harrison', 'Rating': '4'}, page_content=\": 6\\nReview: Assassin John Wick is referred to as Baba Yaga in this third chapter, suggesting that he is, in fact, a supernatural being; his ability to evade death, appear and disappear like a ninja from a Godfrey Ho film, and move with lightning fast reflexes despite being in his mid-fifties confirms this fact, in my opinion. Unfortunately, Wick's invincibility means that the many action scenes in Parabellum are largely devoid of excitement, the only outcome being that Wick is still alive and all of his enemies are dead.\"), Document(metadata={'source': 'john_wick_3.csv', 'row': 7, 'Review_Date': '18 May 2019', 'Review_Title': ' Less is more\\n', 'Review_Url': '/review/rw4862630/?ref_=tt_urv', 'Author': 'drjgardner', 'Rating': '4'}, page_content=\": 7\\nReview: About mid-way through the film, after about 100 people had been shot, stabbed, strangled, or otherwise dispatched I started to yawn. Seriously! Is this a film or a video game? On the positive side, it was better than Chapter 2 which is equivalent to being healthier than a leper. Chapter 3 is already advertising Chapter 4 and we can only hope that we'll have stronger characters and a better plot.\"), Document(metadata={'source': 'john_wick_3.csv', 'row': 8, 'Review_Date': '15 May 2019', 'Review_Title': ' A brutal non-stop ride\\n', 'Review_Url': '/review/rw4854687/?ref_=tt_urv', 'Author': 'jtindahouse', 'Rating': '8'}, page_content=\": 8\\nReview: About 6 months ago I saw a picture of the set of 'John Wick: Chapter 3 - Parabellum' featuring Keanu Reeves on horseback shooting at motorcyclists. It was such a great looking shot that I have been waiting eagerly to see how it looked in the actual film ever since. It did not let me down. The style this film possesses is insane. It is one of the best looking action films I have ever seen.\"), Document(metadata={'source': 'john_wick_3.csv', 'row': 9, 'Review_Date': '15 May 2019', 'Review_Title': ' Great for Action Movie Fanatics\\n', 'Review_Url': '/review/rw4855764/?ref_=tt_urv', 'Author': 'FKDZ', 'Rating': '6'}, page_content=': 9\\nReview: Fantastically choreographed action, especially in the first 30 minutes. After that, it drops off a bit in my opinion up until the final sequence.'), Document(metadata={'source': 'john_wick_3.csv', 'row': 10, 'Review_Date': '17 May 2019', 'Review_Title': \" It's got its own action style!\\n\", 'Review_Url': '/review/rw4860412/?ref_=tt_urv', 'Author': 'ahmetkozan', 'Rating': '9'}, page_content=\": 10\\nReview: This universe, created without any source material, had to develop and expand itself in every new film. The same fiction can not be made for each film. We don't know if Derek Kolstad had thought that John Wick would be this big when he first created it, but when we came to the third film it seems clear how the story deepened and became beautiful.\"), Document(metadata={'source': 'john_wick_3.csv', 'row': 11, 'Review_Date': '1 September 2019', 'Review_Title': ' Gives the Sensation of Watching a Boring Videogame\\n', 'Review_Url': '/review/rw5093352/?ref_=tt_urv', 'Author': 'claudio_carvalho', 'Rating': '3'}, page_content=': 11\\nReview: The overrated \"John Wick: Chapter 3 - Parabellum\" is an action film that gives the sensation of watching a boring videogame. The plot is only John Wick running and killing the assassins that want the 14 million dollar award for his head. After the initial original deaths, the film becomes tiresome, boring and repetitive. My vote is three.'), Document(metadata={'source': 'john_wick_3.csv', 'row': 12, 'Review_Date': '20 May 2019', 'Review_Title': ' 1 dimensional boredom\\n', 'Review_Url': '/review/rw4868283/?ref_=tt_urv', 'Author': 'casagrandicooper', 'Rating': '1'}, page_content=\": 12\\nReview: This films is like watching someone else play a video game, and that someone has put in the immortality cheat. After 15-20 minutes, it's dull, repetitive and then ultimately stupid and lacking in any humanity.\"), Document(metadata={'source': 'john_wick_3.csv', 'row': 13, 'Review_Date': '15 May 2019', 'Review_Title': ' Pure, delirious joy in the form of yet another exhilarating thriller\\n', 'Review_Url': '/review/rw4855261/?ref_=tt_urv', 'Author': 'themadmovieman', 'Rating': '8'}, page_content=\": 13\\nReview: Following on from two deliriously entertaining, visually gorgeous and blissfully simplistic thrillers, John Wick: Chapter 3 - Parabellum keeps up the franchise's unique appeal in stunning fashion. Complete with electrifying action, beautiful cinematography, a pulsating score and a great sense of humour, the film is pretty much as purely joyful as action thrillers get, and proves two hours of brilliant entertainment.\"), Document(metadata={'source': 'john_wick_3.csv', 'row': 14, 'Review_Date': '29 August 2020', 'Review_Title': ' John Dips His Wick into Parabellum...\\n', 'Review_Url': '/review/rw6042433/?ref_=tt_urv', 'Author': 'Xstal', 'Rating': '7'}, page_content=\": 14\\nReview: Another significant increase in body count contribution, not including the injured and\\\\or maimed, as John inserts his wickedness into the flesh and bones of those whose aim is unworthy of their role in organised crime, either that, or they've never handled a weapon or are visually impaired or only shoot blanks or all three.\"), Document(metadata={'source': 'john_wick_3.csv', 'row': 15, 'Review_Date': '12 July 2019', 'Review_Title': ' John Wick is excommunicado and ...\\n', 'Review_Url': '/review/rw4990871/?ref_=tt_urv', 'Author': 'brummieman', 'Rating': '2'}, page_content=': 15\\nReview: ...totally over-rated. I enjoyed the first 10 mins and thought it was going to be good, but it quickly became the most irritating film I have seen this year and after just half hour it was hard to watch. In the first 10 mins the story is already set, he is pronounced excommunicado which means he has no access to any help or recourse , he is cut off and a huge bounty is placed on his head, from then on everyone, everywhere knows him and is after the bounty, every road he walks in and every door he walks through he finds about 50 people he needs to kill so it is literally and execution by the second repeated over and over and over and over, and after 1 hour of being irritated so much it was over for me, thankfully, I turned it off'), Document(metadata={'source': 'john_wick_3.csv', 'row': 16, 'Review_Date': '16 May 2019', 'Review_Title': \" Finally an action franchise than doesn't lose its touch!\\n\", 'Review_Url': '/review/rw4858493/?ref_=tt_urv', 'Author': 'Dannyboi94', 'Rating': '8'}, page_content=\": 16\\nReview: John Wick 3 is without a doubt the best action movie to have come out in a few years. And its so surprising and refreshing to see that movies like this still exist. Most action movies you see is filled with ridiculous amounts of shaky-cam, fast edits and way over-the-top fights. This is perfect. You can see all action clear as day, and by god the stuns in this film are extraordinary. Why the Academy Awards don't award talent like this is beyond me. There were times that I wondered if they had used CGI, because someone nuts must be willing to throw themselves from motorbikes and through glass. But whatever case it is, its a dam joy to watch.\"), Document(metadata={'source': 'john_wick_3.csv', 'row': 17, 'Review_Date': '19 May 2019', 'Review_Title': ' Too much action, lacking storyline\\n', 'Review_Url': '/review/rw4864652/?ref_=tt_urv', 'Author': 'imamdin_rabia', 'Rating': '6'}, page_content=': 17\\nReview: I liked the first two movies, both had a meaning behind all the action that takes place, this movie the plot is weak and the fight scenes way too long for the weak plot. Keanu still portrays his character as the Boogeyman really well, I enjoyed it but just felt it dragged on a bit much and the fight scene especially with Halle could have been cut down.'), Document(metadata={'source': 'john_wick_3.csv', 'row': 18, 'Review_Date': '19 May 2019', 'Review_Title': ' Silly\\n', 'Review_Url': '/review/rw4863706/?ref_=tt_urv', 'Author': 'jhr2012', 'Rating': '1'}, page_content=\": 18\\nReview: The first John Wick movie had a story. It had a plot and some character development. This movie has no such thing.\\nI like an action movie as much as the next guy, but this was way over the top. If you like gun play, endless, goofy, martial arts crap, and broken glass, this movie is for you!\\nThe last fight sequence was downright boring. I found myself wishing that the movie would just end; I didn't care who killed who. In fact, I was kind of hoping it would be Wick so that the movie would end and I could go home. The movie is about 30 minutes too long.\\nHere's hoping that this is the end of the JW franchise, but I'm sure it won't be. I can guarantee i will not be fooled into purchasing a ticket to JW 4!\"), Document(metadata={'source': 'john_wick_3.csv', 'row': 19, 'Review_Date': '22 September 2019', 'Review_Title': ' Sheer enjoyment\\n', 'Review_Url': '/review/rw5135863/?ref_=tt_urv', 'Author': 'Leofwine_draca', 'Rating': '9'}, page_content=': 19\\nReview: The inevitable third chapter of the JOHN WICK franchise continues on a high with the same quality as the last. In fact, this may just pip that one to the post to be the best JOHN WICK yet. The pacing is spot on and the plotting is measured by a huge amount of action sequences, all of which fizz and crackle with skill and energy. The movie hits the ground running as Keanu faces off with a hulking character in a library and then Triads in a weapon shop, but what really amazes here is the sheer inventiveness of the non-repetitive action. There are horse and motorbike chases, a Moroccan brawl with fighting dogs, alongside the massive action of the climax. There also seems to be a greater emphasis on hand-to-hand combat, featuring the likes of RAID actors and old-timer Mark Dacascos, which is a real pleasure as the choreography is top-notch. In terms of sheer enjoyment, this is a film hard to beat, and to criticise it at all is unnecessary. Bring on the fourth!'), Document(metadata={'source': 'john_wick_3.csv', 'row': 20, 'Review_Date': '13 July 2019', 'Review_Title': ' Boring Dull and full of Stereotypes\\n', 'Review_Url': '/review/rw4993039/?ref_=tt_urv', 'Author': 'janetwilkinson', 'Rating': '1'}, page_content=\": 20\\nReview: Sadly the third John Wick film has deteriorated into a mindless, plotless, overly violent action scene that lasts for 2 hours. Zero plot, typical anti-male female characters, ridiculous levels of gore beyond what is needed. It's a clear indication that either the population is getting dumber that we have so many 10/10 reviews for this movie, or people are being paid to post positive reviews.\"), Document(metadata={'source': 'john_wick_3.csv', 'row': 21, 'Review_Date': '31 July 2019', 'Review_Title': ' BIG FUN ⭐❕, ( B U T ).....\\n', 'Review_Url': '/review/rw5031070/?ref_=tt_urv', 'Author': 'Radio-1s_Mr-MovieMad-Ami_104-1FM', 'Rating': '7'}, page_content=': 21\\nReview: ..THE FILM-MAKERS, { VERY SIGNIFICANTLY }, HAVE FORGOTTEN TO ADD { \" F A N T A S Y \" }, TO THEIR LITTLE LIST OF GENRES APPLICABLE TO \"JOHN WICK, CHAPTER 3 : PARABELLUM\" .'), Document(metadata={'source': 'john_wick_3.csv', 'row': 22, 'Review_Date': '18 May 2019', 'Review_Title': ' Pure brutal action with shallow, uninteresting story dragging it to the mediocrity.\\n', 'Review_Url': '/review/rw4862259/?ref_=tt_urv', 'Author': 'karmazyn', 'Rating': '6'}, page_content=\": 22\\nReview: Lets contemplate about components of perfect action movie for a moment- What makes action movies special. Is it it's characters, is it ability to create fantastic choreography or maybe new, shiny special effects. Is it sound design or perhaps a good story ? What will elevate action movie to a new heights? What you need to do to create an instant classic? John Wick 3 creators might not have found all the answers but they definitely created something special and unique.\"), Document(metadata={'source': 'john_wick_3.csv', 'row': 23, 'Review_Date': '15 May 2019', 'Review_Title': ' A Masterpiece & Brilliant Sequel\\n', 'Review_Url': '/review/rw4854296/?ref_=tt_urv', 'Author': 'ymyuseda', 'Rating': '10'}, page_content=\": 23\\nReview: Rating 10/10\\nI was able to catch an advanced screening of this movie on 13th of may 2019. One words i can say here is 'amazing' yes ... this movie so amazing !! One of the best action movie i ever seen. All the fighting scenes were choreographed wonderfully according to my opinion. Excellent acting performance by Keanu Reeves a.k.a John Wick. The guns shooting scenes were entirely cool. I would recommend this movie to any fans of action movie. You won't find a better movie of this type in the theatre right now and for the fans out there who appreciate this material, it will provide a memorable experience. Go see it you wont regret it.\"), Document(metadata={'source': 'john_wick_3.csv', 'row': 24, 'Review_Date': '17 May 2019', 'Review_Title': ' Makes John Wick a superb trilogy\\n', 'Review_Url': '/review/rw4860603/?ref_=tt_urv', 'Author': 'masonsaul', 'Rating': '10'}, page_content=\": 24\\nReview: John Wick: Chapter 3 - Parabellum is quite literally about consequences, dealing with the fallout of John's actions at the end of the previous film and sending him on an even bigger odyssey of violence that continues to explore this world of assassination and deliver beautifully clean action sequences.\")]\n",
            "[Document(metadata={'source': 'john_wick_4.csv', 'row': 0, 'Review_Date': '23 May 2023', 'Review_Title': ' What a pointless film\\n', 'Review_Url': '/review/rw9073117/?ref_=tt_urv', 'Author': 'siderite', 'Rating': '4'}, page_content=\": 0\\nReview: Imagine a video game where you are shooting bad guys. Your hardware is old so everything is kind of slow and out of focus. The opponents are set to Easy and you installed a hack to give you invincibility and autoaim. And they come at you slowly, shouting, out in the open, with weapons that fire three or four bullets before they run out and they can shoot anything anyway. They use no snipers, no explosives, no traps of any kind. They can't even hit you when they're next to you and wielding a knife. And you try to fight them in a decent manner, yet your avatar moves like a 60 year old man and even with the autoaim you still suck. And if you somehow get into the many separate levels where nothing make sense, you get a big cinematic that takes you out of it. And because the cinematic is in 4k or whatever, it feels like slow motion.\"), Document(metadata={'source': 'john_wick_4.csv', 'row': 1, 'Review_Date': '30 March 2023', 'Review_Title': ' There is such a thing as too much\\n', 'Review_Url': '/review/rw8960544/?ref_=tt_urv', 'Author': 'neil-476', 'Rating': '5'}, page_content=': 1\\nReview: The Table, the international crminal brotherhood which has condemned John Wick empowers The Marquis to deal with him (and the Manager of the New York Continentale Hotel). But maybe, just maybe, there is a way out.'), Document(metadata={'source': 'john_wick_4.csv', 'row': 2, 'Review_Date': '25 March 2023', 'Review_Title': ' It got on my wick.\\n', 'Review_Url': '/review/rw8950606/?ref_=tt_urv', 'Author': 'BA_Harrison', 'Rating': '4'}, page_content=': 2\\nReview: The first three John Wick films came in fairly quick succession, with only five years between the first and third chapters, each film trying to top the one before in terms of wild set pieces. For me, it all became a bit too much, the action rapidly becoming too frenetic and over-the-top. By Parabellum (part three), I had had enough.'), Document(metadata={'source': 'john_wick_4.csv', 'row': 3, 'Review_Date': '23 May 2023', 'Review_Title': ' I was rolling my eyes the whole time... all 3 hours...\\n', 'Review_Url': '/review/rw9072963/?ref_=tt_urv', 'Author': 'namob-43673', 'Rating': '3'}, page_content=': 3\\nReview: These John Wick movies can be sort of fun in the sense that they are unintelligent violent nonsense pretending to be movies. There is something entertaining about dumb nonsense sometimes, and the first two of this franchise was decently okay in this regard. The last one and this one however not so much, only dumb.'), Document(metadata={'source': 'john_wick_4.csv', 'row': 4, 'Review_Date': '24 March 2023', 'Review_Title': ' John Wick became the parody of himself. The true identity of this franchise is completely lost.\\n', 'Review_Url': '/review/rw8948738/?ref_=tt_urv', 'Author': 'fciocca', 'Rating': '4'}, page_content=': 4\\nReview: I went to the cinema with great expectations. I have to admit that the photography is gorgeous, the locations are wonderful and the action sequences are well coordinated. However I feel that the true identity of this franchise was completely lost with this fourth chapter. The first two movies for me are the best because the stunts look more credible. \"Parabellum\" started to drop in quality, but it was still a solid flick. Here John suddenly became a superhero that can take any hit and can fall from every height and he can just keep going like nothing happened. When Chad Stahelski directed the first movie he was not expecting all this success and when the production company ordered sequels, he did not really know how to develop this saga. Now it is one of the biggest action franchises with a TV show that will be aired in the future and maybe with a 5th entry that was already approved. This got definitely out of hand and Wick basically became the parody of himself, with scenes that have forced comedic moments that do not quite deliver. In my perspective they really do not know what to invent anymore. I really hope that in the future screenwriters and the director will come up with better ideas, because it is a series with potential and it showed it in the previous chapters, but in this case it just felt pointless and purposeless.'), Document(metadata={'source': 'john_wick_4.csv', 'row': 5, 'Review_Date': '2 April 2023', 'Review_Title': ' Am I missing something here?\\n', 'Review_Url': '/review/rw8967740/?ref_=tt_urv', 'Author': 'skyhawk747', 'Rating': '4'}, page_content=': 5\\nReview: What is all the raving about with this movie? I felt it lacked a decent storyline and was 2 hours and 35 mins of fighting while the remaining 10 or so minutes was acting.'), Document(metadata={'source': 'john_wick_4.csv', 'row': 6, 'Review_Date': '24 March 2023', 'Review_Title': ' \"Yeah.\"\\n', 'Review_Url': '/review/rw8947952/?ref_=tt_urv', 'Author': 'IMDbKeepsDeletingMyReviews', 'Rating': '5'}, page_content=\": 6\\nReview: In this fourth installment of 8711's successful franchise, Keanu Reeves wearily drags himself from setpiece to setpiece, saying little, surviving the most ridiculous setups and finally achieves nothing.\"), Document(metadata={'source': 'john_wick_4.csv', 'row': 7, 'Review_Date': '23 April 2023', 'Review_Title': \" I don't understand the great scores of this movie\\n\", 'Review_Url': '/review/rw9011753/?ref_=tt_urv', 'Author': 'antti-eskelinen-329-929792', 'Rating': '4'}, page_content=\": 7\\nReview: In my opinion this is by far the worst movie of the franchise. It's just way too over the top. Everybody seems to have magical jackets now to stop the bullets.\"), Document(metadata={'source': 'john_wick_4.csv', 'row': 8, 'Review_Date': '28 May 2023', 'Review_Title': ' Disappointed.\\n', 'Review_Url': '/review/rw9082993/?ref_=tt_urv', 'Author': 'dstan-71445', 'Rating': '2'}, page_content=': 8\\nReview: Very much over rated. Repetitive, tiring and inauthentic fight choreography for 3 hrs straight. Unnatural and generic one liner filled script. No deep drama whatsoever. Just bland, perpetual killings till one is numb. Awful and fake seeming blood effects. Bland, cliched action hero.'), Document(metadata={'source': 'john_wick_4.csv', 'row': 9, 'Review_Date': '30 March 2023', 'Review_Title': ' Ridiculous, boring and pathetic...\\n', 'Review_Url': '/review/rw8959398/?ref_=tt_urv', 'Author': 'drjgardner', 'Rating': '2'}, page_content=\": 9\\nReview: ...all at the same time. This hybrid comic book-video game has a stupid plot, worse than average acting, and fight scenes that are so poorly done you don't mind going to the bathroom. Don't get me wrong. I loved John Wick 1. Thought #2 was OK. Then came #3., It showed they were out of imagination and should have stopped with #2. Now with #4 they show that they are not artists or creatives but merely clowns looking for as buck.\"), Document(metadata={'source': 'john_wick_4.csv', 'row': 10, 'Review_Date': '22 March 2023', 'Review_Title': ' How Can Anyone Choose to Watch Marvel Over This?\\n', 'Review_Url': '/review/rw8944843/?ref_=tt_urv', 'Author': 'lovemichaeljordan', 'Rating': '8'}, page_content=\": 10\\nReview: Most American action flicks released these days have poor screenplays and overuse computer-generated imagery. The John Wick franchise is one of the few exceptions, along with Mission Impossible. These franchises keep getting better with every entry. Hollywood can make action masterpieces, but Marvel has greater demand, so that's what we get most of. It's a shame.\"), Document(metadata={'source': 'john_wick_4.csv', 'row': 11, 'Review_Date': '26 April 2023', 'Review_Title': ' NOPE\\n', 'Review_Url': '/review/rw9017658/?ref_=tt_urv', 'Author': 'kskmah', 'Rating': '1'}, page_content=\": 11\\nReview: Who needs a 2hr and 40 min action movie? No one. Yes the action was good, but repeats so many times that it becomes so boring. How can hundreds of assassins not kill one man? Answer, not possible, only in this movie and series. How many times could the dog man have killed Wick? Many. So no other assassin could? Why would the table head get Caine to kill Wick when he knows he won't. You can challenge the head to a duel as a rule, but they only assigned a head for the first time ever in this movie? WTF? And then the head can select a replacement? And he selects a blind man. All Wick had to do was to stand on the side or drop down and he wouldn't get shot. I think everyone knew Wick didn't shoot in the last round, except for the stupid head bad guy. This is not an action movie, it's a fantasy.\"), Document(metadata={'source': 'john_wick_4.csv', 'row': 12, 'Review_Date': '24 March 2023', 'Review_Title': ' A new standard has been set for fight scenes\\n', 'Review_Url': '/review/rw8947764/?ref_=tt_urv', 'Author': 'FeastMode', 'Rating': '9'}, page_content=': 12\\nReview: Half of this review will be me gushing about the action. Wow. Just wow. I was in complete awe. There were multiple times I was both tearing up and laughing at how unbelievably amazing the fight scenes are. Now this is nothing new for the John Wick series. But for me, this is far and away the best action of the entire series.'), Document(metadata={'source': 'john_wick_4.csv', 'row': 13, 'Review_Date': '29 March 2023', 'Review_Title': ' Where is the STORY? A brainless video game?\\n', 'Review_Url': '/review/rw8957575/?ref_=tt_urv', 'Author': 'MovieIQTest', 'Rating': ''}, page_content=\": 13\\nReview: From the very beginning to the end, nothing but endless kills, fighting, close combats, bloods squirts or splashes, KR after four chapters, he looked older, slower and tiresome. The screenplay was so pretentious and pointless, the dialog looked forced and boring, katana swords vs. Bullets, and almost every bullet could be fenced off by the katana sword blades. The scenarios and the plots just kept stacked up without any reason or clue, just kill, kill, kill...nothing but kills. All the fighting sequences just like Shaw Brothers' 1970s poor and laughable Hong Kong martial art movies, heavily choreographically staged, looked so forced and fake. Every kill was not killed with one bullets but many, yet the handguns seemed equipped with endless bullets, bang, bang, bang, even the fallen guys already dead, but still needed to be shot several times more to increase the violent sound effect. I don't know what's the purpose of making these 4th Chapter, and I think the 1st Chapter only needed a following 2nd Chapter to end it, but what the heck, brainless young viewers need bloody fights, more dead bodies, ridiculous screenplay with clueless storyline, no real plots or real story really needed, just created something like violent video games.\"), Document(metadata={'source': 'john_wick_4.csv', 'row': 14, 'Review_Date': '23 March 2023', 'Review_Title': ' Yeah\\n', 'Review_Url': '/review/rw8946621/?ref_=tt_urv', 'Author': 'markvanwasbeek', 'Rating': '9'}, page_content=\": 14\\nReview: By now you know what to expect from a John Wick movie. I thought the franchise was losing a little momentum in chapter 3 so I was worried this could be disappointing. It's not. It's even more on steroids than any Wick before! Even close to 3 hours it doesn't feel to long which is very special for a action movie. This franchise has set new standards. If anybody says a movie is good like John Wick, it better f'n be! The set pieces as everyone mentioned before are really insane this time. The Tokyo sceney with illuminated cherry blossoms was beautiful. The only super illogical thing that bothered me was that nobody flinched at the nightclub, eventually they did but after a whole 10 minute beatdown through the whole club, but then again it's a shady nightclub for high table people. If you liked the first three movies, get your ass to the cinema. Yeah.\"), Document(metadata={'source': 'john_wick_4.csv', 'row': 15, 'Review_Date': '5 April 2023', 'Review_Title': ' Damp Wick\\n', 'Review_Url': '/review/rw8972614/?ref_=tt_urv', 'Author': 'rupali-38827', 'Rating': '4'}, page_content=': 15\\nReview: No idea how the ratings are as high as they are. If you thought the first one was enjoyable but the 3rd one was bull, read on.'), Document(metadata={'source': 'john_wick_4.csv', 'row': 16, 'Review_Date': '25 March 2023', 'Review_Title': ' John Weak 4: It Loses It Way\\n', 'Review_Url': '/review/rw8949045/?ref_=tt_urv', 'Author': 'vengeance20', 'Rating': '4'}, page_content=\": 16\\nReview: Ok, so I got back from seeing this entry yesterday night. I'm writing this review in the early hours after midnight as the film went on for a good whopping 2 hours & 39 minutes!! But we'll get to that in a bit...! Anyway, I was looking forward to this film since John Wick 3's release back in 2019 & this film has had a bit of a troubled history of getting pushed back until it finally got its March 2023 release. I must admit I was a bit skeptical, but, was looking forward to this as the John Wick films are ace, but this film was a bitter disappointment...!\"), Document(metadata={'source': 'john_wick_4.csv', 'row': 17, 'Review_Date': '16 March 2023', 'Review_Title': ' While the Wick franchise has already solidified itself one of the best in the action genre, this massive film is the most spectacular entry of the genre in 30 years.\\n', 'Review_Url': '/review/rw8932278/?ref_=tt_urv', 'Author': 'tresm87', 'Rating': '9'}, page_content=\": 17\\nReview: Stuntman turned writer/director Chad Stahelski struck gold with his 2014 surprise hit John Wick. It was somewhat of a comeback for the legendary Keanu Reeves and reinvigorated the action genre. Since then it's become THE action juggernaut franchise. Now we are on number 4 and while usually things get redone with that amount of sequels, this film innovates and thrills to new heights in an absolute epic.\"), Document(metadata={'source': 'john_wick_4.csv', 'row': 18, 'Review_Date': '17 March 2023', 'Review_Title': ' Not Just The Best John Wick, But Possibly One Of The Best Action Movies Ever\\n', 'Review_Url': '/review/rw8935367/?ref_=tt_urv', 'Author': 'cadillac20', 'Rating': '10'}, page_content=\": 18\\nReview: Ever since the original John Wick, the franchise has set a standard of what action in Hollywood should be. Thanks to Chad Stahelski and Keanu Reeve's knowledge of the technical aspects of shooting action, they've been able to deliver expertly choreographed, shot, and edited action films that are now the go to as examples of great action filmmaking. And so, the expectations for the fourth film were fairly high, especially as it became more apparent this was not only the culmination of everything before it, but a whopping 169 minutes long. Rest assured, however, that it delivers in spades. Everything we have come to know and love is here, but with an infusion of creativity like we haven't seen from the franchise yet.\"), Document(metadata={'source': 'john_wick_4.csv', 'row': 19, 'Review_Date': '17 March 2023', 'Review_Title': ' The Best John Wick Sequel\\n', 'Review_Url': '/review/rw8935117/?ref_=tt_urv', 'Author': 'tkdlifemagazine', 'Rating': '9'}, page_content=\": 19\\nReview: John Wick: Chapter 4 picks up where Chapter 3: Parabellum left off. As has been the tradition in the sequels to this beloved martial arts action franchise the action starts from the very inception of the film's opening, and lasts until the curtain falls. JW4 is no exception to that rule. What it does do is improve on the prior installment, and solidify Keanu Reeves as the greatest martial arts action star of all time. If you don't accept that notion, then you must accept the fact that it solidifies Reeves and Director, Chad Stahelski, as the greatest martial arts action pairing of modern times.\"), Document(metadata={'source': 'john_wick_4.csv', 'row': 20, 'Review_Date': '23 March 2023', 'Review_Title': ' THIS is how you justify a 3 hour runtime\\n', 'Review_Url': '/review/rw8946038/?ref_=tt_urv', 'Author': 'jtindahouse', 'Rating': '9'}, page_content=\": 20\\nReview: In a world where movie sequels seem to be loathed even before they are released, the 'John Wick' series has remained remarkably consistent and well received. In fact all three of the first films have the same IMDb rating of 7.4/10 and I noticed recently that I gave them all the same rating of 8/10. Incredibly, I think 'John Wick: Chapter 4' is the best the series has to offer. This movie was a wild ride.\"), Document(metadata={'source': 'john_wick_4.csv', 'row': 21, 'Review_Date': '27 May 2023', 'Review_Title': ' Itchy and Scratchy: The Movie...again and again\\n', 'Review_Url': '/review/rw9081081/?ref_=tt_urv', 'Author': 'leftbanker-1', 'Rating': '1'}, page_content=\": 21\\nReview: He fights and bites, he fights and bites and fights. Fight, fight fight, bite, bite, bite, it's John Wick, the silliest action movie franchise in history...and it runs 2h49m so there's a lot of extra fighting and biting.\"), Document(metadata={'source': 'john_wick_4.csv', 'row': 22, 'Review_Date': '25 March 2023', 'Review_Title': ' Horrible\\n', 'Review_Url': '/review/rw8949493/?ref_=tt_urv', 'Author': 'solidabs', 'Rating': '1'}, page_content=\": 22\\nReview: HORRIBLE movie. I love John Wick. I mean I wouldn't pay to see one, but I love the series none the less. Even liked the third one even though the ending blew baby chunks. All the 10s and 9s scores are so damn fake it's hilarious. IMDB is a joke. Someone needs to start a real movie database and weed out the fake high scores, it's as ridiculous as John Wick 4. He walks away from every major injury or collision or building fall. Then he passes away from flesh wounds. What nonsense. The whole plot is nonsense. The fights scene are so boring. I got up to make a sandwich twice. Just the typical 100 judo throws and same shots to head. Numerous coup de grace's. I feel sorry for anyone who paid for this nonsense.\"), Document(metadata={'source': 'john_wick_4.csv', 'row': 23, 'Review_Date': '27 March 2023', 'Review_Title': ' Sound And Fury Adds Up To Nothing\\n', 'Review_Url': '/review/rw8954612/?ref_=tt_urv', 'Author': 'statuskuo', 'Rating': '4'}, page_content=\": 23\\nReview: Sitting through the nearly 3 hours of this opus, I can't say that I didn't get my money's worth. But the ride was so bombastic, dark and mumbly that at a certain point it was like being stuck on a roller coaster ride that I've gone through 10 times and gradually sunk deeper and deeper into my chair.\"), Document(metadata={'source': 'john_wick_4.csv', 'row': 24, 'Review_Date': '3 June 2023', 'Review_Title': ' Almost 3 hours of nothing\\n', 'Review_Url': '/review/rw9097584/?ref_=tt_urv', 'Author': 'Phil_H', 'Rating': '4'}, page_content=': 24\\nReview: John Wick: Chapter 4 is almost three hours of Keanu Reeves engaged in a gunfight, bookended with meaningless dialog-in-place-of-plot, and a lot of people being thrown down stairs. Of all the \"Wick\" movies, this is clearly the weakest one yet. Was anything added to the overall Wick-universe narrative? No. Did we see a whole lot of inconsequential people die? Yes. Did Keanu Reeves say \"yeah\" a lot? Yes.')]\n"
          ]
        }
      ],
      "source": [
        "from langchain_community.document_loaders.csv_loader import CSVLoader\n",
        "from datetime import datetime, timedelta\n",
        "\n",
        "documents = []\n",
        "\n",
        "for i in range(1, 5):\n",
        "  loader = CSVLoader(\n",
        "      file_path=f\"john_wick_{i}.csv\",\n",
        "      metadata_columns=[\"Review_Date\", \"Review_Title\", \"Review_Url\", \"Author\", \"Rating\"]\n",
        "  )\n",
        "\n",
        "  movie_docs = loader.load()\n",
        "  print(movie_docs)\n",
        "  for doc in movie_docs:\n",
        "\n",
        "    # Add the \"Movie Title\" (John Wick 1, 2, ...)\n",
        "    doc.metadata[\"Movie_Title\"] = f\"John Wick {i}\"\n",
        "\n",
        "    # convert \"Rating\" to an `int`, if no rating is provided - assume 0 rating\n",
        "    doc.metadata[\"Rating\"] = int(doc.metadata[\"Rating\"]) if doc.metadata[\"Rating\"] else 0\n",
        "\n",
        "    # newer movies have a more recent \"last_accessed_at\"\n",
        "    doc.metadata[\"last_accessed_at\"] = (datetime.now() - timedelta(days=4-i)).strftime(\"%B %d, %Y at %I:%M %p\")\n",
        "\n",
        "  documents.extend(movie_docs)"
      ]
    },
    {
      "cell_type": "code",
      "execution_count": 6,
      "metadata": {},
      "outputs": [
        {
          "data": {
            "text/plain": [
              "100"
            ]
          },
          "execution_count": 6,
          "metadata": {},
          "output_type": "execute_result"
        }
      ],
      "source": [
        "len(documents)"
      ]
    },
    {
      "cell_type": "markdown",
      "metadata": {
        "id": "9gQphb6y0C0S"
      },
      "source": [
        "Let's look at an example document to see if everything worked as expected!"
      ]
    },
    {
      "cell_type": "code",
      "execution_count": 12,
      "metadata": {
        "colab": {
          "base_uri": "https://localhost:8080/"
        },
        "id": "PkUkCf7DaMiq",
        "outputId": "e90bd5da-1d87-423b-838a-cb6efc16b199"
      },
      "outputs": [
        {
          "data": {
            "text/plain": [
              "Document(metadata={'source': 'john_wick_1.csv', 'row': 0, 'Review_Date': '6 May 2015', 'Review_Title': ' Kinetic, concise, and stylish; John Wick kicks ass.\\n', 'Review_Url': '/review/rw3233896/?ref_=tt_urv', 'Author': 'lnvicta', 'Rating': 8, 'Movie_Title': 'John Wick 1', 'last_accessed_at': 'May 15, 2025 at 02:08 PM'}, page_content=\": 0\\nReview: The best way I can describe John Wick is to picture Taken but instead of Liam Neeson it's Keanu Reeves and instead of his daughter it's his dog. That's essentially the plot of the movie. John Wick (Reeves) is out to seek revenge on the people who took something he loved from him. It's a beautifully simple premise for an action movie - when action movies get convoluted, they get bad i.e. A Good Day to Die Hard. John Wick gives the viewers what they want: Awesome action, stylish stunts, kinetic chaos, and a relatable hero to tie it all together. John Wick succeeds in its simplicity.\")"
            ]
          },
          "execution_count": 12,
          "metadata": {},
          "output_type": "execute_result"
        }
      ],
      "source": [
        "documents[0]"
      ]
    },
    {
      "cell_type": "markdown",
      "metadata": {
        "id": "lWaQpdHl0Gzc"
      },
      "source": [
        "## Task 3: Setting up QDrant!\n",
        "\n",
        "Now that we have our documents, let's create a QDrant VectorStore with the collection name \"JohnWick\".\n",
        "\n",
        "We'll leverage OpenAI's [`text-embedding-3-small`](https://openai.com/blog/new-embedding-models-and-api-updates) because it's a very powerful (and low-cost) embedding model.\n",
        "\n",
        "> NOTE: We'll be creating additional vectorstores where necessary, but this pattern is still extremely useful."
      ]
    },
    {
      "cell_type": "code",
      "execution_count": 9,
      "metadata": {
        "id": "NT8ihRJbYmMT"
      },
      "outputs": [],
      "source": [
        "from langchain_community.vectorstores import Qdrant\n",
        "from langchain_openai import OpenAIEmbeddings\n",
        "\n",
        "embeddings = OpenAIEmbeddings(model=\"text-embedding-3-small\")\n",
        "\n",
        "vectorstore = Qdrant.from_documents(\n",
        "    documents,\n",
        "    embeddings,\n",
        "    location=\":memory:\",\n",
        "    collection_name=\"JohnWick\"\n",
        ")"
      ]
    },
    {
      "cell_type": "markdown",
      "metadata": {
        "id": "-x2SS4Rh0hiN"
      },
      "source": [
        "## Task 4: Naive RAG Chain\n",
        "\n",
        "Since we're focusing on the \"R\" in RAG today - we'll create our Retriever first."
      ]
    },
    {
      "cell_type": "markdown",
      "metadata": {
        "id": "NEH7X5Ai08FH"
      },
      "source": [
        "### R - Retrieval\n",
        "\n",
        "This naive retriever will simply look at each review as a document, and use cosine-similarity to fetch the 10 most relevant documents.\n",
        "\n",
        "> NOTE: We're choosing `10` as our `k` here to provide enough documents for our reranking process later"
      ]
    },
    {
      "cell_type": "code",
      "execution_count": 10,
      "metadata": {
        "id": "GFDPrNBtb72o"
      },
      "outputs": [],
      "source": [
        "naive_retriever = vectorstore.as_retriever(search_kwargs={\"k\" : 10})"
      ]
    },
    {
      "cell_type": "markdown",
      "metadata": {
        "id": "MbBhyQjz06dx"
      },
      "source": [
        "### A - Augmented\n",
        "\n",
        "We're going to go with a standard prompt for our simple RAG chain today! Nothing fancy here, we want this to mostly be about the Retrieval process."
      ]
    },
    {
      "cell_type": "code",
      "execution_count": 11,
      "metadata": {
        "id": "7uSz-Dbqcoki"
      },
      "outputs": [],
      "source": [
        "from langchain_core.prompts import ChatPromptTemplate\n",
        "\n",
        "RAG_TEMPLATE = \"\"\"\\\n",
        "You are a helpful and kind assistant. Use the context provided below to answer the question.\n",
        "\n",
        "If you do not know the answer, or are unsure, say you don't know.\n",
        "\n",
        "Query:\n",
        "{question}\n",
        "\n",
        "Context:\n",
        "{context}\n",
        "\"\"\"\n",
        "\n",
        "rag_prompt = ChatPromptTemplate.from_template(RAG_TEMPLATE)"
      ]
    },
    {
      "cell_type": "markdown",
      "metadata": {
        "id": "BlRzpb231GGJ"
      },
      "source": [
        "### G - Generation\n",
        "\n",
        "We're going to leverage `gpt-4.1-nano` as our LLM today, as - again - we want this to largely be about the Retrieval process."
      ]
    },
    {
      "cell_type": "code",
      "execution_count": 12,
      "metadata": {
        "id": "c-1t9H60dJLg"
      },
      "outputs": [],
      "source": [
        "from langchain_openai import ChatOpenAI\n",
        "\n",
        "chat_model = ChatOpenAI(model =\"gpt-4.1-nano\")\n"
      ]
    },
    {
      "cell_type": "markdown",
      "metadata": {
        "id": "mg3QRGzA1M2x"
      },
      "source": [
        "### LCEL RAG Chain\n",
        "\n",
        "We're going to use LCEL to construct our chain.\n",
        "\n",
        "> NOTE: This chain will be exactly the same across the various examples with the exception of our Retriever!"
      ]
    },
    {
      "cell_type": "code",
      "execution_count": 13,
      "metadata": {
        "id": "0bvstS7mdOW3"
      },
      "outputs": [],
      "source": [
        "from langchain_core.runnables import RunnablePassthrough\n",
        "from operator import itemgetter\n",
        "from langchain_core.output_parsers import StrOutputParser\n",
        "\n",
        "naive_retrieval_chain = (\n",
        "    # INVOKE CHAIN WITH: {\"question\" : \"<<SOME USER QUESTION>>\"}\n",
        "    # \"question\" : populated by getting the value of the \"question\" key\n",
        "    # \"context\"  : populated by getting the value of the \"question\" key and chaining it into the base_retriever\n",
        "    {\"context\": itemgetter(\"question\") | naive_retriever, \"question\": itemgetter(\"question\")}\n",
        "    # \"context\"  : is assigned to a RunnablePassthrough object (will not be called or considered in the next step)\n",
        "    #              by getting the value of the \"context\" key from the previous step\n",
        "    | RunnablePassthrough.assign(context=itemgetter(\"context\"))\n",
        "    # \"response\" : the \"context\" and \"question\" values are used to format our prompt object and then piped\n",
        "    #              into the LLM and stored in a key called \"response\"\n",
        "    # \"context\"  : populated by getting the value of the \"context\" key from the previous step\n",
        "    | {\"response\": rag_prompt | chat_model, \"context\": itemgetter(\"context\")}\n",
        ")"
      ]
    },
    {
      "cell_type": "markdown",
      "metadata": {
        "id": "izKujhNb1ZG8"
      },
      "source": [
        "Let's see how this simple chain does on a few different prompts.\n",
        "\n",
        "> NOTE: You might think that we've cherry picked prompts that showcase the individual skill of each of the retrieval strategies - you'd be correct!"
      ]
    },
    {
      "cell_type": "code",
      "execution_count": 77,
      "metadata": {
        "colab": {
          "base_uri": "https://localhost:8080/",
          "height": 36
        },
        "id": "LI-5ueEddku9",
        "outputId": "7f3cec18-5f4e-41bb-cf71-51ba0be5388e"
      },
      "outputs": [
        {
          "data": {
            "text/plain": [
              "'Based on the reviews provided, people generally liked John Wick. Many reviews are very positive, praising its stylish action, choreography, and overall entertainment value, with some giving ratings of 8, 9, or even 10 out of 10. However, there are a few mixed or negative opinions as well, with some reviewers giving lower ratings like 2, 5, or 6, and expressing confusion or less enthusiasm for the film. Overall, the common sentiment is that the film was well-received and appreciated by a majority of viewers.'"
            ]
          },
          "execution_count": 77,
          "metadata": {},
          "output_type": "execute_result"
        }
      ],
      "source": [
        "naive_retrieval_chain.invoke({\"question\" : \"Did people generally like John Wick?\"})[\"response\"].content"
      ]
    },
    {
      "cell_type": "code",
      "execution_count": 78,
      "metadata": {
        "colab": {
          "base_uri": "https://localhost:8080/",
          "height": 36
        },
        "id": "43zdcdUydtXh",
        "outputId": "db874e67-f568-4ed1-b863-b7c17b387052"
      },
      "outputs": [
        {
          "data": {
            "text/plain": [
              "'Yes, there is a review with a rating of 10. The URL to that review is: /review/rw4854296/?ref_=tt_urv'"
            ]
          },
          "execution_count": 78,
          "metadata": {},
          "output_type": "execute_result"
        }
      ],
      "source": [
        "naive_retrieval_chain.invoke({\"question\" : \"Do any reviews have a rating of 10? If so - can I have the URLs to those reviews?\"})[\"response\"].content"
      ]
    },
    {
      "cell_type": "code",
      "execution_count": 79,
      "metadata": {
        "colab": {
          "base_uri": "https://localhost:8080/",
          "height": 70
        },
        "id": "lpG6rlvvvKFq",
        "outputId": "a1b330b0-628e-41be-d829-9c1d55e781f5"
      },
      "outputs": [
        {
          "data": {
            "text/plain": [
              "\"In the John Wick series, the main storyline centers around John Wick, a retired hitman who seeks vengeance after a series of personal tragedies. In the first film, he comes out of retirement to hunt down gangsters who killed his dog and stole his car, uncovering a dangerous criminal underworld along the way. The sequels explore his continued involvement in this world, including helping an old friend take over the Assassin's Guild, dealing with old enemies, and confronting new threats, all while navigating a strict code of rules and intense action sequences. The series emphasizes themes of revenge, loyalty, and the consequences of one’s actions—all conveyed through stylized, high-octane combat scenes.\""
            ]
          },
          "execution_count": 79,
          "metadata": {},
          "output_type": "execute_result"
        }
      ],
      "source": [
        "naive_retrieval_chain.invoke({\"question\" : \"What happened in John Wick?\"})[\"response\"].content"
      ]
    },
    {
      "cell_type": "markdown",
      "metadata": {
        "id": "jsbfQmbr1leg"
      },
      "source": [
        "Overall, this is not bad! Let's see if we can make it better!"
      ]
    },
    {
      "cell_type": "markdown",
      "metadata": {
        "id": "Ft1vt8HPR16w"
      },
      "source": [
        "## Task 5: Best-Matching 25 (BM25) Retriever\n",
        "\n",
        "Taking a step back in time - [BM25](https://www.nowpublishers.com/article/Details/INR-019) is based on [Bag-Of-Words](https://en.wikipedia.org/wiki/Bag-of-words_model) which is a sparse representation of text.\n",
        "\n",
        "In essence, it's a way to compare how similar two pieces of text are based on the words they both contain.\n",
        "\n",
        "This retriever is very straightforward to set-up! Let's see it happen down below!\n"
      ]
    },
    {
      "cell_type": "code",
      "execution_count": 37,
      "metadata": {
        "id": "qdF4wuj5R-cG"
      },
      "outputs": [],
      "source": [
        "from langchain_community.retrievers import BM25Retriever\n",
        "\n",
        "bm25_retriever = BM25Retriever.from_documents(documents)"
      ]
    },
    {
      "cell_type": "markdown",
      "metadata": {
        "id": "KIjJlBQ8drKH"
      },
      "source": [
        "We'll construct the same chain - only changing the retriever."
      ]
    },
    {
      "cell_type": "code",
      "execution_count": 38,
      "metadata": {
        "id": "WR15EQG7SLuw"
      },
      "outputs": [],
      "source": [
        "bm25_retrieval_chain = (\n",
        "    {\"context\": itemgetter(\"question\") | bm25_retriever, \"question\": itemgetter(\"question\")}\n",
        "    | RunnablePassthrough.assign(context=itemgetter(\"context\"))\n",
        "    | {\"response\": rag_prompt | chat_model, \"context\": itemgetter(\"context\")}\n",
        ")"
      ]
    },
    {
      "cell_type": "markdown",
      "metadata": {
        "id": "0Gi-yXCDdvJk"
      },
      "source": [
        "Let's look at the responses!"
      ]
    },
    {
      "cell_type": "code",
      "execution_count": 82,
      "metadata": {
        "colab": {
          "base_uri": "https://localhost:8080/",
          "height": 53
        },
        "id": "oY9qzmm3SOrF",
        "outputId": "4d4f450f-5978-460f-f242-b32407868353"
      },
      "outputs": [
        {
          "data": {
            "text/plain": [
              "\"Based on the reviews provided, people's opinions on John Wick vary. Some reviewers highly praise the first film, calling it stylish, exciting, and a must-see for action fans, indicating that many people did like it. However, other reviews, especially for the later films, express negative opinions, describing the third movie as dull and overly violent, and the fourth as weak and lacking plot, suggesting that not everyone liked the series as it progressed. Overall, it seems that many viewers generally liked John Wick, particularly the first installment, but opinions on the later movies are more mixed.\""
            ]
          },
          "execution_count": 82,
          "metadata": {},
          "output_type": "execute_result"
        }
      ],
      "source": [
        "bm25_retrieval_chain.invoke({\"question\" : \"Did people generally like John Wick?\"})[\"response\"].content"
      ]
    },
    {
      "cell_type": "code",
      "execution_count": 83,
      "metadata": {
        "colab": {
          "base_uri": "https://localhost:8080/",
          "height": 36
        },
        "id": "igfinyneSQkh",
        "outputId": "9752d4a9-dd16-45b1-f63f-a76e93a05eb3"
      },
      "outputs": [
        {
          "data": {
            "text/plain": [
              "'Based on the provided reviews, none of the reviews have a rating of 10.'"
            ]
          },
          "execution_count": 83,
          "metadata": {},
          "output_type": "execute_result"
        }
      ],
      "source": [
        "bm25_retrieval_chain.invoke({\"question\" : \"Do any reviews have a rating of 10? If so - can I have the URLs to those reviews?\"})[\"response\"].content"
      ]
    },
    {
      "cell_type": "code",
      "execution_count": 84,
      "metadata": {
        "colab": {
          "base_uri": "https://localhost:8080/",
          "height": 53
        },
        "id": "w0H7pV_USSMQ",
        "outputId": "bdead654-3109-4143-9a30-e1d6ca8dc534"
      },
      "outputs": [
        {
          "data": {
            "text/plain": [
              "'In the John Wick series, the storyline revolves around John Wick, a former hitman seeking vengeance and redemption. The movies depict intense and stylized action sequences, with Wick facing numerous assassins and criminal organizations. Throughout the series, Wick navigates a dangerous underworld filled with elaborate rules, rivalries, and deadly confrontations. The films are known for their choreographed action, emotional depth, and a complex universe of assassin societies.'"
            ]
          },
          "execution_count": 84,
          "metadata": {},
          "output_type": "execute_result"
        }
      ],
      "source": [
        "bm25_retrieval_chain.invoke({\"question\" : \"What happened in John Wick?\"})[\"response\"].content"
      ]
    },
    {
      "cell_type": "markdown",
      "metadata": {
        "id": "zvg5xHaUdxCl"
      },
      "source": [
        "It's not clear that this is better or worse - but the `I don't know` isn't great!"
      ]
    },
    {
      "cell_type": "markdown",
      "metadata": {
        "id": "Q-dcbFn2vpZF"
      },
      "source": [
        "## Task 6: Contextual Compression (Using Reranking)\n",
        "\n",
        "Contextual Compression is a fairly straightforward idea: We want to \"compress\" our retrieved context into just the most useful bits.\n",
        "\n",
        "There are a few ways we can achieve this - but we're going to look at a specific example called reranking.\n",
        "\n",
        "The basic idea here is this:\n",
        "\n",
        "- We retrieve lots of documents that are very likely related to our query vector\n",
        "- We \"compress\" those documents into a smaller set of *more* related documents using a reranking algorithm.\n",
        "\n",
        "We'll be leveraging Cohere's Rerank model for our reranker today!\n",
        "\n",
        "All we need to do is the following:\n",
        "\n",
        "- Create a basic retriever\n",
        "- Create a compressor (reranker, in this case)\n",
        "\n",
        "That's it!\n",
        "\n",
        "Let's see it in the code below!"
      ]
    },
    {
      "cell_type": "code",
      "execution_count": 15,
      "metadata": {
        "id": "psHvO2K1v_ZQ"
      },
      "outputs": [],
      "source": [
        "from langchain.retrievers.contextual_compression import ContextualCompressionRetriever\n",
        "from langchain_cohere import CohereRerank\n",
        "\n",
        "compressor = CohereRerank(model=\"rerank-english-v3.0\")\n",
        "compression_retriever = ContextualCompressionRetriever(\n",
        "    base_compressor=compressor, base_retriever=naive_retriever\n",
        ")"
      ]
    },
    {
      "cell_type": "markdown",
      "metadata": {
        "id": "_TA9RB2x-j7P"
      },
      "source": [
        "Let's create our chain again, and see how this does!"
      ]
    },
    {
      "cell_type": "code",
      "execution_count": 16,
      "metadata": {
        "id": "1BXqmxvHwX6T"
      },
      "outputs": [],
      "source": [
        "contextual_compression_retrieval_chain = (\n",
        "    {\"context\": itemgetter(\"question\") | compression_retriever, \"question\": itemgetter(\"question\")}\n",
        "    | RunnablePassthrough.assign(context=itemgetter(\"context\"))\n",
        "    | {\"response\": rag_prompt | chat_model, \"context\": itemgetter(\"context\")}\n",
        ")"
      ]
    },
    {
      "cell_type": "code",
      "execution_count": 87,
      "metadata": {
        "colab": {
          "base_uri": "https://localhost:8080/",
          "height": 36
        },
        "id": "V3iGpokswcBb",
        "outputId": "f15d2aa1-5e8b-417d-f623-eb835d072e59"
      },
      "outputs": [
        {
          "data": {
            "text/plain": [
              "\"Based on the reviews provided, people generally liked John Wick. The first two reviews are highly positive, with ratings of 9 and 10 out of 10, praising the film's action sequences, style, and Keanu Reeves' performance. The third review, however, is more mixed, giving a rating of 5 out of 10 and expressing some disappointment, but overall, the majority of the reviews indicate that people liked the movie.\""
            ]
          },
          "execution_count": 87,
          "metadata": {},
          "output_type": "execute_result"
        }
      ],
      "source": [
        "contextual_compression_retrieval_chain.invoke({\"question\" : \"Did people generally like John Wick?\"})[\"response\"].content"
      ]
    },
    {
      "cell_type": "code",
      "execution_count": 88,
      "metadata": {
        "colab": {
          "base_uri": "https://localhost:8080/",
          "height": 53
        },
        "id": "7u_k0i4OweUd",
        "outputId": "be5fccc8-2352-4189-c524-bbeaa28cf799"
      },
      "outputs": [
        {
          "data": {
            "text/plain": [
              "'Yes, there is a review with a rating of 10. The URL to that review is: /review/rw4854296/?ref_=tt_urv'"
            ]
          },
          "execution_count": 88,
          "metadata": {},
          "output_type": "execute_result"
        }
      ],
      "source": [
        "contextual_compression_retrieval_chain.invoke({\"question\" : \"Do any reviews have a rating of 10? If so - can I have the URLs to those reviews?\"})[\"response\"].content"
      ]
    },
    {
      "cell_type": "code",
      "execution_count": 89,
      "metadata": {
        "colab": {
          "base_uri": "https://localhost:8080/",
          "height": 70
        },
        "id": "zn1EqaGqweXN",
        "outputId": "42bc5972-4164-46eb-f49d-4272f39bb89b"
      },
      "outputs": [
        {
          "data": {
            "text/plain": [
              "\"In the John Wick movies, John Wick is a retired hitman who returns to his violent past after a series of events. In the first film, he comes out of retirement to avenge the death of his dog and the theft of his car, leading to a relentless quest for vengeance against those who wronged him. The second film involves him being drawn back into the criminal underworld when a former colleague asks for his help, which results in a series of violent confrontations and a bounty on his head. Overall, the story revolves around Wick's skills as an assassin, his struggles with the criminal organizations, and his desire for peace amidst deadly chaos.\""
            ]
          },
          "execution_count": 89,
          "metadata": {},
          "output_type": "execute_result"
        }
      ],
      "source": [
        "contextual_compression_retrieval_chain.invoke({\"question\" : \"What happened in John Wick?\"})[\"response\"].content"
      ]
    },
    {
      "cell_type": "markdown",
      "metadata": {
        "id": "OEbT0g2S-mZ4"
      },
      "source": [
        "We'll need to rely on something like Ragas to help us get a better sense of how this is performing overall - but it \"feels\" better!"
      ]
    },
    {
      "cell_type": "markdown",
      "metadata": {
        "id": "qqbghrBEQNn5"
      },
      "source": [
        "## Task 7: Multi-Query Retriever\n",
        "\n",
        "Typically in RAG we have a single query - the one provided by the user.\n",
        "\n",
        "What if we had....more than one query!\n",
        "\n",
        "In essence, a Multi-Query Retriever works by:\n",
        "\n",
        "1. Taking the original user query and creating `n` number of new user queries using an LLM.\n",
        "2. Retrieving documents for each query.\n",
        "3. Using all unique retrieved documents as context\n",
        "\n",
        "So, how is it to set-up? Not bad! Let's see it down below!\n",
        "\n"
      ]
    },
    {
      "cell_type": "code",
      "execution_count": 17,
      "metadata": {
        "id": "pfM26ReXQjzU"
      },
      "outputs": [],
      "source": [
        "from langchain.retrievers.multi_query import MultiQueryRetriever\n",
        "\n",
        "multi_query_retriever = MultiQueryRetriever.from_llm(\n",
        "    retriever=naive_retriever, llm=chat_model\n",
        ")"
      ]
    },
    {
      "cell_type": "code",
      "execution_count": 18,
      "metadata": {
        "id": "1vRc129jQ5WW"
      },
      "outputs": [],
      "source": [
        "multi_query_retrieval_chain = (\n",
        "    {\"context\": itemgetter(\"question\") | multi_query_retriever, \"question\": itemgetter(\"question\")}\n",
        "    | RunnablePassthrough.assign(context=itemgetter(\"context\"))\n",
        "    | {\"response\": rag_prompt | chat_model, \"context\": itemgetter(\"context\")}\n",
        ")"
      ]
    },
    {
      "cell_type": "code",
      "execution_count": 92,
      "metadata": {
        "colab": {
          "base_uri": "https://localhost:8080/",
          "height": 53
        },
        "id": "CGgNuOb3Q3M9",
        "outputId": "c5273ecf-da35-40b8-fbdb-0f8beab425f7"
      },
      "outputs": [
        {
          "data": {
            "text/plain": [
              "'Based on the reviews provided, people generally liked John Wick. Several reviews are very positive, highlighting the film\\'s exciting action sequences, stylish visuals, and overall entertainment value. For example, reviews with ratings of 9 and 8 praise the movies as \"sheer enjoyment\" and \"slick, violent fun,\" and mention that the franchise has set new standards for action films. Although some reviews are more mixed or negative, the overall sentiment leans toward enjoyment and appreciation of the series\\' action and style.'"
            ]
          },
          "execution_count": 92,
          "metadata": {},
          "output_type": "execute_result"
        }
      ],
      "source": [
        "multi_query_retrieval_chain.invoke({\"question\" : \"Did people generally like John Wick?\"})[\"response\"].content"
      ]
    },
    {
      "cell_type": "code",
      "execution_count": 93,
      "metadata": {
        "colab": {
          "base_uri": "https://localhost:8080/",
          "height": 36
        },
        "id": "aAlSthxrRDBC",
        "outputId": "230ff807-23ae-4d25-8d11-cfdbed0b77cb"
      },
      "outputs": [
        {
          "data": {
            "text/plain": [
              "'Yes, there are reviews with a rating of 10. The URLs to those reviews are:\\n\\n1. /review/rw4854296/?ref_=tt_urv\\n2. /review/rw9033669/?ref_=tt_urv'"
            ]
          },
          "execution_count": 93,
          "metadata": {},
          "output_type": "execute_result"
        }
      ],
      "source": [
        "multi_query_retrieval_chain.invoke({\"question\" : \"Do any reviews have a rating of 10? If so - can I have the URLs to those reviews?\"})[\"response\"].content"
      ]
    },
    {
      "cell_type": "code",
      "execution_count": 94,
      "metadata": {
        "colab": {
          "base_uri": "https://localhost:8080/",
          "height": 88
        },
        "id": "Uv1mpCK8REs4",
        "outputId": "00fbc22a-ed9b-4613-9695-0b179e3f8369"
      },
      "outputs": [
        {
          "data": {
            "text/plain": [
              "\"In the John Wick film series, the story revolves around a retired hitman named John Wick, played by Keanu Reeves, who seeks revenge after a series of personal tragedies. In the first film, he comes out of retirement after gangsters kill his dog and steal his car, leading him on a violent and relentless vendetta against those who wronged him. The series continues to explore his involvement in the criminal underworld, where he faces increasingly dangerous enemies, including Russian mobsters and professional killers, all while navigating a highly secretive assassin society with strict rules. The films are known for their stylish action sequences, choreography, and the protagonist's quest for vengeance and peace.\""
            ]
          },
          "execution_count": 94,
          "metadata": {},
          "output_type": "execute_result"
        }
      ],
      "source": [
        "multi_query_retrieval_chain.invoke({\"question\" : \"What happened in John Wick?\"})[\"response\"].content"
      ]
    },
    {
      "cell_type": "markdown",
      "metadata": {
        "id": "EDEawBf_d_3G"
      },
      "source": [
        "## Task 8: Parent Document Retriever\n",
        "\n",
        "A \"small-to-big\" strategy - the Parent Document Retriever works based on a simple strategy:\n",
        "\n",
        "1. Each un-split \"document\" will be designated as a \"parent document\" (You could use larger chunks of document as well, but our data format allows us to consider the overall document as the parent chunk)\n",
        "2. Store those \"parent documents\" in a memory store (not a VectorStore)\n",
        "3. We will chunk each of those documents into smaller documents, and associate them with their respective parents, and store those in a VectorStore. We'll call those \"child chunks\".\n",
        "4. When we query our Retriever, we will do a similarity search comparing our query vector to the \"child chunks\".\n",
        "5. Instead of returning the \"child chunks\", we'll return their associated \"parent chunks\".\n",
        "\n",
        "Okay, maybe that was a few steps - but the basic idea is this:\n",
        "\n",
        "- Search for small documents\n",
        "- Return big documents\n",
        "\n",
        "The intuition is that we're likely to find the most relevant information by limiting the amount of semantic information that is encoded in each embedding vector - but we're likely to miss relevant surrounding context if we only use that information.\n",
        "\n",
        "Let's start by creating our \"parent documents\" and defining a `RecursiveCharacterTextSplitter`."
      ]
    },
    {
      "cell_type": "code",
      "execution_count": 19,
      "metadata": {
        "id": "qJ53JJuMd_ZH"
      },
      "outputs": [],
      "source": [
        "from langchain.retrievers import ParentDocumentRetriever\n",
        "from langchain.storage import InMemoryStore\n",
        "from langchain_text_splitters import RecursiveCharacterTextSplitter\n",
        "from qdrant_client import QdrantClient, models\n",
        "\n",
        "parent_docs = documents\n",
        "child_splitter = RecursiveCharacterTextSplitter(chunk_size=200)"
      ]
    },
    {
      "cell_type": "markdown",
      "metadata": {
        "id": "oOpXfVUH3gL3"
      },
      "source": [
        "We'll need to set up a new QDrant vectorstore - and we'll use another useful pattern to do so!\n",
        "\n",
        "> NOTE: We are manually defining our embedding dimension, you'll need to change this if you're using a different embedding model."
      ]
    },
    {
      "cell_type": "code",
      "execution_count": 20,
      "metadata": {
        "colab": {
          "base_uri": "https://localhost:8080/"
        },
        "id": "rzFc-_9HlGQ-",
        "outputId": "223662dd-c36f-42f7-d1b0-b086e571484e"
      },
      "outputs": [
        {
          "name": "stderr",
          "output_type": "stream",
          "text": [
            "/tmp/ipykernel_892067/3574430551.py:8: LangChainDeprecationWarning: The class `Qdrant` was deprecated in LangChain 0.0.37 and will be removed in 1.0. An updated version of the class exists in the :class:`~langchain-qdrant package and should be used instead. To use it run `pip install -U :class:`~langchain-qdrant` and import as `from :class:`~langchain_qdrant import Qdrant``.\n",
            "  parent_document_vectorstore = Qdrant(\n"
          ]
        }
      ],
      "source": [
        "client = QdrantClient(location=\":memory:\")\n",
        "\n",
        "client.create_collection(\n",
        "    collection_name=\"full_documents\",\n",
        "    vectors_config=models.VectorParams(size=1536, distance=models.Distance.COSINE)\n",
        ")\n",
        "\n",
        "parent_document_vectorstore = Qdrant(\n",
        "    collection_name=\"full_documents\", embeddings=OpenAIEmbeddings(model=\"text-embedding-3-small\"), client=client\n",
        ")"
      ]
    },
    {
      "cell_type": "markdown",
      "metadata": {
        "id": "sf_g95FA3s6w"
      },
      "source": [
        "Now we can create our `InMemoryStore` that will hold our \"parent documents\" - and build our retriever!"
      ]
    },
    {
      "cell_type": "code",
      "execution_count": 21,
      "metadata": {
        "id": "BpWVjPf4fLUp"
      },
      "outputs": [],
      "source": [
        "store = InMemoryStore()\n",
        "\n",
        "parent_document_retriever = ParentDocumentRetriever(\n",
        "    vectorstore = parent_document_vectorstore,\n",
        "    docstore=store,\n",
        "    child_splitter=child_splitter,\n",
        ")"
      ]
    },
    {
      "cell_type": "markdown",
      "metadata": {
        "id": "KoYmSWfE32Zo"
      },
      "source": [
        "By default, this is empty as we haven't added any documents - let's add some now!"
      ]
    },
    {
      "cell_type": "code",
      "execution_count": 22,
      "metadata": {
        "id": "iQ2ZzfKigMZc"
      },
      "outputs": [],
      "source": [
        "parent_document_retriever.add_documents(parent_docs, ids=None)"
      ]
    },
    {
      "cell_type": "markdown",
      "metadata": {
        "id": "bI7Tip1335rE"
      },
      "source": [
        "We'll create the same chain we did before - but substitute our new `parent_document_retriever`."
      ]
    },
    {
      "cell_type": "code",
      "execution_count": 23,
      "metadata": {
        "id": "Qq_adt2KlSqp"
      },
      "outputs": [],
      "source": [
        "parent_document_retrieval_chain = (\n",
        "    {\"context\": itemgetter(\"question\") | parent_document_retriever, \"question\": itemgetter(\"question\")}\n",
        "    | RunnablePassthrough.assign(context=itemgetter(\"context\"))\n",
        "    | {\"response\": rag_prompt | chat_model, \"context\": itemgetter(\"context\")}\n",
        ")"
      ]
    },
    {
      "cell_type": "markdown",
      "metadata": {
        "id": "jNolUVQb4Apt"
      },
      "source": [
        "Let's give it a whirl!"
      ]
    },
    {
      "cell_type": "code",
      "execution_count": 103,
      "metadata": {
        "colab": {
          "base_uri": "https://localhost:8080/",
          "height": 70
        },
        "id": "TXB5i89Zly5W",
        "outputId": "94c240be-7c5b-4c58-9eee-56d93285a054"
      },
      "outputs": [
        {
          "data": {
            "text/plain": [
              "\"Based on the provided reviews, people's opinions on John Wick vary. Some reviewers express strong positive feelings, calling the series highly recommended and well choreographed. However, at least one reviewer gave a very negative review, criticizing the latest movie in the series and expressing dislike for it. Overall, many seem to like the series, but opinions on the fourth film are mixed.\""
            ]
          },
          "execution_count": 103,
          "metadata": {},
          "output_type": "execute_result"
        }
      ],
      "source": [
        "parent_document_retrieval_chain.invoke({\"question\" : \"Did people generally like John Wick?\"})[\"response\"].content"
      ]
    },
    {
      "cell_type": "code",
      "execution_count": 104,
      "metadata": {
        "colab": {
          "base_uri": "https://localhost:8080/",
          "height": 36
        },
        "id": "V5F1T-wNl3cg",
        "outputId": "9b81e72e-5db7-4b8a-b25b-400ea0df5335"
      },
      "outputs": [
        {
          "data": {
            "text/plain": [
              "'Yes, there is a review with a rating of 10. The URL to that review is: /review/rw4854296/?ref_=tt_urv'"
            ]
          },
          "execution_count": 104,
          "metadata": {},
          "output_type": "execute_result"
        }
      ],
      "source": [
        "parent_document_retrieval_chain.invoke({\"question\" : \"Do any reviews have a rating of 10? If so - can I have the URLs to those reviews?\"})[\"response\"].content"
      ]
    },
    {
      "cell_type": "code",
      "execution_count": 105,
      "metadata": {
        "colab": {
          "base_uri": "https://localhost:8080/",
          "height": 70
        },
        "id": "ZqARszGzvGcG",
        "outputId": "8867f83c-db13-4db4-d57f-9bd51d32cd8a"
      },
      "outputs": [
        {
          "data": {
            "text/plain": [
              "\"In the John Wick film series, John Wick is a retired assassin who is drawn back into the criminal underworld. In the first movie, he seeks revenge after gangsters kill his dog and steal his car, unleashing a violent rampage against those who wronged him. The second installment continues his adventures, with Wick pulled back in when he is forced to help an Italian crime boss and gets entangled in a series of violent confrontations across different locations. Overall, the series depicts John Wick's journey of vengeance, action-packed battles, and his struggle to find peace while dealing with the deadly consequences of his past.\""
            ]
          },
          "execution_count": 105,
          "metadata": {},
          "output_type": "execute_result"
        }
      ],
      "source": [
        "parent_document_retrieval_chain.invoke({\"question\" : \"What happened in John Wick?\"})[\"response\"].content"
      ]
    },
    {
      "cell_type": "markdown",
      "metadata": {
        "id": "B41cj42s4DPM"
      },
      "source": [
        "Overall, the performance *seems* largely the same. We can leverage a tool like [Ragas]() to more effectively answer the question about the performance."
      ]
    },
    {
      "cell_type": "markdown",
      "metadata": {
        "id": "VUrIBKl_TwS9"
      },
      "source": [
        "## Task 9: Ensemble Retriever\n",
        "\n",
        "In brief, an Ensemble Retriever simply takes 2, or more, retrievers and combines their retrieved documents based on a rank-fusion algorithm.\n",
        "\n",
        "In this case - we're using the [Reciprocal Rank Fusion](https://plg.uwaterloo.ca/~gvcormac/cormacksigir09-rrf.pdf) algorithm.\n",
        "\n",
        "Setting it up is as easy as providing a list of our desired retrievers - and the weights for each retriever."
      ]
    },
    {
      "cell_type": "code",
      "execution_count": 24,
      "metadata": {
        "id": "8j7jpZsKTxic"
      },
      "outputs": [],
      "source": [
        "from langchain.retrievers import EnsembleRetriever\n",
        "\n",
        "retriever_list = [bm25_retriever, naive_retriever, parent_document_retriever, compression_retriever, multi_query_retriever]\n",
        "equal_weighting = [1/len(retriever_list)] * len(retriever_list)\n",
        "\n",
        "ensemble_retriever = EnsembleRetriever(\n",
        "    retrievers=retriever_list, weights=equal_weighting\n",
        ")"
      ]
    },
    {
      "cell_type": "markdown",
      "metadata": {
        "id": "kpo9Psl5hhJ-"
      },
      "source": [
        "We'll pack *all* of these retrievers together in an ensemble."
      ]
    },
    {
      "cell_type": "code",
      "execution_count": 25,
      "metadata": {
        "id": "KZ__EZwpUKkd"
      },
      "outputs": [],
      "source": [
        "ensemble_retrieval_chain = (\n",
        "    {\"context\": itemgetter(\"question\") | ensemble_retriever, \"question\": itemgetter(\"question\")}\n",
        "    | RunnablePassthrough.assign(context=itemgetter(\"context\"))\n",
        "    | {\"response\": rag_prompt | chat_model, \"context\": itemgetter(\"context\")}\n",
        ")"
      ]
    },
    {
      "cell_type": "markdown",
      "metadata": {
        "id": "SSsvHpRMj24L"
      },
      "source": [
        "Let's look at our results!"
      ]
    },
    {
      "cell_type": "code",
      "execution_count": 108,
      "metadata": {
        "colab": {
          "base_uri": "https://localhost:8080/",
          "height": 70
        },
        "id": "0lMvqL88UQI-",
        "outputId": "d86dd5f7-0a13-4836-c0ce-cc4c431fd889"
      },
      "outputs": [
        {
          "data": {
            "text/plain": [
              "'Based on the reviews provided, people generally liked John Wick. Many reviews are highly positive, praising the film\\'s action sequences, style, and Keanu Reeves\\' performance. For example, one review gave it a 10/10, describing it as \"something special,\" and others rated it 9 or 8, highlighting its fluid action, stylish world-building, and entertainment value. While there are some negative opinions, such as ratings of 1 or 2, the overall sentiment leans toward appreciation and enjoyment of the film.'"
            ]
          },
          "execution_count": 108,
          "metadata": {},
          "output_type": "execute_result"
        }
      ],
      "source": [
        "ensemble_retrieval_chain.invoke({\"question\" : \"Did people generally like John Wick?\"})[\"response\"].content"
      ]
    },
    {
      "cell_type": "code",
      "execution_count": 109,
      "metadata": {
        "colab": {
          "base_uri": "https://localhost:8080/",
          "height": 53
        },
        "id": "MNFWLYECURI1",
        "outputId": "b17973b5-66a9-4481-97d5-880b5754b5c5"
      },
      "outputs": [
        {
          "data": {
            "text/plain": [
              "'Yes, there are reviews with a rating of 10. Here are the URLs to those reviews:\\n\\n1. [Review URL](https://example.com/review/rw4854296/?ref_=tt_urv) — Review titled \"A Masterpiece & Brilliant Sequel\" for John Wick 3\\n2. [Review URL](https://example.com/review/rw8991670/?ref_=tt_urv) — Review titled \"I Don\\'t Get It\" for John Wick 1\\n3. [Review URL](https://example.com/review/rw9033669/?ref_=tt_urv) — Review titled \"You don\\'t mess with another person\\'s dog. It\\'s as simple as that!\" for John Wick 1\\n\\n(Note: The actual URLs are as provided in the data: /review/rw4854296/?ref_=tt_urv, /review/rw8991670/?ref_=tt_urv, and /review/rw9033669/?ref_=tt_urv. If you need clickable links, you can prepend the base website domain as needed.)'"
            ]
          },
          "execution_count": 109,
          "metadata": {},
          "output_type": "execute_result"
        }
      ],
      "source": [
        "ensemble_retrieval_chain.invoke({\"question\" : \"Do any reviews have a rating of 10? If so - can I have the URLs to those reviews?\"})[\"response\"].content"
      ]
    },
    {
      "cell_type": "code",
      "execution_count": 110,
      "metadata": {
        "colab": {
          "base_uri": "https://localhost:8080/",
          "height": 88
        },
        "id": "A7qbHfWgUR4c",
        "outputId": "f7373144-59ef-4fc7-b75d-ca00e7df881e"
      },
      "outputs": [
        {
          "data": {
            "text/plain": [
              "\"In the John Wick film series, the storyline centers around John Wick, an ex-hitman who seeks revenge after a series of tragic events. The first movie reveals that Wick's beloved dog is killed and his car is stolen by gangsters, prompting him to come out of retirement to hunt down those responsible. Over the series, Wick confronts various criminal organizations, navigates the rules of a secret assassin society, and faces escalating challenges from enemies and professional killers, all while trying to find peace. The films are known for their stylized action sequences, world-building within the criminal underworld, and themes of vengeance and consequence.\""
            ]
          },
          "execution_count": 110,
          "metadata": {},
          "output_type": "execute_result"
        }
      ],
      "source": [
        "ensemble_retrieval_chain.invoke({\"question\" : \"What happened in John Wick?\"})[\"response\"].content"
      ]
    },
    {
      "cell_type": "markdown",
      "metadata": {
        "id": "MopbkNJAXVaN"
      },
      "source": [
        "## Task 10: Semantic Chunking\n",
        "\n",
        "While this is not a retrieval method - it *is* an effective way of increasing retrieval performance on corpora that have clean semantic breaks in them.\n",
        "\n",
        "Essentially, Semantic Chunking is implemented by:\n",
        "\n",
        "1. Embedding all sentences in the corpus.\n",
        "2. Combining or splitting sequences of sentences based on their semantic similarity based on a number of [possible thresholding methods](https://python.langchain.com/docs/how_to/semantic-chunker/):\n",
        "  - `percentile`\n",
        "  - `standard_deviation`\n",
        "  - `interquartile`\n",
        "  - `gradient`\n",
        "3. Each sequence of related sentences is kept as a document!\n",
        "\n",
        "Let's see how to implement this!\n",
        "\n",
        "> NOTE: You do not need to run this cell if you're running this locally"
      ]
    },
    {
      "cell_type": "code",
      "execution_count": null,
      "metadata": {
        "colab": {
          "base_uri": "https://localhost:8080/"
        },
        "id": "1dHeB-yGXneL",
        "outputId": "efc59105-518a-4134-9228-d98b8a97e08e"
      },
      "outputs": [
        {
          "name": "stdout",
          "output_type": "stream",
          "text": [
            "\u001b[2K     \u001b[90m━━━━━━━━━━━━━━━━━━━━━━━━━━━━━━━━━━━━━━━━\u001b[0m \u001b[32m50.4/50.4 kB\u001b[0m \u001b[31m1.1 MB/s\u001b[0m eta \u001b[36m0:00:00\u001b[0m\n",
            "\u001b[2K   \u001b[90m━━━━━━━━━━━━━━━━━━━━━━━━━━━━━━━━━━━━━━━━\u001b[0m \u001b[32m208.1/208.1 kB\u001b[0m \u001b[31m7.3 MB/s\u001b[0m eta \u001b[36m0:00:00\u001b[0m\n",
            "\u001b[2K   \u001b[90m━━━━━━━━━━━━━━━━━━━━━━━━━━━━━━━━━━━━━━━━\u001b[0m \u001b[32m2.4/2.4 MB\u001b[0m \u001b[31m40.4 MB/s\u001b[0m eta \u001b[36m0:00:00\u001b[0m\n",
            "\u001b[2K   \u001b[90m━━━━━━━━━━━━━━━━━━━━━━━━━━━━━━━━━━━━━━━━\u001b[0m \u001b[32m399.9/399.9 kB\u001b[0m \u001b[31m17.4 MB/s\u001b[0m eta \u001b[36m0:00:00\u001b[0m\n",
            "\u001b[2K   \u001b[90m━━━━━━━━━━━━━━━━━━━━━━━━━━━━━━━━━━━━━━━━\u001b[0m \u001b[32m1.0/1.0 MB\u001b[0m \u001b[31m32.5 MB/s\u001b[0m eta \u001b[36m0:00:00\u001b[0m\n",
            "\u001b[2K   \u001b[90m━━━━━━━━━━━━━━━━━━━━━━━━━━━━━━━━━━━━━━━━\u001b[0m \u001b[32m292.1/292.1 kB\u001b[0m \u001b[31m15.6 MB/s\u001b[0m eta \u001b[36m0:00:00\u001b[0m\n",
            "\u001b[2K   \u001b[90m━━━━━━━━━━━━━━━━━━━━━━━━━━━━━━━━━━━━━━━━\u001b[0m \u001b[32m76.4/76.4 kB\u001b[0m \u001b[31m4.3 MB/s\u001b[0m eta \u001b[36m0:00:00\u001b[0m\n",
            "\u001b[2K   \u001b[90m━━━━━━━━━━━━━━━━━━━━━━━━━━━━━━━━━━━━━━━━\u001b[0m \u001b[32m77.9/77.9 kB\u001b[0m \u001b[31m4.2 MB/s\u001b[0m eta \u001b[36m0:00:00\u001b[0m\n",
            "\u001b[2K   \u001b[90m━━━━━━━━━━━━━━━━━━━━━━━━━━━━━━━━━━━━━━━━\u001b[0m \u001b[32m49.3/49.3 kB\u001b[0m \u001b[31m2.8 MB/s\u001b[0m eta \u001b[36m0:00:00\u001b[0m\n",
            "\u001b[2K   \u001b[90m━━━━━━━━━━━━━━━━━━━━━━━━━━━━━━━━━━━━━━━━\u001b[0m \u001b[32m141.9/141.9 kB\u001b[0m \u001b[31m8.8 MB/s\u001b[0m eta \u001b[36m0:00:00\u001b[0m\n",
            "\u001b[2K   \u001b[90m━━━━━━━━━━━━━━━━━━━━━━━━━━━━━━━━━━━━━━━━\u001b[0m \u001b[32m58.3/58.3 kB\u001b[0m \u001b[31m3.4 MB/s\u001b[0m eta \u001b[36m0:00:00\u001b[0m\n",
            "\u001b[?25h"
          ]
        }
      ],
      "source": [
        "#!pip install -qU langchain_experimental"
      ]
    },
    {
      "cell_type": "markdown",
      "metadata": {
        "id": "U9ciZbFEldv_"
      },
      "source": [
        "We'll use the `percentile` thresholding method for this example which will:\n",
        "\n",
        "Calculate all distances between sentences, and then break apart sequences of setences that exceed a given percentile among all distances."
      ]
    },
    {
      "cell_type": "code",
      "execution_count": 26,
      "metadata": {
        "id": "66EIEWiEYl5y"
      },
      "outputs": [],
      "source": [
        "from langchain_experimental.text_splitter import SemanticChunker\n",
        "\n",
        "semantic_chunker = SemanticChunker(\n",
        "    embeddings,\n",
        "    breakpoint_threshold_type=\"percentile\"\n",
        ")"
      ]
    },
    {
      "cell_type": "markdown",
      "metadata": {
        "id": "YqoKmz12mhRW"
      },
      "source": [
        "Now we can split our documents."
      ]
    },
    {
      "cell_type": "code",
      "execution_count": 26,
      "metadata": {
        "id": "ROcV7o68ZIq7"
      },
      "outputs": [],
      "source": [
        "semantic_documents = semantic_chunker.split_documents(documents)"
      ]
    },
    {
      "cell_type": "markdown",
      "metadata": {
        "id": "L8-LNC-Xmjex"
      },
      "source": [
        "Let's create a new vector store."
      ]
    },
    {
      "cell_type": "code",
      "execution_count": 27,
      "metadata": {
        "id": "h3sl9QjyZhIe"
      },
      "outputs": [],
      "source": [
        "semantic_vectorstore = Qdrant.from_documents(\n",
        "    semantic_documents,\n",
        "    embeddings,\n",
        "    location=\":memory:\",\n",
        "    collection_name=\"JohnWickSemantic\"\n",
        ")"
      ]
    },
    {
      "cell_type": "markdown",
      "metadata": {
        "id": "Eh_r_-LHmmKn"
      },
      "source": [
        "We'll use naive retrieval for this example."
      ]
    },
    {
      "cell_type": "code",
      "execution_count": 28,
      "metadata": {
        "id": "odVyDUHwZftc"
      },
      "outputs": [],
      "source": [
        "semantic_retriever = semantic_vectorstore.as_retriever(search_kwargs={\"k\" : 10})"
      ]
    },
    {
      "cell_type": "markdown",
      "metadata": {
        "id": "Mkeiv_ojmp6G"
      },
      "source": [
        "Finally we can create our classic chain!"
      ]
    },
    {
      "cell_type": "code",
      "execution_count": 29,
      "metadata": {
        "id": "xWE_0J0mZveG"
      },
      "outputs": [],
      "source": [
        "semantic_retrieval_chain = (\n",
        "    {\"context\": itemgetter(\"question\") | semantic_retriever, \"question\": itemgetter(\"question\")}\n",
        "    | RunnablePassthrough.assign(context=itemgetter(\"context\"))\n",
        "    | {\"response\": rag_prompt | chat_model, \"context\": itemgetter(\"context\")}\n",
        ")"
      ]
    },
    {
      "cell_type": "markdown",
      "metadata": {
        "id": "R5pfjLQ3ms9_"
      },
      "source": [
        "And view the results!"
      ]
    },
    {
      "cell_type": "code",
      "execution_count": null,
      "metadata": {
        "colab": {
          "base_uri": "https://localhost:8080/",
          "height": 70
        },
        "id": "0lN2j-e4Z0SD",
        "outputId": "ef483e21-7200-4dfc-b8bf-aed4f23587b2"
      },
      "outputs": [
        {
          "data": {
            "text/plain": [
              "\"Based on the reviews provided, it seems that people generally liked John Wick. The action sequences, Keanu Reeves' performance, and the unique style of the film were highly praised by reviewers.\""
            ]
          },
          "execution_count": 47,
          "metadata": {},
          "output_type": "execute_result"
        }
      ],
      "source": [
        "semantic_retrieval_chain.invoke({\"question\" : \"Did people generally like John Wick?\"})[\"response\"].content"
      ]
    },
    {
      "cell_type": "code",
      "execution_count": null,
      "metadata": {
        "colab": {
          "base_uri": "https://localhost:8080/",
          "height": 53
        },
        "id": "xdqfBH1SZ3f9",
        "outputId": "ed62b2d1-7586-46cc-aaf4-c54192a56155"
      },
      "outputs": [
        {
          "data": {
            "text/plain": [
              "'Yes, there is one review with a rating of 10 for the movie \"John Wick 3\". Here is the URL to that review: /review/rw4854296/?ref_=tt_urv'"
            ]
          },
          "execution_count": 48,
          "metadata": {},
          "output_type": "execute_result"
        }
      ],
      "source": [
        "semantic_retrieval_chain.invoke({\"question\" : \"Do any reviews have a rating of 10? If so - can I have the URLs to those reviews?\"})[\"response\"].content"
      ]
    },
    {
      "cell_type": "code",
      "execution_count": null,
      "metadata": {
        "colab": {
          "base_uri": "https://localhost:8080/",
          "height": 70
        },
        "id": "rAcAObZnZ4o6",
        "outputId": "3f1cade3-41e4-4e42-ef71-048dd18e5e3a"
      },
      "outputs": [
        {
          "data": {
            "text/plain": [
              "'John Wick is an ultra-violent movie series that follows the story of an ex-hitman seeking revenge after gangsters killed his dog and took everything from him. The first installment features John Wick coming out of retirement to track down those responsible. The series is known for its elaborate action sequences, vivid choreography, and intense violence.'"
            ]
          },
          "execution_count": 49,
          "metadata": {},
          "output_type": "execute_result"
        }
      ],
      "source": [
        "semantic_retrieval_chain.invoke({\"question\" : \"What happened in John Wick?\"})[\"response\"].content"
      ]
    },
    {
      "cell_type": "markdown",
      "metadata": {
        "id": "xk2n3-pnVWDJ"
      },
      "source": [
        "# 🤝 Breakout Room Part #2"
      ]
    },
    {
      "cell_type": "markdown",
      "metadata": {
        "id": "2SkJLYwMVZkj"
      },
      "source": [
        "#### 🏗️ Activity #1\n",
        "\n",
        "Your task is to evaluate the various Retriever methods against eachother.\n",
        "\n",
        "You are expected to:\n",
        "\n",
        "1. Create a \"golden dataset\"\n",
        " - Use Synthetic Data Generation (powered by Ragas, or otherwise) to create this dataset\n",
        "2. Evaluate each retriever with *retriever specific* Ragas metrics\n",
        " - Semantic Chunking is not considered a retriever method and will not be required for marks, but you may find it useful to do a \"semantic chunking on\" vs. \"semantic chunking off\" comparision between them\n",
        "3. Compile these in a list and write a small paragraph about which is best for this particular data and why.\n",
        "\n",
        "Your analysis should factor in:\n",
        "  - Cost\n",
        "  - Latency\n",
        "  - Performance\n",
        "\n",
        "> NOTE: This is **NOT** required to be completed in class. Please spend time in your breakout rooms creating a plan before moving on to writing code."
      ]
    },
    {
      "cell_type": "markdown",
      "metadata": {
        "id": "TWAr16a5XMub"
      },
      "source": [
        "##### HINTS:\n",
        "\n",
        "- LangSmith provides detailed information about latency and cost."
      ]
    },
    {
      "cell_type": "code",
      "execution_count": null,
      "metadata": {
        "id": "tgDICngKXLGK"
      },
      "outputs": [],
      "source": [
        "### YOUR CODE HERE"
      ]
    },
    {
      "cell_type": "code",
      "execution_count": 27,
      "metadata": {},
      "outputs": [
        {
          "name": "stderr",
          "output_type": "stream",
          "text": [
            "[nltk_data] Downloading package punkt to /home/spdhnes/nltk_data...\n",
            "[nltk_data]   Package punkt is already up-to-date!\n",
            "[nltk_data] Downloading package averaged_perceptron_tagger to\n",
            "[nltk_data]     /home/spdhnes/nltk_data...\n",
            "[nltk_data]   Package averaged_perceptron_tagger is already up-to-\n",
            "[nltk_data]       date!\n"
          ]
        },
        {
          "data": {
            "text/plain": [
              "True"
            ]
          },
          "execution_count": 27,
          "metadata": {},
          "output_type": "execute_result"
        }
      ],
      "source": [
        "import nltk\n",
        "nltk.download('punkt')\n",
        "nltk.download('averaged_perceptron_tagger')"
      ]
    },
    {
      "cell_type": "markdown",
      "metadata": {},
      "source": [
        "## Generating Synthetic Test Data\n",
        "\n",
        "We wil be using Ragas to build out a set of synthetic test questions, references, and reference contexts. This is useful because it will allow us to find out how our system is performing.\n",
        "\n",
        "> NOTE: Ragas is best suited for finding *directional* changes in your LLM-based systems. The absolute scores aren't comparable in a vacuum."
      ]
    },
    {
      "cell_type": "code",
      "execution_count": 28,
      "metadata": {},
      "outputs": [],
      "source": [
        "from ragas.llms import LangchainLLMWrapper\n",
        "from ragas.embeddings import LangchainEmbeddingsWrapper\n",
        "from langchain_openai import ChatOpenAI\n",
        "from langchain_openai import OpenAIEmbeddings\n",
        "generator_llm = LangchainLLMWrapper(ChatOpenAI(model=\"gpt-4.1-nano\"))\n",
        "generator_embeddings = LangchainEmbeddingsWrapper(OpenAIEmbeddings())"
      ]
    },
    {
      "cell_type": "code",
      "execution_count": 29,
      "metadata": {},
      "outputs": [],
      "source": [
        "from ragas.testset.synthesizers import default_query_distribution, SingleHopSpecificQuerySynthesizer, MultiHopAbstractQuerySynthesizer, MultiHopSpecificQuerySynthesizer\n",
        "\n",
        "query_distribution = [\n",
        "        (SingleHopSpecificQuerySynthesizer(llm=generator_llm), 0.5),\n",
        "        (MultiHopAbstractQuerySynthesizer(llm=generator_llm), 0.3),\n",
        "        (MultiHopSpecificQuerySynthesizer(llm=generator_llm), 0.2),\n",
        "]"
      ]
    },
    {
      "cell_type": "code",
      "execution_count": 31,
      "metadata": {},
      "outputs": [
        {
          "data": {
            "application/vnd.jupyter.widget-view+json": {
              "model_id": "ea6841357ce04f01a05596fae9cb0756",
              "version_major": 2,
              "version_minor": 0
            },
            "text/plain": [
              "Applying SummaryExtractor:   0%|          | 0/44 [00:00<?, ?it/s]"
            ]
          },
          "metadata": {},
          "output_type": "display_data"
        },
        {
          "data": {
            "application/vnd.jupyter.widget-view+json": {
              "model_id": "aa66082c6890426cadba0b36c4943bc6",
              "version_major": 2,
              "version_minor": 0
            },
            "text/plain": [
              "Applying CustomNodeFilter:   0%|          | 0/100 [00:00<?, ?it/s]"
            ]
          },
          "metadata": {},
          "output_type": "display_data"
        },
        {
          "name": "stderr",
          "output_type": "stream",
          "text": [
            "Node a2d74b9c-a0f3-4c7e-abfa-da5658ea1e09 does not have a summary. Skipping filtering.\n",
            "Node 16daa444-b80b-4c14-8156-21a3a1dad32b does not have a summary. Skipping filtering.\n",
            "Node 5a070a7b-40a8-4d36-8008-3338958ad8c1 does not have a summary. Skipping filtering.\n",
            "Node 8985a3b8-7d9a-4bf9-8350-25733ba6d6f5 does not have a summary. Skipping filtering.\n",
            "Node d27a87ca-d10f-4e2a-90cc-a1f8c1580a3f does not have a summary. Skipping filtering.\n",
            "Node fa8a9192-b6e1-4519-aceb-793952fe7268 does not have a summary. Skipping filtering.\n",
            "Node d635a6ce-666f-4184-8e6a-1134d7209bcb does not have a summary. Skipping filtering.\n",
            "Node 9c611f1d-3ca8-407c-ac26-1791eb1f0626 does not have a summary. Skipping filtering.\n",
            "Node cbeb8008-8e2b-4253-b927-7220ee037cd3 does not have a summary. Skipping filtering.\n",
            "Node be7fd487-0cb4-4a67-8328-18dea1209c67 does not have a summary. Skipping filtering.\n",
            "Node d85ec360-a327-4c20-a30d-2ed940068e8d does not have a summary. Skipping filtering.\n",
            "Node c54769a4-8ccb-4d0d-a0af-487042dc0dfa does not have a summary. Skipping filtering.\n",
            "Node 5076f940-d36c-4c1d-a8d7-f17beaf4434a does not have a summary. Skipping filtering.\n",
            "Node c0367650-0450-45dc-ae0b-0774c4a9f716 does not have a summary. Skipping filtering.\n",
            "Node 0172f64a-4f37-49da-bccf-b5b70e4dcef8 does not have a summary. Skipping filtering.\n",
            "Node 2aa36ef4-8984-4b51-840f-aa5375990dac does not have a summary. Skipping filtering.\n",
            "Node e0f3a95a-c379-4747-a218-95aba2f88389 does not have a summary. Skipping filtering.\n",
            "Node 4a08258f-114d-400c-8aac-efde034a1905 does not have a summary. Skipping filtering.\n",
            "Node 025cb3a4-5899-4c22-afea-c437a5708f78 does not have a summary. Skipping filtering.\n",
            "Node 36feb85a-196c-4b45-9114-25335a9a9848 does not have a summary. Skipping filtering.\n",
            "Node 5b8b7b46-a13e-437f-b7e0-6a3c7b7c78fe does not have a summary. Skipping filtering.\n",
            "Node a42ccfe1-5910-4b0b-bc47-99a632e34c58 does not have a summary. Skipping filtering.\n",
            "Node 7cda3b93-7438-4f09-bb07-3385900c5768 does not have a summary. Skipping filtering.\n",
            "Node 57ce2ffc-a957-4ef6-ba48-bffa4737fc9e does not have a summary. Skipping filtering.\n",
            "Node 392b5e8c-2a2f-490f-8884-766be9a86648 does not have a summary. Skipping filtering.\n",
            "Node aabfa253-225e-460f-8023-30163a84254a does not have a summary. Skipping filtering.\n",
            "Node 8c6b5e07-9542-4a59-bf3c-5963d3654880 does not have a summary. Skipping filtering.\n",
            "Node 45e92581-b411-42df-a63b-32045e1055a1 does not have a summary. Skipping filtering.\n",
            "Node b02cb526-4dfc-4d63-9c54-a1bda1c1b41a does not have a summary. Skipping filtering.\n",
            "Node ed499680-89eb-414a-86af-f7c090de979e does not have a summary. Skipping filtering.\n",
            "Node 7e6b2767-8f10-477f-bfaf-96721e192e04 does not have a summary. Skipping filtering.\n",
            "Node d4447a7d-1e15-4c23-9543-4021e0d37c9f does not have a summary. Skipping filtering.\n",
            "Node 47fc3de0-31c1-43d2-9de2-7c6f88100a56 does not have a summary. Skipping filtering.\n",
            "Node 54b76108-5702-43da-8eae-3c1d2707e25c does not have a summary. Skipping filtering.\n",
            "Node f2bce5b2-c7b1-42e1-910d-da04f10a7c6b does not have a summary. Skipping filtering.\n",
            "Node 051eb3e4-b87a-4535-ba47-b21f07df6a8e does not have a summary. Skipping filtering.\n",
            "Node 6ab5145b-c84a-4229-b48b-0d0599927aea does not have a summary. Skipping filtering.\n",
            "Node b460ebd9-03e2-4694-abc7-2fd72e87654a does not have a summary. Skipping filtering.\n",
            "Node b9c82879-332d-44ea-be84-b744577ca92e does not have a summary. Skipping filtering.\n",
            "Node 81b933db-ff32-45d4-8af3-2f7eb9de60e7 does not have a summary. Skipping filtering.\n",
            "Node 93a075fc-2439-4ef0-94eb-3734acd5db80 does not have a summary. Skipping filtering.\n",
            "Node 2a874608-f1e1-4e32-9056-935aca1f0341 does not have a summary. Skipping filtering.\n",
            "Node 1a913088-97f2-4127-9766-ceb4733ded28 does not have a summary. Skipping filtering.\n",
            "Node 979e1e29-3b75-437e-afeb-2585de21f07e does not have a summary. Skipping filtering.\n",
            "Node ea46a282-f9fc-4cbc-b7f6-96f0a4193858 does not have a summary. Skipping filtering.\n",
            "Node 1dcd22f3-2864-4e19-a4e1-2e1315be836a does not have a summary. Skipping filtering.\n",
            "Node d87e7f94-5eb3-4dec-9117-acbb018123d9 does not have a summary. Skipping filtering.\n",
            "Node d6aa8882-ad84-4f75-bcb1-d608a89e2435 does not have a summary. Skipping filtering.\n",
            "Node 6ea63a22-4423-4514-9366-c97367c30ace does not have a summary. Skipping filtering.\n",
            "Node 4c5d966d-7e7b-43dc-af0b-06c13ff9d8f7 does not have a summary. Skipping filtering.\n",
            "Node 45dbca2f-613f-4fe2-ae65-d4ee8aaabff2 does not have a summary. Skipping filtering.\n",
            "Node ee9fdd28-7c93-4e02-a576-19e00fede632 does not have a summary. Skipping filtering.\n",
            "Node 6602bd21-fdbf-48ad-93b9-b387d86e73f4 does not have a summary. Skipping filtering.\n",
            "Node 6c2d73aa-7842-484b-999a-0415571efb51 does not have a summary. Skipping filtering.\n",
            "Node 0a46dec7-ba72-434e-96e6-6bf4a262b45b does not have a summary. Skipping filtering.\n",
            "Node 212283b4-ff86-46c3-b10a-9a77c25e651c does not have a summary. Skipping filtering.\n"
          ]
        },
        {
          "data": {
            "application/vnd.jupyter.widget-view+json": {
              "model_id": "8a249a8d1a2c4e37a11516264840d3da",
              "version_major": 2,
              "version_minor": 0
            },
            "text/plain": [
              "Applying [EmbeddingExtractor, ThemesExtractor, NERExtractor]:   0%|          | 0/223 [00:00<?, ?it/s]"
            ]
          },
          "metadata": {},
          "output_type": "display_data"
        },
        {
          "data": {
            "application/vnd.jupyter.widget-view+json": {
              "model_id": "cbdbe1e7601d478ab88dfcca37936160",
              "version_major": 2,
              "version_minor": 0
            },
            "text/plain": [
              "Applying [CosineSimilarityBuilder, OverlapScoreBuilder]:   0%|          | 0/2 [00:00<?, ?it/s]"
            ]
          },
          "metadata": {},
          "output_type": "display_data"
        },
        {
          "data": {
            "application/vnd.jupyter.widget-view+json": {
              "model_id": "604843c3ea894f92b49cefe1e3d1e9c3",
              "version_major": 2,
              "version_minor": 0
            },
            "text/plain": [
              "Generating personas:   0%|          | 0/3 [00:00<?, ?it/s]"
            ]
          },
          "metadata": {},
          "output_type": "display_data"
        },
        {
          "data": {
            "application/vnd.jupyter.widget-view+json": {
              "model_id": "d2d8ffe37d554061b83ab0299f8158c6",
              "version_major": 2,
              "version_minor": 0
            },
            "text/plain": [
              "Generating Scenarios:   0%|          | 0/3 [00:00<?, ?it/s]"
            ]
          },
          "metadata": {},
          "output_type": "display_data"
        },
        {
          "data": {
            "application/vnd.jupyter.widget-view+json": {
              "model_id": "5d69227410de45fb973c8ed1e9c12365",
              "version_major": 2,
              "version_minor": 0
            },
            "text/plain": [
              "Generating Samples:   0%|          | 0/12 [00:00<?, ?it/s]"
            ]
          },
          "metadata": {},
          "output_type": "display_data"
        }
      ],
      "source": [
        "from ragas.testset import TestsetGenerator\n",
        "\n",
        "\n",
        "generator = TestsetGenerator(llm=generator_llm, embedding_model=generator_embeddings)\n",
        "dataset = generator.generate_with_langchain_docs(documents, testset_size=10)"
      ]
    },
    {
      "cell_type": "code",
      "execution_count": 32,
      "metadata": {},
      "outputs": [
        {
          "data": {
            "text/html": [
              "<div>\n",
              "<style scoped>\n",
              "    .dataframe tbody tr th:only-of-type {\n",
              "        vertical-align: middle;\n",
              "    }\n",
              "\n",
              "    .dataframe tbody tr th {\n",
              "        vertical-align: top;\n",
              "    }\n",
              "\n",
              "    .dataframe thead th {\n",
              "        text-align: right;\n",
              "    }\n",
              "</style>\n",
              "<table border=\"1\" class=\"dataframe\">\n",
              "  <thead>\n",
              "    <tr style=\"text-align: right;\">\n",
              "      <th></th>\n",
              "      <th>user_input</th>\n",
              "      <th>reference_contexts</th>\n",
              "      <th>reference</th>\n",
              "      <th>synthesizer_name</th>\n",
              "    </tr>\n",
              "  </thead>\n",
              "  <tbody>\n",
              "    <tr>\n",
              "      <th>0</th>\n",
              "      <td>How is John Wick described in terms of its plo...</td>\n",
              "      <td>[: 0\\nReview: The best way I can describe John...</td>\n",
              "      <td>John Wick is described as a movie with a simpl...</td>\n",
              "      <td>single_hop_specifc_query_synthesizer</td>\n",
              "    </tr>\n",
              "    <tr>\n",
              "      <th>1</th>\n",
              "      <td>Why did the reviewer decide to check out \"John...</td>\n",
              "      <td>[: 2\\nReview: With the fourth installment scor...</td>\n",
              "      <td>The reviewer decided to check out \"John Wick\" ...</td>\n",
              "      <td>single_hop_specifc_query_synthesizer</td>\n",
              "    </tr>\n",
              "    <tr>\n",
              "      <th>2</th>\n",
              "      <td>Why John wick so good?</td>\n",
              "      <td>[: 3\\nReview: John wick has a very simple reve...</td>\n",
              "      <td>John wick has a simple revenge story where Kea...</td>\n",
              "      <td>single_hop_specifc_query_synthesizer</td>\n",
              "    </tr>\n",
              "    <tr>\n",
              "      <th>3</th>\n",
              "      <td>Wha is Reevs in action movies?</td>\n",
              "      <td>[: 4\\nReview: Though he no longer has a taste ...</td>\n",
              "      <td>Savvy, indestructible Reeves looks right at ho...</td>\n",
              "      <td>single_hop_specifc_query_synthesizer</td>\n",
              "    </tr>\n",
              "    <tr>\n",
              "      <th>4</th>\n",
              "      <td>How does the narrative critique of the expandi...</td>\n",
              "      <td>[&lt;1-hop&gt;\\n\\n: 7\\nReview: John Wick (2014) is t...</td>\n",
              "      <td>The narrative critique highlights that the exp...</td>\n",
              "      <td>multi_hop_abstract_query_synthesizer</td>\n",
              "    </tr>\n",
              "    <tr>\n",
              "      <th>5</th>\n",
              "      <td>How do the action scenes in Parabellum reflect...</td>\n",
              "      <td>[&lt;1-hop&gt;\\n\\n: 6\\nReview: Assassin John Wick is...</td>\n",
              "      <td>The action scenes in Parabellum highlight John...</td>\n",
              "      <td>multi_hop_abstract_query_synthesizer</td>\n",
              "    </tr>\n",
              "    <tr>\n",
              "      <th>6</th>\n",
              "      <td>How does the revenge and retribution theme rel...</td>\n",
              "      <td>[&lt;1-hop&gt;\\n\\n: 19\\nReview: If you've seen the f...</td>\n",
              "      <td>The revenge and retribution theme is central t...</td>\n",
              "      <td>multi_hop_abstract_query_synthesizer</td>\n",
              "    </tr>\n",
              "    <tr>\n",
              "      <th>7</th>\n",
              "      <td>Considering the high emotional intensity of Jo...</td>\n",
              "      <td>[&lt;1-hop&gt;\\n\\n: 11\\nReview: JOHN WICK is a rare ...</td>\n",
              "      <td>The review highlights that while John Wick is ...</td>\n",
              "      <td>multi_hop_abstract_query_synthesizer</td>\n",
              "    </tr>\n",
              "    <tr>\n",
              "      <th>8</th>\n",
              "      <td>How does the character Wick exemplify the high...</td>\n",
              "      <td>[&lt;1-hop&gt;\\n\\n: 18\\nReview: When the story begin...</td>\n",
              "      <td>The context describes Wick as a super-assassin...</td>\n",
              "      <td>multi_hop_specific_query_synthesizer</td>\n",
              "    </tr>\n",
              "    <tr>\n",
              "      <th>9</th>\n",
              "      <td>How does the film 'John Wick' reflect the infl...</td>\n",
              "      <td>[&lt;1-hop&gt;\\n\\n: 1\\nReview: The Table, the intern...</td>\n",
              "      <td>The film 'John Wick' showcases elaborate actio...</td>\n",
              "      <td>multi_hop_specific_query_synthesizer</td>\n",
              "    </tr>\n",
              "    <tr>\n",
              "      <th>10</th>\n",
              "      <td>Hwo hollywoods geting the action movis rite wi...</td>\n",
              "      <td>[&lt;1-hop&gt;\\n\\n: 10\\nReview: Most American action...</td>\n",
              "      <td>Hollywood has managed to create near-perfect a...</td>\n",
              "      <td>multi_hop_specific_query_synthesizer</td>\n",
              "    </tr>\n",
              "    <tr>\n",
              "      <th>11</th>\n",
              "      <td>How does the review of John Wick: Chapter 2 co...</td>\n",
              "      <td>[&lt;1-hop&gt;\\n\\n: 16\\nReview: John Wick Chapter 2 ...</td>\n",
              "      <td>The review of John Wick: Chapter 2 highlights ...</td>\n",
              "      <td>multi_hop_specific_query_synthesizer</td>\n",
              "    </tr>\n",
              "  </tbody>\n",
              "</table>\n",
              "</div>"
            ],
            "text/plain": [
              "                                           user_input  \\\n",
              "0   How is John Wick described in terms of its plo...   \n",
              "1   Why did the reviewer decide to check out \"John...   \n",
              "2                              Why John wick so good?   \n",
              "3                      Wha is Reevs in action movies?   \n",
              "4   How does the narrative critique of the expandi...   \n",
              "5   How do the action scenes in Parabellum reflect...   \n",
              "6   How does the revenge and retribution theme rel...   \n",
              "7   Considering the high emotional intensity of Jo...   \n",
              "8   How does the character Wick exemplify the high...   \n",
              "9   How does the film 'John Wick' reflect the infl...   \n",
              "10  Hwo hollywoods geting the action movis rite wi...   \n",
              "11  How does the review of John Wick: Chapter 2 co...   \n",
              "\n",
              "                                   reference_contexts  \\\n",
              "0   [: 0\\nReview: The best way I can describe John...   \n",
              "1   [: 2\\nReview: With the fourth installment scor...   \n",
              "2   [: 3\\nReview: John wick has a very simple reve...   \n",
              "3   [: 4\\nReview: Though he no longer has a taste ...   \n",
              "4   [<1-hop>\\n\\n: 7\\nReview: John Wick (2014) is t...   \n",
              "5   [<1-hop>\\n\\n: 6\\nReview: Assassin John Wick is...   \n",
              "6   [<1-hop>\\n\\n: 19\\nReview: If you've seen the f...   \n",
              "7   [<1-hop>\\n\\n: 11\\nReview: JOHN WICK is a rare ...   \n",
              "8   [<1-hop>\\n\\n: 18\\nReview: When the story begin...   \n",
              "9   [<1-hop>\\n\\n: 1\\nReview: The Table, the intern...   \n",
              "10  [<1-hop>\\n\\n: 10\\nReview: Most American action...   \n",
              "11  [<1-hop>\\n\\n: 16\\nReview: John Wick Chapter 2 ...   \n",
              "\n",
              "                                            reference  \\\n",
              "0   John Wick is described as a movie with a simpl...   \n",
              "1   The reviewer decided to check out \"John Wick\" ...   \n",
              "2   John wick has a simple revenge story where Kea...   \n",
              "3   Savvy, indestructible Reeves looks right at ho...   \n",
              "4   The narrative critique highlights that the exp...   \n",
              "5   The action scenes in Parabellum highlight John...   \n",
              "6   The revenge and retribution theme is central t...   \n",
              "7   The review highlights that while John Wick is ...   \n",
              "8   The context describes Wick as a super-assassin...   \n",
              "9   The film 'John Wick' showcases elaborate actio...   \n",
              "10  Hollywood has managed to create near-perfect a...   \n",
              "11  The review of John Wick: Chapter 2 highlights ...   \n",
              "\n",
              "                        synthesizer_name  \n",
              "0   single_hop_specifc_query_synthesizer  \n",
              "1   single_hop_specifc_query_synthesizer  \n",
              "2   single_hop_specifc_query_synthesizer  \n",
              "3   single_hop_specifc_query_synthesizer  \n",
              "4   multi_hop_abstract_query_synthesizer  \n",
              "5   multi_hop_abstract_query_synthesizer  \n",
              "6   multi_hop_abstract_query_synthesizer  \n",
              "7   multi_hop_abstract_query_synthesizer  \n",
              "8   multi_hop_specific_query_synthesizer  \n",
              "9   multi_hop_specific_query_synthesizer  \n",
              "10  multi_hop_specific_query_synthesizer  \n",
              "11  multi_hop_specific_query_synthesizer  "
            ]
          },
          "execution_count": 32,
          "metadata": {},
          "output_type": "execute_result"
        }
      ],
      "source": [
        "dataset.to_pandas()"
      ]
    },
    {
      "cell_type": "markdown",
      "metadata": {},
      "source": [
        "### 1. Naive RAG Chain"
      ]
    },
    {
      "cell_type": "code",
      "execution_count": null,
      "metadata": {},
      "outputs": [],
      "source": [
        "res=naive_retrieval_chain.invoke({\"question\" : \"What happened in John Wick?\"})#[\"response\"].content\n",
        "res"
      ]
    },
    {
      "cell_type": "code",
      "execution_count": 31,
      "metadata": {},
      "outputs": [
        {
          "data": {
            "text/plain": [
              "': 3\\nReview: John wick has a very simple revenge story. It can be summarized as \"Keanu gets angry and shoots bad guys\" but what makes it special? Directed by Chad Stahelski who\\'s a stunt specialist boy does it show because the main selling point in the film are some real virtuoso action sequences, well made choreographies. Unlike today\\'s action movies, it doesn\\'t use quick-cuts or shaky cameras actually see what\\'s going on.'"
            ]
          },
          "execution_count": 31,
          "metadata": {},
          "output_type": "execute_result"
        }
      ],
      "source": [
        "res['context'][-1].page_content"
      ]
    },
    {
      "cell_type": "code",
      "execution_count": 33,
      "metadata": {},
      "outputs": [
        {
          "data": {
            "text/plain": [
              "': 5\\nReview: Ultra-violent first entry with lots of killings, thrills , noisy action , suspense , and crossfire . In this original John Wick (2014) , an ex-hit-man comes out of retirement to track down the gangsters that killed his dog and took everything from him . With the untimely death of his beloved wife still bitter in his mouth he seeks for vengeance . But when an arrogant Russian mob prince and hoodlums steal his car and kill his dog , they are fully aware of his lethal capacity. The Bogeyman will find himself dragged into an impossible task as every killer in the business dreams of cornering the legendary Wick who now has an enormous price on his head . In this first installment John Wick , blind with revenge, and for his salvation John will immediately unleash a carefully orchestrated maelstrom of destruction against those attempt to chase him and with a price tag on his head, as he is the target of hit men : an army of bounty-hunting killers on his trail and a murderer woman everywhere . The legendary hitman will be forced to unearth his meticulously concealed identity and to carry out a relentless vendetta . Now, only blood can quench the boogeyman\\'s thirst for retribution . Don\\'t Set Him Off! . John Wick isn\\'t the Boogeyman... He\\'s the guy you send to kill the doomed Boogeyman. Revenge is all he has left. You want peace, prepare for war . Don\\'t Hunt What You Can\\'t Kill. Tick Tock, Mr. Wick. Everyone Is Waiting. For John Wick . Every Action Has Consequences. This Friday, Wick is Back . Its the World Vs. Wick. Every Action Has Consequences.\\n: 18\\nReview: When the story begins, John (Keanu Reeves) has just lost his wife. After her death, he\\'s a bit lost but tries to rebuild his life. One day, he\\'s getting gas and a young Russian-American punk notices Wick\\'s classic car...and tries to buy it off him. But Wick isn\\'t interested and declines. Soon, the punk arrives at Wick\\'s home with some goons where they surprise him--beating him senseless, destroying his stuff, killing his dog and stealing his car! This is when you then learn that Wick is a super-assassin....and the punk chose the wrong guy to attack. The jerk\\'s father is a big-time Russian mobster....and it\\'s a contest to see who will win...the mobster and his gang or Wick on his own. Considering there are (so far) two MORE John Wick films, it pretty much seems certain who will win this battle.\\n: 19\\nReview: If you\\'ve seen the first John Wick movie, you know that Keanu Reeves is John Wick, a retired assassin who comes out of retirement when someone kills his dog. In this one, which begins a week later, matters are still reverberating, and some one has stolen his car, which calls for a lot of carnage. That settled, John is called on to pay off an old debt by helping Ian McShane take over the Assassin\\'s Guild by flying around to Italy, Canada and Manhattan and killing what seems like hundreds of assassins.\\n: 4\\nReview: \"John Wick: Chapter 2\" (2017 release; 122 min.) continues the \\'adventures\\' of former (?) hit man John Wick. As the movie opens, we are immediately thrown in the middle of a car vs. bike chase, and next thing we know, we find our man retrieving his beloved Mustang from a chop shop in NYC, but not without cars flying about, and dozens of dead or wounded bodies. And that\\'s all in the pre-opening credits! As the story unfolds, Wick, who wants \"out, is nevertheless forced back \"in\" when an Italian baddie calls in a favor and Wick has no choice but to accept. To tell you more of the plot would spoil your viewing experience, you\\'ll just have to see for yourself how it all plays out.\\n: 20\\nReview: After resolving his issues with the Russian mafia, John Wick (Keanu Reeves) returns home. But soon the mobster Santino D\\'Antonio (Riccardo Scamarcio) visits him to show Wick\\'s marker and tells that he needs to help. John Wicks refuses since he is retired and Santino blows-up his house. John Wick meets the owner of the Continental hotel in New York City, Winston (Ian McShane), and he tells that Wick cannot violate the Mafia rules and shall honor the marker. Santino asks John Wick to kill his sister Gianna D\\'Antonio (Claudia Gerini) in Rome so that he can sit on the High Table of the criminal organizations. When John Wicks accomplishes his assignment, Santino puts a seven-million dollar contract on him attracting professional killers from everywhere. But Wick promises to kill Santino that is not protected by his marker anymore.\\n: 0\\nReview: The best way I can describe John Wick is to picture Taken but instead of Liam Neeson it\\'s Keanu Reeves and instead of his daughter it\\'s his dog. That\\'s essentially the plot of the movie. John Wick (Reeves) is out to seek revenge on the people who took something he loved from him. It\\'s a beautifully simple premise for an action movie - when action movies get convoluted, they get bad i.e. A Good Day to Die Hard. John Wick gives the viewers what they want: Awesome action, stylish stunts, kinetic chaos, and a relatable hero to tie it all together. John Wick succeeds in its simplicity.\\n: 9\\nReview: At first glance, John Wick sounds like a terrible film on paper but with the slickness of Keanu Reeves\\' performance as the titular character and the sheer brilliance in its action sequences, this marks the best action film of the year and one of the absolute best in the past decade. Following a brutal home invasion that leaves his beloved dog murdered by thugs from his past, John Wick vows revenge on the ones who have taken what he loves most. Like I said, on paper, this seems like a direct-to-DVD slopfest starring John Cena but as a film with Keanu Reeves as the lead, it marks the very welcomed return for Reeves to the genre. John Wick is insanely fun, violently brutal and an overall romp especially for those disappointed by The Expendables 3. John Wick is propelled by Tarantino-esque dialog mixed with the swagger of action stars from the 70s. Reeves literally emulates cool in this film and does it with such confidence, that we don\\'t even doubt the character...even when he kills countless bad guys with extreme force in some utterly ridiculous and implausible situations. We don\\'t doubt it for a minute. This is EXACTLY what you want out of an action film. It is briskly paced, brilliantly shot and meticulously choreographed and keeps you wanting more and more. The supporting cast filled with the likes of John Legiuzamo, Ian McShane, and Willen Dafoe also keeps this film very interesting. These guys don\\'t play good guys, hell, John Wick by traditional standards would be a bad guy in any other film. Every character is more ruthless than the next and pushes John Wick to be more ruthless than they are, creating a very cool dynamic between the character and the plot regarding the idea of how far is too far? However, don\\'t expect some revelation from John Wick regarding the morality of bad and evil. This film wants you entertained and does so with brute force, it never lets up, not even for a second. One scene in particular that will have your blood pumping is a showdown between thugs and Wick in a nightclub. This action sequence remains the best in the film and will have you grasping your theater seat because of the sheer intensity of it. Overall, John Wick is slick, violent fun that turns into a remarkable, surprising film that will catch you off guard. It is THAT good. I highly recommend this film to action buffs especially but I\\'m sure those who just like a good movie will love it as well.\\n: 20\\nReview: John Wick is something special. It takes as much time setting up elaborate action sequences as it does the world with which it all takes place in. And what a world it is. It reminds me of Millers Crossing and it is cooler than any other recent attempt at noir. We are shown a criminal underworld where, if you are connected, many powerful people know who you are and show you respect. John Wick was connected but he got out. He is the rare killer who has found peace, and he is grateful for that peace. Some young kids steal that from him and he does what he does best, he wages a one man war against the Russian Mafia. It might sound like the film takes quite a leap but it all makes sense. The motives of John and the people who get in the way of his bullets are all very clear, even if it does come across as rather simple. That\\'s the plot at it\\'s most basic. Then there\\'s the action. The film is directed by Reeve\\'s stuntman from The Matrix, so this guy knows action. There are sequences that flow so smoothly it puts other action films and their quick cuts to shame. Keaunu moves so fluidly throughout the film and comes across as such a natural that the only disappointment is that we have not seen him like this before. Along the way are plenty of character actors, fans of The Matrix and The Wire will recognize a few people then there are more obvious ones like Ian McShane and Willem Dafoe. Everyone seems to be having a good time. That is another plus for this movie. It get\\'s dark at times but overall it is quite fun, not very chipper, but fun. I cannot recommend this movie enough. I believe it is a must see for action fans and for anyone looking for something a bit different from the usual fare.\\n: 24\\nReview: John Wick: Chapter 3 - Parabellum is quite literally about consequences, dealing with the fallout of John\\'s actions at the end of the previous film and sending him on an even bigger odyssey of violence that continues to explore this world of assassination and deliver beautifully clean action sequences.\\n: 3\\nReview: John wick has a very simple revenge story. It can be summarized as \"Keanu gets angry and shoots bad guys\" but what makes it special? Directed by Chad Stahelski who\\'s a stunt specialist boy does it show because the main selling point in the film are some real virtuoso action sequences, well made choreographies. Unlike today\\'s action movies, it doesn\\'t use quick-cuts or shaky cameras actually see what\\'s going on.'"
            ]
          },
          "execution_count": 33,
          "metadata": {},
          "output_type": "execute_result"
        }
      ],
      "source": [
        "'\\n'.join([doc.page_content for doc in res['context']])"
      ]
    },
    {
      "cell_type": "markdown",
      "metadata": {},
      "source": [
        "### Response Generation by Retrivers"
      ]
    },
    {
      "cell_type": "code",
      "execution_count": null,
      "metadata": {},
      "outputs": [],
      "source": [
        "import pandas as pd\n",
        "my_retrivers_dict={key: '' for key in ['naive_retrieval_chain','bm25_retrieval_chain', 'contextual_compression_retrieval_chain', 'MultiQueryRetriever', 'parent_document_retrieval_chain', 'ensemble_retrieval_chain']}\n",
        "\n",
        "[*my_retrivers_dict]"
      ]
    },
    {
      "cell_type": "code",
      "execution_count": null,
      "metadata": {},
      "outputs": [],
      "source": [
        "import time\n",
        "my_retrivers_list=[naive_retrieval_chain,bm25_retrieval_chain, contextual_compression_retrieval_chain, multi_query_retrieval_chain, parent_document_retrieval_chain, ensemble_retrieval_chain]\n",
        "\n",
        "for names, retrivals in zip([*my_retrivers_dict], my_retrivers_list):\n",
        "    for test_row in dataset:\n",
        "        inputs = test_row.eval_sample.user_input\n",
        "        res = retrivals.invoke({\"question\": inputs})           \n",
        "        test_row.eval_sample.response = res[\"response\"].content\n",
        "        context = [doc.page_content for doc in res['context']]   \n",
        "        test_row.eval_sample.retrieved_contexts = context\n",
        "    my_retrivers_dict[names]=dataset\n",
        "    time.sleep(6)"
      ]
    },
    {
      "cell_type": "code",
      "execution_count": 126,
      "metadata": {},
      "outputs": [
        {
          "data": {
            "text/html": [
              "<div>\n",
              "<style scoped>\n",
              "    .dataframe tbody tr th:only-of-type {\n",
              "        vertical-align: middle;\n",
              "    }\n",
              "\n",
              "    .dataframe tbody tr th {\n",
              "        vertical-align: top;\n",
              "    }\n",
              "\n",
              "    .dataframe thead th {\n",
              "        text-align: right;\n",
              "    }\n",
              "</style>\n",
              "<table border=\"1\" class=\"dataframe\">\n",
              "  <thead>\n",
              "    <tr style=\"text-align: right;\">\n",
              "      <th></th>\n",
              "      <th>user_input</th>\n",
              "      <th>retrieved_contexts</th>\n",
              "      <th>reference_contexts</th>\n",
              "      <th>response</th>\n",
              "      <th>reference</th>\n",
              "      <th>synthesizer_name</th>\n",
              "    </tr>\n",
              "  </thead>\n",
              "  <tbody>\n",
              "    <tr>\n",
              "      <th>0</th>\n",
              "      <td>So like John Wick is just like Taken but with ...</td>\n",
              "      <td>[: 0\\nReview: The best way I can describe John...</td>\n",
              "      <td>[: 0\\nReview: The best way I can describe John...</td>\n",
              "      <td>John Wick is so good for action movie fans lik...</td>\n",
              "      <td>John Wick is a beautifully simple action movie...</td>\n",
              "      <td>single_hop_specifc_query_synthesizer</td>\n",
              "    </tr>\n",
              "    <tr>\n",
              "      <th>1</th>\n",
              "      <td>Considering the popularity and the high-octane...</td>\n",
              "      <td>[: 9\\nReview: At first glance, John Wick sound...</td>\n",
              "      <td>[: 2\\nReview: With the fourth installment scor...</td>\n",
              "      <td>The \"John Wick\" franchise is particularly appe...</td>\n",
              "      <td>The context indicates that \"John Wick\" is a hi...</td>\n",
              "      <td>single_hop_specifc_query_synthesizer</td>\n",
              "    </tr>\n",
              "    <tr>\n",
              "      <th>2</th>\n",
              "      <td>Who is Chad Stahelski and what is his signific...</td>\n",
              "      <td>[: 17\\nReview: Stuntman turned writer/director...</td>\n",
              "      <td>[: 3\\nReview: John wick has a very simple reve...</td>\n",
              "      <td>Chad Stahelski is a former stuntman who turned...</td>\n",
              "      <td>Chad Stahelski is the director of John Wick, a...</td>\n",
              "      <td>single_hop_specifc_query_synthesizer</td>\n",
              "    </tr>\n",
              "    <tr>\n",
              "      <th>3</th>\n",
              "      <td>Is the actor Reeves known for his action roles...</td>\n",
              "      <td>[: 7\\nReview: John Wick (2014) is the best rev...</td>\n",
              "      <td>[: 4\\nReview: Though he no longer has a taste ...</td>\n",
              "      <td>Yes, Keanu Reeves, the actor Reeves, is known ...</td>\n",
              "      <td>Yes, Reeves is described as savvy and indestru...</td>\n",
              "      <td>single_hop_specifc_query_synthesizer</td>\n",
              "    </tr>\n",
              "    <tr>\n",
              "      <th>4</th>\n",
              "      <td>How does set design and lightning-fast reflexe...</td>\n",
              "      <td>[: 16\\nReview: John Wick Chapter 2 pits Keanu ...</td>\n",
              "      <td>[&lt;1-hop&gt;\\n\\n: 16\\nReview: John Wick Chapter 2 ...</td>\n",
              "      <td>Set design and lightning-fast reflexes both pl...</td>\n",
              "      <td>In John Wick Chapter 2, the set design is high...</td>\n",
              "      <td>multi_hop_abstract_query_synthesizer</td>\n",
              "    </tr>\n",
              "    <tr>\n",
              "      <th>5</th>\n",
              "      <td>How does Keanu Reeves' portrayal of the legend...</td>\n",
              "      <td>[: 8\\nReview: In this 2nd installment of John ...</td>\n",
              "      <td>[&lt;1-hop&gt;\\n\\n: 5\\nReview: Ultra-violent first e...</td>\n",
              "      <td>Keanu Reeves' portrayal of the legendary assas...</td>\n",
              "      <td>The context describes John Wick as a dark, sty...</td>\n",
              "      <td>multi_hop_abstract_query_synthesizer</td>\n",
              "    </tr>\n",
              "    <tr>\n",
              "      <th>6</th>\n",
              "      <td>How does the revenge plot in John Wick, driven...</td>\n",
              "      <td>[: 3\\nReview: John wick has a very simple reve...</td>\n",
              "      <td>[&lt;1-hop&gt;\\n\\n: 9\\nReview: At first glance, John...</td>\n",
              "      <td>The revenge plot in John Wick, driven by the m...</td>\n",
              "      <td>The revenge plot in John Wick is initiated by ...</td>\n",
              "      <td>multi_hop_abstract_query_synthesizer</td>\n",
              "    </tr>\n",
              "    <tr>\n",
              "      <th>7</th>\n",
              "      <td>How do the cinematic style and choreography co...</td>\n",
              "      <td>[: 9\\nReview: At first glance, John Wick sound...</td>\n",
              "      <td>[&lt;1-hop&gt;\\n\\n: 9\\nReview: At first glance, John...</td>\n",
              "      <td>The cinematic style and choreography in John W...</td>\n",
              "      <td>The review highlights that John Wick is 'brisk...</td>\n",
              "      <td>multi_hop_abstract_query_synthesizer</td>\n",
              "    </tr>\n",
              "    <tr>\n",
              "      <th>8</th>\n",
              "      <td>Considering the high-octane action sequences a...</td>\n",
              "      <td>[: 20\\nReview: In a world where movie sequels ...</td>\n",
              "      <td>[&lt;1-hop&gt;\\n\\n: 12\\nReview: If there's an equiva...</td>\n",
              "      <td>The 'John Wick' series maintains its consisten...</td>\n",
              "      <td>The series maintains its consistency through i...</td>\n",
              "      <td>multi_hop_specific_query_synthesizer</td>\n",
              "    </tr>\n",
              "    <tr>\n",
              "      <th>9</th>\n",
              "      <td>John Wick Chapter 2 is like super long and ful...</td>\n",
              "      <td>[: 23\\nReview: I love me a bit of the old ultr...</td>\n",
              "      <td>[&lt;1-hop&gt;\\n\\n: 9\\nReview: \"John Wick: Chapter 2...</td>\n",
              "      <td>Yes, John Wick Chapter 2 is highly suitable fo...</td>\n",
              "      <td>Based on the context, John Wick Chapter 2 is a...</td>\n",
              "      <td>multi_hop_specific_query_synthesizer</td>\n",
              "    </tr>\n",
              "    <tr>\n",
              "      <th>10</th>\n",
              "      <td>Chapter 2 and CHAPTER 3 like John Wick Chapter...</td>\n",
              "      <td>[: 7\\nReview: About mid-way through the film, ...</td>\n",
              "      <td>[&lt;1-hop&gt;\\n\\n: 21\\nReview: ..THE FILM-MAKERS, {...</td>\n",
              "      <td>Based on the reviews, Chapter 2 and Chapter 3 ...</td>\n",
              "      <td>The context indicates that John Wick: Chapter ...</td>\n",
              "      <td>multi_hop_specific_query_synthesizer</td>\n",
              "    </tr>\n",
              "    <tr>\n",
              "      <th>11</th>\n",
              "      <td>So like, John Wick: Chapter 2, it’s like super...</td>\n",
              "      <td>[: 20\\nReview: John Wick is something special....</td>\n",
              "      <td>[&lt;1-hop&gt;\\n\\n: 12\\nReview: If there's an equiva...</td>\n",
              "      <td>Yes, based on the information provided, if you...</td>\n",
              "      <td>Based on the context, John Wick: Chapter 2 is ...</td>\n",
              "      <td>multi_hop_specific_query_synthesizer</td>\n",
              "    </tr>\n",
              "  </tbody>\n",
              "</table>\n",
              "</div>"
            ],
            "text/plain": [
              "                                           user_input  \\\n",
              "0   So like John Wick is just like Taken but with ...   \n",
              "1   Considering the popularity and the high-octane...   \n",
              "2   Who is Chad Stahelski and what is his signific...   \n",
              "3   Is the actor Reeves known for his action roles...   \n",
              "4   How does set design and lightning-fast reflexe...   \n",
              "5   How does Keanu Reeves' portrayal of the legend...   \n",
              "6   How does the revenge plot in John Wick, driven...   \n",
              "7   How do the cinematic style and choreography co...   \n",
              "8   Considering the high-octane action sequences a...   \n",
              "9   John Wick Chapter 2 is like super long and ful...   \n",
              "10  Chapter 2 and CHAPTER 3 like John Wick Chapter...   \n",
              "11  So like, John Wick: Chapter 2, it’s like super...   \n",
              "\n",
              "                                   retrieved_contexts  \\\n",
              "0   [: 0\\nReview: The best way I can describe John...   \n",
              "1   [: 9\\nReview: At first glance, John Wick sound...   \n",
              "2   [: 17\\nReview: Stuntman turned writer/director...   \n",
              "3   [: 7\\nReview: John Wick (2014) is the best rev...   \n",
              "4   [: 16\\nReview: John Wick Chapter 2 pits Keanu ...   \n",
              "5   [: 8\\nReview: In this 2nd installment of John ...   \n",
              "6   [: 3\\nReview: John wick has a very simple reve...   \n",
              "7   [: 9\\nReview: At first glance, John Wick sound...   \n",
              "8   [: 20\\nReview: In a world where movie sequels ...   \n",
              "9   [: 23\\nReview: I love me a bit of the old ultr...   \n",
              "10  [: 7\\nReview: About mid-way through the film, ...   \n",
              "11  [: 20\\nReview: John Wick is something special....   \n",
              "\n",
              "                                   reference_contexts  \\\n",
              "0   [: 0\\nReview: The best way I can describe John...   \n",
              "1   [: 2\\nReview: With the fourth installment scor...   \n",
              "2   [: 3\\nReview: John wick has a very simple reve...   \n",
              "3   [: 4\\nReview: Though he no longer has a taste ...   \n",
              "4   [<1-hop>\\n\\n: 16\\nReview: John Wick Chapter 2 ...   \n",
              "5   [<1-hop>\\n\\n: 5\\nReview: Ultra-violent first e...   \n",
              "6   [<1-hop>\\n\\n: 9\\nReview: At first glance, John...   \n",
              "7   [<1-hop>\\n\\n: 9\\nReview: At first glance, John...   \n",
              "8   [<1-hop>\\n\\n: 12\\nReview: If there's an equiva...   \n",
              "9   [<1-hop>\\n\\n: 9\\nReview: \"John Wick: Chapter 2...   \n",
              "10  [<1-hop>\\n\\n: 21\\nReview: ..THE FILM-MAKERS, {...   \n",
              "11  [<1-hop>\\n\\n: 12\\nReview: If there's an equiva...   \n",
              "\n",
              "                                             response  \\\n",
              "0   John Wick is so good for action movie fans lik...   \n",
              "1   The \"John Wick\" franchise is particularly appe...   \n",
              "2   Chad Stahelski is a former stuntman who turned...   \n",
              "3   Yes, Keanu Reeves, the actor Reeves, is known ...   \n",
              "4   Set design and lightning-fast reflexes both pl...   \n",
              "5   Keanu Reeves' portrayal of the legendary assas...   \n",
              "6   The revenge plot in John Wick, driven by the m...   \n",
              "7   The cinematic style and choreography in John W...   \n",
              "8   The 'John Wick' series maintains its consisten...   \n",
              "9   Yes, John Wick Chapter 2 is highly suitable fo...   \n",
              "10  Based on the reviews, Chapter 2 and Chapter 3 ...   \n",
              "11  Yes, based on the information provided, if you...   \n",
              "\n",
              "                                            reference  \\\n",
              "0   John Wick is a beautifully simple action movie...   \n",
              "1   The context indicates that \"John Wick\" is a hi...   \n",
              "2   Chad Stahelski is the director of John Wick, a...   \n",
              "3   Yes, Reeves is described as savvy and indestru...   \n",
              "4   In John Wick Chapter 2, the set design is high...   \n",
              "5   The context describes John Wick as a dark, sty...   \n",
              "6   The revenge plot in John Wick is initiated by ...   \n",
              "7   The review highlights that John Wick is 'brisk...   \n",
              "8   The series maintains its consistency through i...   \n",
              "9   Based on the context, John Wick Chapter 2 is a...   \n",
              "10  The context indicates that John Wick: Chapter ...   \n",
              "11  Based on the context, John Wick: Chapter 2 is ...   \n",
              "\n",
              "                        synthesizer_name  \n",
              "0   single_hop_specifc_query_synthesizer  \n",
              "1   single_hop_specifc_query_synthesizer  \n",
              "2   single_hop_specifc_query_synthesizer  \n",
              "3   single_hop_specifc_query_synthesizer  \n",
              "4   multi_hop_abstract_query_synthesizer  \n",
              "5   multi_hop_abstract_query_synthesizer  \n",
              "6   multi_hop_abstract_query_synthesizer  \n",
              "7   multi_hop_abstract_query_synthesizer  \n",
              "8   multi_hop_specific_query_synthesizer  \n",
              "9   multi_hop_specific_query_synthesizer  \n",
              "10  multi_hop_specific_query_synthesizer  \n",
              "11  multi_hop_specific_query_synthesizer  "
            ]
          },
          "execution_count": 126,
          "metadata": {},
          "output_type": "execute_result"
        }
      ],
      "source": [
        "my_retrivers_dict['naive_retrieval_chain'].to_pandas()"
      ]
    },
    {
      "cell_type": "code",
      "execution_count": 131,
      "metadata": {},
      "outputs": [
        {
          "data": {
            "text/html": [
              "<div>\n",
              "<style scoped>\n",
              "    .dataframe tbody tr th:only-of-type {\n",
              "        vertical-align: middle;\n",
              "    }\n",
              "\n",
              "    .dataframe tbody tr th {\n",
              "        vertical-align: top;\n",
              "    }\n",
              "\n",
              "    .dataframe thead th {\n",
              "        text-align: right;\n",
              "    }\n",
              "</style>\n",
              "<table border=\"1\" class=\"dataframe\">\n",
              "  <thead>\n",
              "    <tr style=\"text-align: right;\">\n",
              "      <th></th>\n",
              "      <th>user_input</th>\n",
              "      <th>retrieved_contexts</th>\n",
              "      <th>reference_contexts</th>\n",
              "      <th>response</th>\n",
              "      <th>reference</th>\n",
              "      <th>synthesizer_name</th>\n",
              "    </tr>\n",
              "  </thead>\n",
              "  <tbody>\n",
              "    <tr>\n",
              "      <th>0</th>\n",
              "      <td>So like John Wick is just like Taken but with ...</td>\n",
              "      <td>[: 0\\nReview: The best way I can describe John...</td>\n",
              "      <td>[: 0\\nReview: The best way I can describe John...</td>\n",
              "      <td>John Wick is especially popular among action m...</td>\n",
              "      <td>John Wick is a beautifully simple action movie...</td>\n",
              "      <td>single_hop_specifc_query_synthesizer</td>\n",
              "    </tr>\n",
              "    <tr>\n",
              "      <th>1</th>\n",
              "      <td>Considering the popularity and the high-octane...</td>\n",
              "      <td>[: 9\\nReview: At first glance, John Wick sound...</td>\n",
              "      <td>[: 2\\nReview: With the fourth installment scor...</td>\n",
              "      <td>The \"John Wick\" franchise is particularly appe...</td>\n",
              "      <td>The context indicates that \"John Wick\" is a hi...</td>\n",
              "      <td>single_hop_specifc_query_synthesizer</td>\n",
              "    </tr>\n",
              "    <tr>\n",
              "      <th>2</th>\n",
              "      <td>Who is Chad Stahelski and what is his signific...</td>\n",
              "      <td>[: 17\\nReview: Stuntman turned writer/director...</td>\n",
              "      <td>[: 3\\nReview: John wick has a very simple reve...</td>\n",
              "      <td>Chad Stahelski is a stunt specialist turned fi...</td>\n",
              "      <td>Chad Stahelski is the director of John Wick, a...</td>\n",
              "      <td>single_hop_specifc_query_synthesizer</td>\n",
              "    </tr>\n",
              "    <tr>\n",
              "      <th>3</th>\n",
              "      <td>Is the actor Reeves known for his action roles...</td>\n",
              "      <td>[: 7\\nReview: John Wick (2014) is the best rev...</td>\n",
              "      <td>[: 4\\nReview: Though he no longer has a taste ...</td>\n",
              "      <td>Yes, Keanu Reeves is well known for his action...</td>\n",
              "      <td>Yes, Reeves is described as savvy and indestru...</td>\n",
              "      <td>single_hop_specifc_query_synthesizer</td>\n",
              "    </tr>\n",
              "    <tr>\n",
              "      <th>4</th>\n",
              "      <td>How does set design and lightning-fast reflexe...</td>\n",
              "      <td>[: 16\\nReview: John Wick Chapter 2 pits Keanu ...</td>\n",
              "      <td>[&lt;1-hop&gt;\\n\\n: 16\\nReview: John Wick Chapter 2 ...</td>\n",
              "      <td>Set design and lightning-fast reflexes both co...</td>\n",
              "      <td>In John Wick Chapter 2, the set design is high...</td>\n",
              "      <td>multi_hop_abstract_query_synthesizer</td>\n",
              "    </tr>\n",
              "    <tr>\n",
              "      <th>5</th>\n",
              "      <td>How does Keanu Reeves' portrayal of the legend...</td>\n",
              "      <td>[: 8\\nReview: In this 2nd installment of John ...</td>\n",
              "      <td>[&lt;1-hop&gt;\\n\\n: 5\\nReview: Ultra-violent first e...</td>\n",
              "      <td>Keanu Reeves' portrayal of the legendary assas...</td>\n",
              "      <td>The context describes John Wick as a dark, sty...</td>\n",
              "      <td>multi_hop_abstract_query_synthesizer</td>\n",
              "    </tr>\n",
              "    <tr>\n",
              "      <th>6</th>\n",
              "      <td>How does the revenge plot in John Wick, driven...</td>\n",
              "      <td>[: 3\\nReview: John wick has a very simple reve...</td>\n",
              "      <td>[&lt;1-hop&gt;\\n\\n: 9\\nReview: At first glance, John...</td>\n",
              "      <td>The revenge plot in *John Wick*, driven by the...</td>\n",
              "      <td>The revenge plot in John Wick is initiated by ...</td>\n",
              "      <td>multi_hop_abstract_query_synthesizer</td>\n",
              "    </tr>\n",
              "    <tr>\n",
              "      <th>7</th>\n",
              "      <td>How do the cinematic style and choreography co...</td>\n",
              "      <td>[: 9\\nReview: At first glance, John Wick sound...</td>\n",
              "      <td>[&lt;1-hop&gt;\\n\\n: 9\\nReview: At first glance, John...</td>\n",
              "      <td>The cinematic style and choreography in John W...</td>\n",
              "      <td>The review highlights that John Wick is 'brisk...</td>\n",
              "      <td>multi_hop_abstract_query_synthesizer</td>\n",
              "    </tr>\n",
              "    <tr>\n",
              "      <th>8</th>\n",
              "      <td>Considering the high-octane action sequences a...</td>\n",
              "      <td>[: 20\\nReview: In a world where movie sequels ...</td>\n",
              "      <td>[&lt;1-hop&gt;\\n\\n: 12\\nReview: If there's an equiva...</td>\n",
              "      <td>The 'John Wick' series maintains its consisten...</td>\n",
              "      <td>The series maintains its consistency through i...</td>\n",
              "      <td>multi_hop_specific_query_synthesizer</td>\n",
              "    </tr>\n",
              "    <tr>\n",
              "      <th>9</th>\n",
              "      <td>John Wick Chapter 2 is like super long and ful...</td>\n",
              "      <td>[: 23\\nReview: I love me a bit of the old ultr...</td>\n",
              "      <td>[&lt;1-hop&gt;\\n\\n: 9\\nReview: \"John Wick: Chapter 2...</td>\n",
              "      <td>Yes, John Wick Chapter 2 is suitable for actio...</td>\n",
              "      <td>Based on the context, John Wick Chapter 2 is a...</td>\n",
              "      <td>multi_hop_specific_query_synthesizer</td>\n",
              "    </tr>\n",
              "    <tr>\n",
              "      <th>10</th>\n",
              "      <td>Chapter 2 and CHAPTER 3 like John Wick Chapter...</td>\n",
              "      <td>[: 7\\nReview: About mid-way through the film, ...</td>\n",
              "      <td>[&lt;1-hop&gt;\\n\\n: 21\\nReview: ..THE FILM-MAKERS, {...</td>\n",
              "      <td>Based on the reviews, John Wick Chapter 3 is c...</td>\n",
              "      <td>The context indicates that John Wick: Chapter ...</td>\n",
              "      <td>multi_hop_specific_query_synthesizer</td>\n",
              "    </tr>\n",
              "    <tr>\n",
              "      <th>11</th>\n",
              "      <td>So like, John Wick: Chapter 2, it’s like super...</td>\n",
              "      <td>[: 20\\nReview: John Wick is something special....</td>\n",
              "      <td>[&lt;1-hop&gt;\\n\\n: 12\\nReview: If there's an equiva...</td>\n",
              "      <td>Yes, based on the information provided, \"John ...</td>\n",
              "      <td>Based on the context, John Wick: Chapter 2 is ...</td>\n",
              "      <td>multi_hop_specific_query_synthesizer</td>\n",
              "    </tr>\n",
              "  </tbody>\n",
              "</table>\n",
              "</div>"
            ],
            "text/plain": [
              "                                           user_input  \\\n",
              "0   So like John Wick is just like Taken but with ...   \n",
              "1   Considering the popularity and the high-octane...   \n",
              "2   Who is Chad Stahelski and what is his signific...   \n",
              "3   Is the actor Reeves known for his action roles...   \n",
              "4   How does set design and lightning-fast reflexe...   \n",
              "5   How does Keanu Reeves' portrayal of the legend...   \n",
              "6   How does the revenge plot in John Wick, driven...   \n",
              "7   How do the cinematic style and choreography co...   \n",
              "8   Considering the high-octane action sequences a...   \n",
              "9   John Wick Chapter 2 is like super long and ful...   \n",
              "10  Chapter 2 and CHAPTER 3 like John Wick Chapter...   \n",
              "11  So like, John Wick: Chapter 2, it’s like super...   \n",
              "\n",
              "                                   retrieved_contexts  \\\n",
              "0   [: 0\\nReview: The best way I can describe John...   \n",
              "1   [: 9\\nReview: At first glance, John Wick sound...   \n",
              "2   [: 17\\nReview: Stuntman turned writer/director...   \n",
              "3   [: 7\\nReview: John Wick (2014) is the best rev...   \n",
              "4   [: 16\\nReview: John Wick Chapter 2 pits Keanu ...   \n",
              "5   [: 8\\nReview: In this 2nd installment of John ...   \n",
              "6   [: 3\\nReview: John wick has a very simple reve...   \n",
              "7   [: 9\\nReview: At first glance, John Wick sound...   \n",
              "8   [: 20\\nReview: In a world where movie sequels ...   \n",
              "9   [: 23\\nReview: I love me a bit of the old ultr...   \n",
              "10  [: 7\\nReview: About mid-way through the film, ...   \n",
              "11  [: 20\\nReview: John Wick is something special....   \n",
              "\n",
              "                                   reference_contexts  \\\n",
              "0   [: 0\\nReview: The best way I can describe John...   \n",
              "1   [: 2\\nReview: With the fourth installment scor...   \n",
              "2   [: 3\\nReview: John wick has a very simple reve...   \n",
              "3   [: 4\\nReview: Though he no longer has a taste ...   \n",
              "4   [<1-hop>\\n\\n: 16\\nReview: John Wick Chapter 2 ...   \n",
              "5   [<1-hop>\\n\\n: 5\\nReview: Ultra-violent first e...   \n",
              "6   [<1-hop>\\n\\n: 9\\nReview: At first glance, John...   \n",
              "7   [<1-hop>\\n\\n: 9\\nReview: At first glance, John...   \n",
              "8   [<1-hop>\\n\\n: 12\\nReview: If there's an equiva...   \n",
              "9   [<1-hop>\\n\\n: 9\\nReview: \"John Wick: Chapter 2...   \n",
              "10  [<1-hop>\\n\\n: 21\\nReview: ..THE FILM-MAKERS, {...   \n",
              "11  [<1-hop>\\n\\n: 12\\nReview: If there's an equiva...   \n",
              "\n",
              "                                             response  \\\n",
              "0   John Wick is especially popular among action m...   \n",
              "1   The \"John Wick\" franchise is particularly appe...   \n",
              "2   Chad Stahelski is a stunt specialist turned fi...   \n",
              "3   Yes, Keanu Reeves is well known for his action...   \n",
              "4   Set design and lightning-fast reflexes both co...   \n",
              "5   Keanu Reeves' portrayal of the legendary assas...   \n",
              "6   The revenge plot in *John Wick*, driven by the...   \n",
              "7   The cinematic style and choreography in John W...   \n",
              "8   The 'John Wick' series maintains its consisten...   \n",
              "9   Yes, John Wick Chapter 2 is suitable for actio...   \n",
              "10  Based on the reviews, John Wick Chapter 3 is c...   \n",
              "11  Yes, based on the information provided, \"John ...   \n",
              "\n",
              "                                            reference  \\\n",
              "0   John Wick is a beautifully simple action movie...   \n",
              "1   The context indicates that \"John Wick\" is a hi...   \n",
              "2   Chad Stahelski is the director of John Wick, a...   \n",
              "3   Yes, Reeves is described as savvy and indestru...   \n",
              "4   In John Wick Chapter 2, the set design is high...   \n",
              "5   The context describes John Wick as a dark, sty...   \n",
              "6   The revenge plot in John Wick is initiated by ...   \n",
              "7   The review highlights that John Wick is 'brisk...   \n",
              "8   The series maintains its consistency through i...   \n",
              "9   Based on the context, John Wick Chapter 2 is a...   \n",
              "10  The context indicates that John Wick: Chapter ...   \n",
              "11  Based on the context, John Wick: Chapter 2 is ...   \n",
              "\n",
              "                        synthesizer_name  \n",
              "0   single_hop_specifc_query_synthesizer  \n",
              "1   single_hop_specifc_query_synthesizer  \n",
              "2   single_hop_specifc_query_synthesizer  \n",
              "3   single_hop_specifc_query_synthesizer  \n",
              "4   multi_hop_abstract_query_synthesizer  \n",
              "5   multi_hop_abstract_query_synthesizer  \n",
              "6   multi_hop_abstract_query_synthesizer  \n",
              "7   multi_hop_abstract_query_synthesizer  \n",
              "8   multi_hop_specific_query_synthesizer  \n",
              "9   multi_hop_specific_query_synthesizer  \n",
              "10  multi_hop_specific_query_synthesizer  \n",
              "11  multi_hop_specific_query_synthesizer  "
            ]
          },
          "execution_count": 131,
          "metadata": {},
          "output_type": "execute_result"
        }
      ],
      "source": [
        "my_retrivers_dict['bm25_retrieval_chain'].to_pandas()"
      ]
    },
    {
      "cell_type": "code",
      "execution_count": null,
      "metadata": {},
      "outputs": [],
      "source": [
        "my_retrivers_dict"
      ]
    },
    {
      "cell_type": "markdown",
      "metadata": {},
      "source": [
        "### RAGAS Evaluation Setup"
      ]
    },
    {
      "cell_type": "code",
      "execution_count": 37,
      "metadata": {},
      "outputs": [],
      "source": [
        "from ragas import EvaluationDataset\n",
        "\n",
        "evaluation_dataset = EvaluationDataset.from_pandas(dataset.to_pandas())"
      ]
    },
    {
      "cell_type": "code",
      "execution_count": 38,
      "metadata": {},
      "outputs": [],
      "source": [
        "from ragas import evaluate\n",
        "from ragas.llms import LangchainLLMWrapper\n",
        "\n",
        "evaluator_llm = LangchainLLMWrapper(ChatOpenAI(model=\"gpt-4.1-mini\"))"
      ]
    },
    {
      "cell_type": "code",
      "execution_count": 150,
      "metadata": {},
      "outputs": [],
      "source": [
        "my_ragas_result_dict={keys:'' for keys in [*my_retrivers_dict]}"
      ]
    },
    {
      "cell_type": "code",
      "execution_count": 151,
      "metadata": {},
      "outputs": [
        {
          "data": {
            "application/vnd.jupyter.widget-view+json": {
              "model_id": "2c152b64a2054539861fb0e525679dd2",
              "version_major": 2,
              "version_minor": 0
            },
            "text/plain": [
              "Evaluating:   0%|          | 0/48 [00:00<?, ?it/s]"
            ]
          },
          "metadata": {},
          "output_type": "display_data"
        },
        {
          "data": {
            "application/vnd.jupyter.widget-view+json": {
              "model_id": "4f6c4cd0511342bbba020f503853befa",
              "version_major": 2,
              "version_minor": 0
            },
            "text/plain": [
              "Evaluating:   0%|          | 0/48 [00:00<?, ?it/s]"
            ]
          },
          "metadata": {},
          "output_type": "display_data"
        },
        {
          "data": {
            "application/vnd.jupyter.widget-view+json": {
              "model_id": "ad9832a7671441b98dfb9a79bca78b9a",
              "version_major": 2,
              "version_minor": 0
            },
            "text/plain": [
              "Evaluating:   0%|          | 0/48 [00:00<?, ?it/s]"
            ]
          },
          "metadata": {},
          "output_type": "display_data"
        },
        {
          "data": {
            "application/vnd.jupyter.widget-view+json": {
              "model_id": "20f1b6c412ed4b1992dae68f172b78e8",
              "version_major": 2,
              "version_minor": 0
            },
            "text/plain": [
              "Evaluating:   0%|          | 0/48 [00:00<?, ?it/s]"
            ]
          },
          "metadata": {},
          "output_type": "display_data"
        },
        {
          "data": {
            "application/vnd.jupyter.widget-view+json": {
              "model_id": "2cb0a58e3cd848bab33ac8c902bb3a3b",
              "version_major": 2,
              "version_minor": 0
            },
            "text/plain": [
              "Evaluating:   0%|          | 0/48 [00:00<?, ?it/s]"
            ]
          },
          "metadata": {},
          "output_type": "display_data"
        },
        {
          "data": {
            "application/vnd.jupyter.widget-view+json": {
              "model_id": "16e1f7b341514da893fe78aaeb139375",
              "version_major": 2,
              "version_minor": 0
            },
            "text/plain": [
              "Evaluating:   0%|          | 0/48 [00:00<?, ?it/s]"
            ]
          },
          "metadata": {},
          "output_type": "display_data"
        }
      ],
      "source": [
        "from ragas import EvaluationDataset\n",
        "from ragas.metrics import LLMContextRecall, Faithfulness, FactualCorrectness, ResponseRelevancy#, ContextEntityRecall, NoiseSensitivity\n",
        "from ragas import evaluate, RunConfig\n",
        "\n",
        "custom_run_config = RunConfig(timeout=360)\n",
        "\n",
        "for keys in [*my_ragas_result_dict]:\n",
        "    evaluation_dataset = EvaluationDataset.from_pandas(my_retrivers_dict[keys].to_pandas())\n",
        "    result = evaluate(\n",
        "        dataset=evaluation_dataset,\n",
        "        metrics=[LLMContextRecall(), Faithfulness(), FactualCorrectness(), ResponseRelevancy()],\n",
        "        llm=evaluator_llm,\n",
        "        run_config=custom_run_config\n",
        "    )\n",
        "    my_ragas_result_dict[keys]=result"
      ]
    },
    {
      "cell_type": "code",
      "execution_count": 152,
      "metadata": {},
      "outputs": [
        {
          "data": {
            "text/plain": [
              "{'naive_retrieval_chain': {'context_recall': 0.9792, 'faithfulness': 0.9269, 'factual_correctness(mode=f1)': 0.4850, 'answer_relevancy': 0.9469},\n",
              " 'bm25_retrieval_chain': {'context_recall': 1.0000, 'faithfulness': 0.9499, 'factual_correctness(mode=f1)': 0.5000, 'answer_relevancy': 0.9482},\n",
              " 'contextual_compression_retrieval_chain': {'context_recall': 1.0000, 'faithfulness': 0.9400, 'factual_correctness(mode=f1)': 0.5017, 'answer_relevancy': 0.9490},\n",
              " 'MultiQueryRetriever': {'context_recall': 1.0000, 'faithfulness': 0.9557, 'factual_correctness(mode=f1)': 0.5133, 'answer_relevancy': 0.9473},\n",
              " 'parent_document_retrieval_chain': {'context_recall': 0.9722, 'faithfulness': 0.9431, 'factual_correctness(mode=f1)': 0.4858, 'answer_relevancy': 0.9467},\n",
              " 'ensemble_retrieval_chain': {'context_recall': 1.0000, 'faithfulness': 0.9723, 'factual_correctness(mode=f1)': 0.4967, 'answer_relevancy': 0.9476}}"
            ]
          },
          "execution_count": 152,
          "metadata": {},
          "output_type": "execute_result"
        }
      ],
      "source": [
        "my_ragas_result_dict"
      ]
    },
    {
      "cell_type": "code",
      "execution_count": 2,
      "metadata": {},
      "outputs": [],
      "source": [
        "cp /mnt/c/Users/spdhn/OneDrive/Desktop/AIM06/ragas_results.png .\n"
      ]
    },
    {
      "cell_type": "code",
      "execution_count": 5,
      "metadata": {},
      "outputs": [
        {
          "data": {
            "image/png": "[encoded data removed]",
            "text/plain": [
              "<IPython.core.display.Image object>"
            ]
          },
          "metadata": {},
          "output_type": "display_data"
        }
      ],
      "source": [
        "\n",
        "from IPython.display import display, Image\n",
        "\n",
        "display(Image('ragas_results.png'))"
      ]
    },
    {
      "cell_type": "markdown",
      "metadata": {},
      "source": [
        "\n",
        "contextual_recall: naive_retrival_chain"
      ]
    },
    {
      "cell_type": "markdown",
      "metadata": {},
      "source": [
        "## LangSmith DataSet"
      ]
    },
    {
      "cell_type": "code",
      "execution_count": 41,
      "metadata": {},
      "outputs": [],
      "source": [
        "from langsmith import Client\n",
        "\n",
        "client = Client()\n",
        "\n",
        "dataset_name = \"Jonh Wick Movies - Reviews\"\n",
        "\n",
        "langsmith_dataset = client.create_dataset(\n",
        "    dataset_name=dataset_name,\n",
        "    description=\"Reviews of John Wick's Movies.\"\n",
        ")"
      ]
    },
    {
      "cell_type": "code",
      "execution_count": 42,
      "metadata": {},
      "outputs": [],
      "source": [
        "for data_row in dataset.to_pandas().iterrows():\n",
        "  client.create_example(\n",
        "      inputs={\n",
        "          \"question\": data_row[1][\"user_input\"]\n",
        "      },\n",
        "      outputs={\n",
        "          \"answer\": data_row[1][\"reference\"]\n",
        "      },\n",
        "      metadata={\n",
        "          \"context\": data_row[1][\"reference_contexts\"]\n",
        "      },\n",
        "      dataset_id=langsmith_dataset.id\n",
        "  )"
      ]
    },
    {
      "cell_type": "code",
      "execution_count": 43,
      "metadata": {},
      "outputs": [],
      "source": [
        "eval_llm = ChatOpenAI(model=\"gpt-4.1\")"
      ]
    },
    {
      "cell_type": "code",
      "execution_count": 44,
      "metadata": {},
      "outputs": [],
      "source": [
        "from langsmith.evaluation import LangChainStringEvaluator, evaluate\n",
        "\n",
        "# Add prepare_data to the qa_evaluator\n",
        "qa_evaluator = LangChainStringEvaluator(\n",
        "    \"qa\", \n",
        "    config={\"llm\": eval_llm},\n",
        "    prepare_data=lambda run, example: {\n",
        "        \"prediction\": run.outputs[\"response\"],\n",
        "        \"reference\": example.outputs[\"answer\"],\n",
        "        \"input\": example.inputs[\"question\"],\n",
        "    }\n",
        ")\n",
        "\n",
        "# This one already looks good\n",
        "labeled_helpfulness_evaluator = LangChainStringEvaluator(\n",
        "    \"labeled_criteria\",\n",
        "    config={\n",
        "        \"criteria\": {\n",
        "            \"helpfulness\": (\n",
        "                \"Is this submission helpful to the user,\"\n",
        "                \" taking into account the correct reference answer?\"\n",
        "            )\n",
        "        },\n",
        "        \"llm\": eval_llm\n",
        "    },\n",
        "    prepare_data=lambda run, example: {\n",
        "        \"prediction\": run.outputs[\"response\"],\n",
        "        \"reference\": example.outputs[\"answer\"],\n",
        "        \"input\": example.inputs[\"question\"],\n",
        "    }\n",
        ")\n",
        "\n",
        "# Add prepare_data to the dope_or_nope_evaluator as well\n",
        "dope_or_nope_evaluator = LangChainStringEvaluator(\n",
        "    \"criteria\",\n",
        "    config={\n",
        "        \"criteria\": {\n",
        "            \"dopeness\": \"Is this submission dope, lit, or cool?\",\n",
        "        },\n",
        "        \"llm\": eval_llm\n",
        "    },\n",
        "    prepare_data=lambda run, example: {\n",
        "        \"prediction\": run.outputs[\"response\"],\n",
        "        \"reference\": example.outputs[\"answer\"],\n",
        "        \"input\": example.inputs[\"question\"],\n",
        "    }\n",
        ")"
      ]
    },
    {
      "cell_type": "markdown",
      "metadata": {},
      "source": [
        "### LangSmith Evaluator"
      ]
    },
    {
      "cell_type": "code",
      "execution_count": 48,
      "metadata": {},
      "outputs": [
        {
          "name": "stdout",
          "output_type": "stream",
          "text": [
            "View the evaluation results for experiment: 'worthwhile-plough-13' at:\n",
            "https://smith.langchain.com/o/9d6a760c-505a-4b81-8b76-580952ac0db8/datasets/dfc6ef64-5f41-48df-8e64-d86333376224/compare?selectedSessions=70143186-b908-44af-842f-4a207065ecf6\n",
            "\n",
            "\n"
          ]
        },
        {
          "data": {
            "application/vnd.jupyter.widget-view+json": {
              "model_id": "9594a8343fa048019d7bcac23938a2a3",
              "version_major": 2,
              "version_minor": 0
            },
            "text/plain": [
              "0it [00:00, ?it/s]"
            ]
          },
          "metadata": {},
          "output_type": "display_data"
        },
        {
          "name": "stderr",
          "output_type": "stream",
          "text": [
            "/home/spdhnes/AIE6/13_Advanced_Retrieval/.venv/lib/python3.13/site-packages/langchain/evaluation/schema.py:130: UserWarning: Ignoring reference in CriteriaEvalChain, as it is not expected.\n",
            "To use references, use the labeled_criteria instead.\n",
            "  warn(self._skip_reference_warning)\n",
            "/home/spdhnes/AIE6/13_Advanced_Retrieval/.venv/lib/python3.13/site-packages/langchain/evaluation/schema.py:130: UserWarning: Ignoring reference in CriteriaEvalChain, as it is not expected.\n",
            "To use references, use the labeled_criteria instead.\n",
            "  warn(self._skip_reference_warning)\n",
            "/home/spdhnes/AIE6/13_Advanced_Retrieval/.venv/lib/python3.13/site-packages/langchain/evaluation/schema.py:130: UserWarning: Ignoring reference in CriteriaEvalChain, as it is not expected.\n",
            "To use references, use the labeled_criteria instead.\n",
            "  warn(self._skip_reference_warning)\n",
            "/home/spdhnes/AIE6/13_Advanced_Retrieval/.venv/lib/python3.13/site-packages/langchain/evaluation/schema.py:130: UserWarning: Ignoring reference in CriteriaEvalChain, as it is not expected.\n",
            "To use references, use the labeled_criteria instead.\n",
            "  warn(self._skip_reference_warning)\n",
            "/home/spdhnes/AIE6/13_Advanced_Retrieval/.venv/lib/python3.13/site-packages/langchain/evaluation/schema.py:130: UserWarning: Ignoring reference in CriteriaEvalChain, as it is not expected.\n",
            "To use references, use the labeled_criteria instead.\n",
            "  warn(self._skip_reference_warning)\n",
            "/home/spdhnes/AIE6/13_Advanced_Retrieval/.venv/lib/python3.13/site-packages/langchain/evaluation/schema.py:130: UserWarning: Ignoring reference in CriteriaEvalChain, as it is not expected.\n",
            "To use references, use the labeled_criteria instead.\n",
            "  warn(self._skip_reference_warning)\n",
            "/home/spdhnes/AIE6/13_Advanced_Retrieval/.venv/lib/python3.13/site-packages/langchain/evaluation/schema.py:130: UserWarning: Ignoring reference in CriteriaEvalChain, as it is not expected.\n",
            "To use references, use the labeled_criteria instead.\n",
            "  warn(self._skip_reference_warning)\n",
            "/home/spdhnes/AIE6/13_Advanced_Retrieval/.venv/lib/python3.13/site-packages/langchain/evaluation/schema.py:130: UserWarning: Ignoring reference in CriteriaEvalChain, as it is not expected.\n",
            "To use references, use the labeled_criteria instead.\n",
            "  warn(self._skip_reference_warning)\n",
            "/home/spdhnes/AIE6/13_Advanced_Retrieval/.venv/lib/python3.13/site-packages/langchain/evaluation/schema.py:130: UserWarning: Ignoring reference in CriteriaEvalChain, as it is not expected.\n",
            "To use references, use the labeled_criteria instead.\n",
            "  warn(self._skip_reference_warning)\n",
            "/home/spdhnes/AIE6/13_Advanced_Retrieval/.venv/lib/python3.13/site-packages/langchain/evaluation/schema.py:130: UserWarning: Ignoring reference in CriteriaEvalChain, as it is not expected.\n",
            "To use references, use the labeled_criteria instead.\n",
            "  warn(self._skip_reference_warning)\n",
            "/home/spdhnes/AIE6/13_Advanced_Retrieval/.venv/lib/python3.13/site-packages/langchain/evaluation/schema.py:130: UserWarning: Ignoring reference in CriteriaEvalChain, as it is not expected.\n",
            "To use references, use the labeled_criteria instead.\n",
            "  warn(self._skip_reference_warning)\n",
            "/home/spdhnes/AIE6/13_Advanced_Retrieval/.venv/lib/python3.13/site-packages/langchain/evaluation/schema.py:130: UserWarning: Ignoring reference in CriteriaEvalChain, as it is not expected.\n",
            "To use references, use the labeled_criteria instead.\n",
            "  warn(self._skip_reference_warning)\n"
          ]
        }
      ],
      "source": [
        "result=evaluate(\n",
        "    naive_retrieval_chain.invoke,\n",
        "    data=dataset_name,\n",
        "    evaluators=[\n",
        "        qa_evaluator,\n",
        "        labeled_helpfulness_evaluator,\n",
        "        dope_or_nope_evaluator\n",
        "    ],\n",
        "    metadata={\"revision_id\": \"default_chain_init\"},\n",
        ")\n",
        "my_retrivers_dict_langsmith['naive_retrieval_chain']=result"
      ]
    },
    {
      "cell_type": "code",
      "execution_count": 46,
      "metadata": {},
      "outputs": [
        {
          "data": {
            "text/plain": [
              "['naive_retrieval_chain',\n",
              " 'bm25_retrieval_chain',\n",
              " 'contextual_compression_retrieval_chain',\n",
              " 'multi_query_retrieval_chain',\n",
              " 'parent_document_retrieval_chain',\n",
              " 'ensemble_retrieval_chain']"
            ]
          },
          "execution_count": 46,
          "metadata": {},
          "output_type": "execute_result"
        }
      ],
      "source": [
        "import pandas as pd\n",
        "my_retrivers_dict_langsmith={key: '' for key in ['naive_retrieval_chain','bm25_retrieval_chain', 'contextual_compression_retrieval_chain', 'multi_query_retrieval_chain', 'parent_document_retrieval_chain', 'ensemble_retrieval_chain']}\n",
        "\n",
        "[*my_retrivers_dict_langsmith]"
      ]
    },
    {
      "cell_type": "code",
      "execution_count": null,
      "metadata": {},
      "outputs": [],
      "source": [
        "import time\n",
        "\n",
        "my_retrivers_list_=[bm25_retrieval_chain, contextual_compression_retrieval_chain, multi_query_retrieval_chain, parent_document_retrieval_chain, ensemble_retrieval_chain]\n",
        "\n",
        "# for names in [*my_retrivers_dict_langsmith]:\n",
        "for names, retrivals in zip([*my_retrivers_dict_langsmith], my_retrivers_list_):\n",
        "    result= evaluate(\n",
        "            retrivals.invoke,\n",
        "            data=dataset_name,\n",
        "            evaluators=[\n",
        "                qa_evaluator,\n",
        "                labeled_helpfulness_evaluator,\n",
        "                dope_or_nope_evaluator\n",
        "            ],\n",
        "            metadata={\"revision_id\": \"default_chain_init\"},\n",
        "            )\n",
        "    my_retrivers_dict_langsmith[names]=result\n",
        "    time.sleep(60)"
      ]
    },
    {
      "cell_type": "code",
      "execution_count": 50,
      "metadata": {},
      "outputs": [],
      "source": [
        "# cp /mnt/c/Users/spdhn/OneDrive/Desktop/AIM06/langsmith_performance_1.png .\n",
        "# cp /mnt/c/Users/spdhn/OneDrive/Desktop/AIM06/langsmith_performance_2.png .\n",
        "# cp /mnt/c/Users/spdhn/OneDrive/Desktop/AIM06/langsmith_performance_3.png .\n"
      ]
    },
    {
      "cell_type": "code",
      "execution_count": 63,
      "metadata": {},
      "outputs": [
        {
          "data": {
            "image/png": "[encoded data removed]",
            "text/plain": [
              "<IPython.core.display.Image object>"
            ]
          },
          "metadata": {},
          "output_type": "display_data"
        },
        {
          "data": {
            "image/png": "[encoded data removed]",
            "text/plain": [
              "<IPython.core.display.Image object>"
            ]
          },
          "metadata": {},
          "output_type": "display_data"
        },
        {
          "ename": "",
          "evalue": "",
          "output_type": "error",
          "traceback": [
            "\u001b[1;31mThe Kernel crashed while executing code in the current cell or a previous cell. \n",
            "\u001b[1;31mPlease review the code in the cell(s) to identify a possible cause of the failure. \n",
            "\u001b[1;31mClick <a href='https://aka.ms/vscodeJupyterKernelCrash'>here</a> for more info. \n",
            "\u001b[1;31mView Jupyter <a href='command:jupyter.viewOutput'>log</a> for further details."
          ]
        }
      ],
      "source": [
        "from IPython.display import display, Image\n",
        "import matplotlib.pyplot as plt\n",
        "\n",
        "display(Image('langsmith_performance_1.png')),display(Image('langsmith_performance_4.png'))\n",
        "plt.show()"
      ]
    },
    {
      "cell_type": "markdown",
      "metadata": {},
      "source": [
        "1. Multi-Query does not capture the dopeness of the reviews, but it proves to be the most effective retriever overall. \n",
        "2. BM25, Parent Document, and Ensemble retrievers perform at a similarly high level of accuracy.\n"
      ]
    },
    {
      "cell_type": "code",
      "execution_count": 53,
      "metadata": {},
      "outputs": [
        {
          "data": {
            "image/png": "[encoded data removed]",
            "text/plain": [
              "<IPython.core.display.Image object>"
            ]
          },
          "metadata": {},
          "output_type": "display_data"
        }
      ],
      "source": [
        "display(Image('langsmith_performance_2.png'))"
      ]
    },
    {
      "cell_type": "markdown",
      "metadata": {},
      "source": [
        "🔸 P50 Latency (50th percentile / median latency): (Gives a good sense of typical performance):\n",
        "\n",
        "Contextual retriever has the best typical performance because 50% (or more) requests completed faster than or equal to 2 sec.\n",
        "\n",
        "\n",
        "🔸 P99 Latency (99th percentile): (Only the slowest 1% of requests took longer than this):\n",
        "\n",
        "naive rag retriever shows the best P99 Latency, meaning that 99% of all requestes completed faster than or equal to 6 sec."
      ]
    },
    {
      "cell_type": "code",
      "execution_count": 56,
      "metadata": {},
      "outputs": [
        {
          "data": {
            "image/png": "[encoded data removed]",
            "text/plain": [
              "<IPython.core.display.Image object>"
            ]
          },
          "metadata": {},
          "output_type": "display_data"
        }
      ],
      "source": [
        "display(Image('langsmith_performance_3.png'))"
      ]
    },
    {
      "cell_type": "markdown",
      "metadata": {},
      "source": [
        "The Parent Document retriever uses the fewest total tokens, resulting in lower overall cost."
      ]
    }
  ],
  "metadata": {
    "colab": {
      "provenance": [],
      "toc_visible": true
    },
    "kernelspec": {
      "display_name": ".venv",
      "language": "python",
      "name": "python3"
    },
    "language_info": {
      "codemirror_mode": {
        "name": "ipython",
        "version": 3
      },
      "file_extension": ".py",
      "mimetype": "text/x-python",
      "name": "python",
      "nbconvert_exporter": "python",
      "pygments_lexer": "ipython3",
      "version": "3.13.2"
    }
  },
  "nbformat": 4,
  "nbformat_minor": 0
}
