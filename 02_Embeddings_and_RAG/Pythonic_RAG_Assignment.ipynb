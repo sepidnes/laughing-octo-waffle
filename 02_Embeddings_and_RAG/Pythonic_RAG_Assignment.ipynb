{
 "cells": [
  {
   "cell_type": "markdown",
   "metadata": {
    "id": "lElF3o5PR6ys"
   },
   "source": [
    "# Your First RAG Application\n",
    "\n",
    "In this notebook, we'll walk you through each of the components that are involved in a simple RAG application.\n",
    "\n",
    "We won't be leveraging any fancy tools, just the OpenAI Python SDK, Numpy, and some classic Python.\n",
    "\n",
    "> NOTE: This was done with Python 3.11.4.\n",
    "\n",
    "> NOTE: There might be [compatibility issues](https://github.com/wandb/wandb/issues/7683) if you're on NVIDIA driver >552.44 As an interim solution - you can rollback your drivers to the 552.44."
   ]
  },
  {
   "cell_type": "markdown",
   "metadata": {
    "id": "5CtcL8P8R6yt"
   },
   "source": [
    "## Table of Contents:\n",
    "\n",
    "- Task 1: Imports and Utilities\n",
    "- Task 2: Documents\n",
    "- Task 3: Embeddings and Vectors\n",
    "- Task 4: Prompts\n",
    "- Task 5: Retrieval Augmented Generation\n",
    "  - 🚧 Activity #1: Augment RAG"
   ]
  },
  {
   "cell_type": "markdown",
   "metadata": {
    "id": "1Dz6GYilR6yt"
   },
   "source": [
    "Let's look at a rather complicated looking visual representation of a basic RAG application.\n",
    "\n",
    "<img src=\"https://i.imgur.com/vD8b016.png\" />"
   ]
  },
  {
   "cell_type": "markdown",
   "metadata": {
    "id": "PjmC0KFtR6yt"
   },
   "source": [
    "## Task 1: Imports and Utility\n",
    "\n",
    "We're just doing some imports and enabling `async` to work within the Jupyter environment here, nothing too crazy!"
   ]
  },
  {
   "cell_type": "code",
   "execution_count": null,
   "metadata": {},
   "outputs": [],
   "source": [
    "from aimakerspace.text_utils import TextFileLoader, CharacterTextSplitter\n",
    "from aimakerspace.vectordatabase import VectorDatabase\n",
    "import asyncio"
   ]
  },
  {
   "cell_type": "code",
   "execution_count": null,
   "metadata": {},
   "outputs": [],
   "source": [
    "import nest_asyncio\n",
    "nest_asyncio.apply()"
   ]
  },
  {
   "cell_type": "markdown",
   "metadata": {
    "id": "M0jGnpQsR6yu"
   },
   "source": [
    "## Task 2: Documents\n",
    "\n",
    "We'll be concerning ourselves with this part of the flow in the following section:\n",
    "\n",
    "<img src=\"https://i.imgur.com/jTm9gjk.png\" />"
   ]
  },
  {
   "cell_type": "markdown",
   "metadata": {
    "id": "-SFPWvRUR6yu"
   },
   "source": [
    "### Loading Source Documents\n",
    "\n",
    "So, first things first, we need some documents to work with.\n",
    "\n",
    "While we could work directly with the `.txt` files (or whatever file-types you wanted to extend this to) we can instead do some batch processing of those documents at the beginning in order to store them in a more machine compatible format.\n",
    "\n",
    "In this case, we're going to parse our text file into a single document in memory.\n",
    "\n",
    "Let's look at the relevant bits of the `TextFileLoader` class:\n",
    "\n",
    "```python\n",
    "def load_file(self):\n",
    "        with open(self.path, \"r\", encoding=self.encoding) as f:\n",
    "            self.documents.append(f.read())\n",
    "```\n",
    "\n",
    "We're simply loading the document using the built in `open` method, and storing that output in our `self.documents` list.\n",
    "\n",
    "> NOTE: We're using blogs from PMarca (Marc Andreessen) as our sample data. This data is largely irrelevant as we want to focus on the mechanisms of RAG, which includes out data's shape and quality - but not specifically what the contents of the data are. \n"
   ]
  },
  {
   "cell_type": "code",
   "execution_count": null,
   "metadata": {},
   "outputs": [],
   "source": [
    "text_loader = TextFileLoader(\"data/PMarcaBlogs.txt\")\n",
    "documents = text_loader.load_documents()\n",
    "len(documents)"
   ]
  },
  {
   "cell_type": "code",
   "execution_count": null,
   "metadata": {},
   "outputs": [],
   "source": [
    "print(documents[0][:100])"
   ]
  },
  {
   "cell_type": "markdown",
   "metadata": {
    "id": "nHlTvCzYR6yu"
   },
   "source": [
    "### Splitting Text Into Chunks\n",
    "\n",
    "As we can see, there is one massive document.\n",
    "\n",
    "We'll want to chunk the document into smaller parts so it's easier to pass the most relevant snippets to the LLM.\n",
    "\n",
    "There is no fixed way to split/chunk documents - and you'll need to rely on some intuition as well as knowing your data *very* well in order to build the most robust system.\n",
    "\n",
    "For this toy example, we'll just split blindly on length.\n",
    "\n",
    ">There's an opportunity to clear up some terminology here, for this course we will be stick to the following:\n",
    ">\n",
    ">- \"source documents\" : The `.txt`, `.pdf`, `.html`, ..., files that make up the files and information we start with in its raw format\n",
    ">- \"document(s)\" : single (or more) text object(s)\n",
    ">- \"corpus\" : the combination of all of our documents"
   ]
  },
  {
   "cell_type": "markdown",
   "metadata": {
    "id": "2G6Voc0jR6yv"
   },
   "source": [
    "As you can imagine (though it's not specifically true in this toy example) the idea of splitting documents is to break them into managable sized chunks that retain the most relevant local context."
   ]
  },
  {
   "cell_type": "code",
   "execution_count": null,
   "metadata": {},
   "outputs": [],
   "source": [
    "text_splitter = CharacterTextSplitter()\n",
    "split_documents = text_splitter.split_texts(documents)\n",
    "len(split_documents)"
   ]
  },
  {
   "cell_type": "markdown",
   "metadata": {
    "id": "W2wKT0WLR6yv"
   },
   "source": [
    "Let's take a look at some of the documents we've managed to split."
   ]
  },
  {
   "cell_type": "code",
   "execution_count": null,
   "metadata": {},
   "outputs": [],
   "source": [
    "split_documents[0:1]"
   ]
  },
  {
   "cell_type": "markdown",
   "metadata": {
    "id": "HOU-RFP_R6yv"
   },
   "source": [
    "## Task 3: Embeddings and Vectors\n",
    "\n",
    "Next, we have to convert our corpus into a \"machine readable\" format as we explored in the Embedding Primer notebook.\n",
    "\n",
    "Today, we're going to talk about the actual process of creating, and then storing, these embeddings, and how we can leverage that to intelligently add context to our queries."
   ]
  },
  {
   "cell_type": "markdown",
   "metadata": {},
   "source": [
    "### OpenAI API Key\n",
    "\n",
    "In order to access OpenAI's APIs, we'll need to provide our OpenAI API Key!\n",
    "\n",
    "You can work through the folder \"OpenAI API Key Setup\" for more information on this process if you don't already have an API Key!"
   ]
  },
  {
   "cell_type": "code",
   "execution_count": null,
   "metadata": {},
   "outputs": [],
   "source": [
    "import os\n",
    "import openai\n",
    "from getpass import getpass\n",
    "\n",
    "openai.api_key = getpass(\"OpenAI API Key: \")\n",
    "os.environ[\"OPENAI_API_KEY\"] = openai.api_key"
   ]
  },
  {
   "cell_type": "markdown",
   "metadata": {},
   "source": [
    "### Vector Database\n",
    "\n",
    "Let's set up our vector database to hold all our documents and their embeddings!"
   ]
  },
  {
   "cell_type": "markdown",
   "metadata": {
    "id": "kDQrfAR1R6yv"
   },
   "source": [
    "While this is all baked into 1 call - we can look at some of the code that powers this process to get a better understanding:\n",
    "\n",
    "Let's look at our `VectorDatabase().__init__()`:\n",
    "\n",
    "```python\n",
    "def __init__(self, embedding_model: EmbeddingModel = None):\n",
    "        self.vectors = defaultdict(np.array)\n",
    "        self.embedding_model = embedding_model or EmbeddingModel()\n",
    "```\n",
    "\n",
    "As you can see - our vectors are merely stored as a dictionary of `np.array` objects.\n",
    "\n",
    "Secondly, our `VectorDatabase()` has a default `EmbeddingModel()` which is a wrapper for OpenAI's `text-embedding-3-small` model.\n",
    "\n",
    "> **Quick Info About `text-embedding-3-small`**:\n",
    "> - It has a context window of **8191** tokens\n",
    "> - It returns vectors with dimension **1536**"
   ]
  },
  {
   "cell_type": "markdown",
   "metadata": {
    "id": "L273pRdeR6yv"
   },
   "source": [
    "#### ❓Question #1:\n",
    "\n",
    "The default embedding dimension of `text-embedding-3-small` is 1536, as noted above. \n",
    "\n",
    "1. Is there any way to modify this dimension?\n",
    "    The OpenAI text-embedding-3 models have fixed output dimensions that cannot be modified by the  user. The dimensions are:\n",
    "\n",
    "text-embedding-3-small: 1536 dimensions\n",
    "text-embedding-3-large: 3072 dimensions\n",
    "\n",
    "2. What technique does OpenAI use to achieve this?\n",
    "OpenAI doesn't directly provide a way to modify the output dimensions of their text embedding models. The embedding dimensions (1536 for text-embedding-3-small and 3072 for text-embedding-3-large) are fixed by the model architecture itself.\n",
    "When developers need different dimensions, they typically apply post-processing techniques to the embeddings after receiving them from the API. Common techniques include:\n",
    "\n",
    "Dimensionality Reduction: PCA, Truncated SVD, NN Projections\n",
    "\n",
    "\n",
    "\n",
    "> NOTE: Check out this [API documentation](https://platform.openai.com/docs/api-reference/embeddings/create) for the answer to question #1, and [this documentation](https://platform.openai.com/docs/guides/embeddings/use-cases) for an answer to question #2!"
   ]
  },
  {
   "cell_type": "markdown",
   "metadata": {
    "id": "w5FZY7K3R6yv"
   },
   "source": [
    "We can call the `async_get_embeddings` method of our `EmbeddingModel()` on a list of `str` and receive a list of `float` back!\n",
    "\n",
    "```python\n",
    "async def async_get_embeddings(self, list_of_text: List[str]) -> List[List[float]]:\n",
    "        return await aget_embeddings(\n",
    "            list_of_text=list_of_text, engine=self.embeddings_model_name\n",
    "        )\n",
    "```"
   ]
  },
  {
   "cell_type": "markdown",
   "metadata": {
    "id": "cSct6X0aR6yv"
   },
   "source": [
    "We cast those to `np.array` when we build our `VectorDatabase()`:\n",
    "\n",
    "```python\n",
    "async def abuild_from_list(self, list_of_text: List[str]) -> \"VectorDatabase\":\n",
    "        embeddings = await self.embedding_model.async_get_embeddings(list_of_text)\n",
    "        for text, embedding in zip(list_of_text, embeddings):\n",
    "            self.insert(text, np.array(embedding))\n",
    "        return self\n",
    "```\n",
    "\n",
    "And that's all we need to do!"
   ]
  },
  {
   "cell_type": "code",
   "execution_count": null,
   "metadata": {},
   "outputs": [],
   "source": [
    "vector_db = VectorDatabase()\n",
    "vector_db = asyncio.run(vector_db.abuild_from_list(split_documents))"
   ]
  },
  {
   "cell_type": "markdown",
   "metadata": {
    "id": "SSZwaGvpR6yv"
   },
   "source": [
    "#### ❓Question #2:\n",
    "\n",
    "What are the benefits of using an `async` approach to collecting our embeddings?\n",
    "\n",
    "Improved throughput: You can process multiple embedding requests concurrently rather than sequentially, which can dramatically reduce the total time needed for large batches of text.\n",
    "Better resource utilization: While waiting for API responses, your program can perform other tasks instead of blocking and doing nothing.\n",
    "Reduced latency: For applications that need to embed multiple texts (like RAG systems), async processing can significantly decrease end-to-end response time.\n",
    "Scalability: Async approaches handle increasing loads more gracefully, making it easier to scale your application as embedding needs grow.\n",
    "API rate limit optimization: You can better manage API rate limits by controlling the concurrency level of requests, potentially avoiding throttling while maximizing throughput.\n",
    "Responsiveness: For interactive applications, using async keeps the main thread free to handle user interface operations while embeddings are being generated in the background.\n",
    "\n",
    "> NOTE: Determining the core difference between `async` and `sync` will be useful! If you get stuck - ask ChatGPT!"
   ]
  },
  {
   "cell_type": "markdown",
   "metadata": {
    "id": "nRBdIt-xR6yw"
   },
   "source": [
    "So, to review what we've done so far in natural language:\n",
    "\n",
    "1. We load source documents\n",
    "2. We split those source documents into smaller chunks (documents)\n",
    "3. We send each of those documents to the `text-embedding-3-small` OpenAI API endpoint\n",
    "4. We store each of the text representations with the vector representations as keys/values in a dictionary"
   ]
  },
  {
   "cell_type": "markdown",
   "metadata": {
    "id": "4-vWANZyR6yw"
   },
   "source": [
    "### Semantic Similarity\n",
    "\n",
    "The next step is to be able to query our `VectorDatabase()` with a `str` and have it return to us vectors and text that is most relevant from our corpus.\n",
    "\n",
    "We're going to use the following process to achieve this in our toy example:\n",
    "\n",
    "1. We need to embed our query with the same `EmbeddingModel()` as we used to construct our `VectorDatabase()`\n",
    "2. We loop through every vector in our `VectorDatabase()` and use a distance measure to compare how related they are\n",
    "3. We return a list of the top `k` closest vectors, with their text representations\n",
    "\n",
    "There's some very heavy optimization that can be done at each of these steps - but let's just focus on the basic pattern in this notebook.\n",
    "\n",
    "> We are using [cosine similarity](https://www.engati.com/glossary/cosine-similarity) as a distance metric in this example - but there are many many distance metrics you could use - like [these](https://flavien-vidal.medium.com/similarity-distances-for-natural-language-processing-16f63cd5ba55)\n",
    "\n",
    "> We are using a rather inefficient way of calculating relative distance between the query vector and all other vectors - there are more advanced approaches that are much more efficient, like [ANN](https://towardsdatascience.com/comprehensive-guide-to-approximate-nearest-neighbors-algorithms-8b94f057d6b6)"
   ]
  },
  {
   "cell_type": "code",
   "execution_count": null,
   "metadata": {},
   "outputs": [],
   "source": [
    "vector_db.search_by_text(\"What is the Michael Eisner Memorial Weak Executive Problem?\", k=3)"
   ]
  },
  {
   "cell_type": "markdown",
   "metadata": {
    "id": "TehsfIiKR6yw"
   },
   "source": [
    "## Task 4: Prompts\n",
    "\n",
    "In the following section, we'll be looking at the role of prompts - and how they help us to guide our application in the right direction.\n",
    "\n",
    "In this notebook, we're going to rely on the idea of \"zero-shot in-context learning\".\n",
    "\n",
    "This is a lot of words to say: \"We will ask it to perform our desired task in the prompt, and provide no examples.\""
   ]
  },
  {
   "cell_type": "markdown",
   "metadata": {
    "id": "yXpA0UveR6yw"
   },
   "source": [
    "### XYZRolePrompt\n",
    "\n",
    "Before we do that, let's stop and think a bit about how OpenAI's chat models work.\n",
    "\n",
    "We know they have roles - as is indicated in the following API [documentation](https://platform.openai.com/docs/api-reference/chat/create#chat/create-messages)\n",
    "\n",
    "There are three roles, and they function as follows (taken directly from [OpenAI](https://platform.openai.com/docs/guides/gpt/chat-completions-api)):\n",
    "\n",
    "- `{\"role\" : \"system\"}` : The system message helps set the behavior of the assistant. For example, you can modify the personality of the assistant or provide specific instructions about how it should behave throughout the conversation. However note that the system message is optional and the model’s behavior without a system message is likely to be similar to using a generic message such as \"You are a helpful assistant.\"\n",
    "- `{\"role\" : \"user\"}` : The user messages provide requests or comments for the assistant to respond to.\n",
    "- `{\"role\" : \"assistant\"}` : Assistant messages store previous assistant responses, but can also be written by you to give examples of desired behavior.\n",
    "\n",
    "The main idea is this:\n",
    "\n",
    "1. You start with a system message that outlines how the LLM should respond, what kind of behaviours you can expect from it, and more\n",
    "2. Then, you can provide a few examples in the form of \"assistant\"/\"user\" pairs\n",
    "3. Then, you prompt the model with the true \"user\" message.\n",
    "\n",
    "In this example, we'll be forgoing the 2nd step for simplicities sake."
   ]
  },
  {
   "cell_type": "markdown",
   "metadata": {
    "id": "gdZ2KWKSR6yw"
   },
   "source": [
    "#### Utility Functions\n",
    "\n",
    "You'll notice that we're using some utility functions from the `aimakerspace` module - let's take a peek at these and see what they're doing!"
   ]
  },
  {
   "cell_type": "markdown",
   "metadata": {
    "id": "GFbeJDDsR6yw"
   },
   "source": [
    "##### XYZRolePrompt"
   ]
  },
  {
   "cell_type": "markdown",
   "metadata": {
    "id": "5mojJSE3R6yw"
   },
   "source": [
    "Here we have our `system`, `user`, and `assistant` role prompts.\n",
    "\n",
    "Let's take a peek at what they look like:\n",
    "\n",
    "```python\n",
    "class BasePrompt:\n",
    "    def __init__(self, prompt):\n",
    "        \"\"\"\n",
    "        Initializes the BasePrompt object with a prompt template.\n",
    "\n",
    "        :param prompt: A string that can contain placeholders within curly braces\n",
    "        \"\"\"\n",
    "        self.prompt = prompt\n",
    "        self._pattern = re.compile(r\"\\{([^}]+)\\}\")\n",
    "\n",
    "    def format_prompt(self, **kwargs):\n",
    "        \"\"\"\n",
    "        Formats the prompt string using the keyword arguments provided.\n",
    "\n",
    "        :param kwargs: The values to substitute into the prompt string\n",
    "        :return: The formatted prompt string\n",
    "        \"\"\"\n",
    "        matches = self._pattern.findall(self.prompt)\n",
    "        return self.prompt.format(**{match: kwargs.get(match, \"\") for match in matches})\n",
    "\n",
    "    def get_input_variables(self):\n",
    "        \"\"\"\n",
    "        Gets the list of input variable names from the prompt string.\n",
    "\n",
    "        :return: List of input variable names\n",
    "        \"\"\"\n",
    "        return self._pattern.findall(self.prompt)\n",
    "```\n",
    "\n",
    "Then we have our `RolePrompt` which laser focuses us on the role pattern found in most API endpoints for LLMs.\n",
    "\n",
    "```python\n",
    "class RolePrompt(BasePrompt):\n",
    "    def __init__(self, prompt, role: str):\n",
    "        \"\"\"\n",
    "        Initializes the RolePrompt object with a prompt template and a role.\n",
    "\n",
    "        :param prompt: A string that can contain placeholders within curly braces\n",
    "        :param role: The role for the message ('system', 'user', or 'assistant')\n",
    "        \"\"\"\n",
    "        super().__init__(prompt)\n",
    "        self.role = role\n",
    "\n",
    "    def create_message(self, **kwargs):\n",
    "        \"\"\"\n",
    "        Creates a message dictionary with a role and a formatted message.\n",
    "\n",
    "        :param kwargs: The values to substitute into the prompt string\n",
    "        :return: Dictionary containing the role and the formatted message\n",
    "        \"\"\"\n",
    "        return {\"role\": self.role, \"content\": self.format_prompt(**kwargs)}\n",
    "```\n",
    "\n",
    "We'll look at how the `SystemRolePrompt` is constructed to get a better idea of how that extension works:\n",
    "\n",
    "```python\n",
    "class SystemRolePrompt(RolePrompt):\n",
    "    def __init__(self, prompt: str):\n",
    "        super().__init__(prompt, \"system\")\n",
    "```\n",
    "\n",
    "That pattern is repeated for our `UserRolePrompt` and our `AssistantRolePrompt` as well."
   ]
  },
  {
   "cell_type": "markdown",
   "metadata": {
    "id": "D361R6sMR6yw"
   },
   "source": [
    "##### ChatOpenAI"
   ]
  },
  {
   "cell_type": "markdown",
   "metadata": {
    "id": "HJVQ2Pm8R6yw"
   },
   "source": [
    "Next we have our model, which is converted to a format analagous to libraries like LangChain and LlamaIndex.\n",
    "\n",
    "Let's take a peek at how that is constructed:\n",
    "\n",
    "```python\n",
    "class ChatOpenAI:\n",
    "    def __init__(self, model_name: str = \"gpt-4o-mini\"):\n",
    "        self.model_name = model_name\n",
    "        self.openai_api_key = os.getenv(\"OPENAI_API_KEY\")\n",
    "        if self.openai_api_key is None:\n",
    "            raise ValueError(\"OPENAI_API_KEY is not set\")\n",
    "\n",
    "    def run(self, messages, text_only: bool = True):\n",
    "        if not isinstance(messages, list):\n",
    "            raise ValueError(\"messages must be a list\")\n",
    "\n",
    "        openai.api_key = self.openai_api_key\n",
    "        response = openai.ChatCompletion.create(\n",
    "            model=self.model_name, messages=messages\n",
    "        )\n",
    "\n",
    "        if text_only:\n",
    "            return response.choices[0].message.content\n",
    "\n",
    "        return response\n",
    "```"
   ]
  },
  {
   "cell_type": "markdown",
   "metadata": {
    "id": "qCU7FfhIR6yw"
   },
   "source": [
    "#### ❓ Question #3:\n",
    "\n",
    "When calling the OpenAI API - are there any ways we can achieve more reproducible outputs?\n",
    "Set a fixed seed parameter: When available for the endpoint you're using, setting a consistent seed value helps ensure reproducibility. However, note that the embedding models specifically don't support the seed parameter.\n",
    "Use deterministic models: Embedding models like text-embedding-3-small and text-embedding-3-large are inherently deterministic - they'll always produce the same vector for the same input text.\n",
    "Consistent text preprocessing: Apply identical preprocessing to your text inputs:\n",
    "\n",
    "Use the same tokenization approach\n",
    "Apply the same text cleaning steps\n",
    "Maintain consistent casing (all lowercase/uppercase)\n",
    "Handle special characters consistently\n",
    "\n",
    "\n",
    "Specify dimensions consistently: If you're post-processing embeddings to reduce dimensions, use the same technique and parameters each time.\n",
    "Control for model versions: Always specify the exact model version rather than using aliases that might point to different models over time.\n",
    "Temperature setting: For generative endpoints (not embeddings), set temperature=0 for most deterministic outputs.\n",
    "API version pinning: Use a specific API version to prevent being affected by API changes.\n",
    "Batch consistency: When batching requests, maintain the same batch sizes and ordering as this can sometimes affect outputs in subtle ways.\n",
    "\n",
    "> NOTE: Check out [this section](https://platform.openai.com/docs/guides/text-generation/) of the OpenAI documentation for the answer!"
   ]
  },
  {
   "cell_type": "markdown",
   "metadata": {
    "id": "c5wcjMLCR6yw"
   },
   "source": [
    "### Creating and Prompting OpenAI's `gpt-4o-mini`!\n",
    "\n",
    "Let's tie all these together and use it to prompt `gpt-4o-mini`!"
   ]
  },
  {
   "cell_type": "code",
   "execution_count": null,
   "metadata": {},
   "outputs": [],
   "source": [
    "from aimakerspace.openai_utils.prompts import (\n",
    "    UserRolePrompt,\n",
    "    SystemRolePrompt,\n",
    "    AssistantRolePrompt,\n",
    ")\n",
    "\n",
    "from aimakerspace.openai_utils.chatmodel import ChatOpenAI\n",
    "\n",
    "chat_openai = ChatOpenAI()\n",
    "user_prompt_template = \"{content}\"\n",
    "user_role_prompt = UserRolePrompt(user_prompt_template)\n",
    "system_prompt_template = (\n",
    "    \"You are an expert in {expertise}, you always answer in a kind way.\"\n",
    ")\n",
    "system_role_prompt = SystemRolePrompt(system_prompt_template)\n",
    "\n",
    "messages = [\n",
    "    system_role_prompt.create_message(expertise=\"Python\"),\n",
    "    user_role_prompt.create_message(\n",
    "        content=\"What is the best way to write a loop?\"\n",
    "    ),\n",
    "]\n",
    "\n",
    "response = chat_openai.run(messages)"
   ]
  },
  {
   "cell_type": "code",
   "execution_count": null,
   "metadata": {},
   "outputs": [],
   "source": [
    "print(response)"
   ]
  },
  {
   "cell_type": "markdown",
   "metadata": {
    "id": "r2nxxhB2R6yy"
   },
   "source": [
    "## Task 5: Retrieval Augmented Generation\n",
    "\n",
    "Now we can create a RAG prompt - which will help our system behave in a way that makes sense!\n",
    "\n",
    "There is much you could do here, many tweaks and improvements to be made!"
   ]
  },
  {
   "cell_type": "code",
   "execution_count": null,
   "metadata": {},
   "outputs": [],
   "source": [
    "RAG_PROMPT_TEMPLATE = \"\"\" \\\n",
    "Use the provided context to answer the user's query.\n",
    "\n",
    "You may not answer the user's query unless there is specific context in the following text.\n",
    "\n",
    "If you do not know the answer, or cannot answer, please respond with \"I don't know\".\n",
    "\"\"\"\n",
    "\n",
    "rag_prompt = SystemRolePrompt(RAG_PROMPT_TEMPLATE)\n",
    "\n",
    "USER_PROMPT_TEMPLATE = \"\"\" \\\n",
    "Context:\n",
    "{context}\n",
    "\n",
    "User Query:\n",
    "{user_query}\n",
    "\"\"\"\n",
    "\n",
    "\n",
    "user_prompt = UserRolePrompt(USER_PROMPT_TEMPLATE)\n",
    "\n",
    "class RetrievalAugmentedQAPipeline:\n",
    "    def __init__(self, llm: ChatOpenAI(), vector_db_retriever: VectorDatabase) -> None:\n",
    "        self.llm = llm\n",
    "        self.vector_db_retriever = vector_db_retriever\n",
    "\n",
    "    def run_pipeline(self, user_query: str) -> str:\n",
    "        context_list = self.vector_db_retriever.search_by_text(user_query, k=4)\n",
    "\n",
    "        context_prompt = \"\"\n",
    "        for context in context_list:\n",
    "            context_prompt += context[0] + \"\\n\"\n",
    "\n",
    "        formatted_system_prompt = rag_prompt.create_message()\n",
    "\n",
    "        formatted_user_prompt = user_prompt.create_message(user_query=user_query, context=context_prompt)\n",
    "\n",
    "        return {\"response\" : self.llm.run([formatted_system_prompt, formatted_user_prompt]), \"context\" : context_list}"
   ]
  },
  {
   "cell_type": "markdown",
   "metadata": {
    "id": "zZIJI19uR6yz"
   },
   "source": [
    "#### ❓ Question #4:\n",
    "\n",
    "What prompting strategies could you use to make the LLM have a more thoughtful, detailed response?\n",
    "\n",
    "What is that strategy called?\n",
    "You can implement Chain of Thought prompting by:\n",
    "\n",
    "Explicitly asking the model to \"think step by step\" or \"reason through this carefully\"\n",
    "Providing examples that demonstrate detailed reasoning processes\n",
    "Breaking complex questions into smaller components\n",
    "Asking the model to consider different perspectives or potential objections\n",
    "Requesting that the model analyze assumptions before reaching conclusions\n",
    "\n",
    "> NOTE: You can look through [\"Accessing GPT-3.5-turbo Like a Developer\"](https://colab.research.google.com/drive/1mOzbgf4a2SP5qQj33ZxTz2a01-5eXqk2?usp=sharing) for an answer to this question if you get stuck!"
   ]
  },
  {
   "cell_type": "code",
   "execution_count": null,
   "metadata": {},
   "outputs": [],
   "source": [
    "retrieval_augmented_qa_pipeline = RetrievalAugmentedQAPipeline(\n",
    "    vector_db_retriever=vector_db,\n",
    "    llm=chat_openai\n",
    ")"
   ]
  },
  {
   "cell_type": "code",
   "execution_count": null,
   "metadata": {},
   "outputs": [],
   "source": [
    "retrieval_augmented_qa_pipeline.run_pipeline(\"What is the 'Michael Eisner Memorial Weak Executive Problem'?\")"
   ]
  },
  {
   "cell_type": "markdown",
   "metadata": {},
   "source": [
    "### 🏗️ Activity #1:\n",
    "\n",
    "Enhance your RAG application in some way! \n",
    "\n",
    "Suggestions are: \n",
    "\n",
    "- Allow it to work with PDF files\n",
    "- Implement a new distance metric\n",
    "- Add metadata support to the vector database\n",
    "\n",
    "While these are suggestions, you should feel free to make whatever augmentations you desire! \n",
    "\n",
    "> NOTE: These additions might require you to work within the `aimakerspace` library - that's expected!"
   ]
  },
  {
   "cell_type": "code",
   "execution_count": null,
   "metadata": {},
   "outputs": [],
   "source": [
    "#################################\n",
    "#      Q.1:  text_utils.py updated:\n",
    "#################################\n",
    "# uv add PyPDF2\n",
    "import os\n",
    "from typing import List\n",
    "from PyPDF2 import PdfReader  # Using PyPDF2 for PDF handling\n",
    "\n",
    "\n",
    "class DocumentLoader:\n",
    "    def __init__(self, path: str, encoding: str = \"utf-8\"):\n",
    "        self.documents = []\n",
    "        self.path = path\n",
    "        self.encoding = encoding\n",
    "\n",
    "    def load(self):\n",
    "        if os.path.isdir(self.path):\n",
    "            self.load_directory()\n",
    "        elif os.path.isfile(self.path):\n",
    "            if self.path.endswith(\".txt\"):\n",
    "                self.load_text_file()\n",
    "            elif self.path.endswith(\".pdf\"):\n",
    "                self.load_pdf_file()\n",
    "            else:\n",
    "                raise ValueError(\"Unsupported file format. Only .txt and .pdf files are supported.\")\n",
    "        else:\n",
    "            raise ValueError(\n",
    "                \"Provided path is neither a valid directory nor a supported file.\"\n",
    "            )\n",
    "        \n",
    "        return self.documents\n",
    "\n",
    "    def load_text_file(self):\n",
    "        with open(self.path, \"r\", encoding=self.encoding) as f:\n",
    "            self.documents.append(f.read())\n",
    "\n",
    "    def load_pdf_file(self):\n",
    "        try:\n",
    "            pdf_reader = PdfReader(self.path)\n",
    "            text = \"\"\n",
    "            for page in pdf_reader.pages:\n",
    "                text += page.extract_text() or \"\"  # Handle cases where extract_text returns None\n",
    "            self.documents.append(text)\n",
    "        except Exception as e:\n",
    "            raise ValueError(f\"Error loading PDF file: {e}\")\n",
    "\n",
    "    def load_directory(self):\n",
    "        for root, _, files in os.walk(self.path):\n",
    "            for file in files:\n",
    "                file_path = os.path.join(root, file)\n",
    "                if file.endswith(\".txt\"):\n",
    "                    with open(file_path, \"r\", encoding=self.encoding) as f:\n",
    "                        self.documents.append(f.read())\n",
    "                elif file.endswith(\".pdf\"):\n",
    "                    try:\n",
    "                        pdf_reader = PdfReader(file_path)\n",
    "                        text = \"\"\n",
    "                        for page in pdf_reader.pages:\n",
    "                            page_text = page.extract_text() or \"\"\n",
    "                            text += page_text\n",
    "                        self.documents.append(text)\n",
    "                    except Exception as e:\n",
    "                        print(f\"Error loading PDF file {file_path}: {e}\")\n",
    "                        continue\n",
    "\n",
    "    def load_documents(self):\n",
    "        return self.load()\n",
    "\n",
    "\n",
    "class CharacterTextSplitter:\n",
    "    def __init__(\n",
    "        self,\n",
    "        chunk_size: int = 1000,\n",
    "        chunk_overlap: int = 200,\n",
    "    ):\n",
    "        assert (\n",
    "            chunk_size > chunk_overlap\n",
    "        ), \"Chunk size must be greater than chunk overlap\"\n",
    "\n",
    "        self.chunk_size = chunk_size\n",
    "        self.chunk_overlap = chunk_overlap\n",
    "\n",
    "    def split(self, text: str) -> List[str]:\n",
    "        chunks = []\n",
    "        for i in range(0, len(text), self.chunk_size - self.chunk_overlap):\n",
    "            chunks.append(text[i : i + self.chunk_size])\n",
    "        return chunks\n",
    "\n",
    "    def split_texts(self, texts: List[str]) -> List[str]:\n",
    "        chunks = []\n",
    "        for text in texts:\n",
    "            chunks.extend(self.split(text))\n",
    "        return chunks\n",
    "\n",
    "\n",
    "if __name__ == \"__main__\":\n",
    "    # Example usage for text files\n",
    "    loader = DocumentLoader(\"data/KingLear.txt\")\n",
    "    texts = loader.load()\n",
    "    splitter = CharacterTextSplitter()\n",
    "    chunks = splitter.split_texts(texts)\n",
    "    print(f\"Number of chunks: {len(chunks)}\")\n",
    "    print(chunks[0])\n",
    "    print(\"--------\")\n",
    "    \n",
    "    # Example usage for PDF files\n",
    "    pdf_loader = DocumentLoader(\"data/example.pdf\")\n",
    "    pdf_texts = pdf_loader.load()\n",
    "    pdf_chunks = splitter.split_texts(pdf_texts)\n",
    "    print(f\"Number of PDF chunks: {len(pdf_chunks)}\")\n",
    "    if pdf_chunks:\n",
    "        print(pdf_chunks[0])"
   ]
  },
  {
   "cell_type": "code",
   "execution_count": null,
   "metadata": {},
   "outputs": [],
   "source": [
    "###################################\n",
    "#   Q.2: in vectordatabase.py\n",
    "###################################\n",
    "\n",
    "# uv add numpy\n",
    "import numpy as np\n",
    "from collections import defaultdict\n",
    "from typing import List, Tuple, Callable, Union\n",
    "from aimakerspace.openai_utils.embedding import EmbeddingModel\n",
    "import asyncio\n",
    "\n",
    "\n",
    "def cosine_similarity(vector_a: np.array, vector_b: np.array) -> float:\n",
    "    \"\"\"Computes the cosine similarity between two vectors.\"\"\"\n",
    "    dot_product = np.dot(vector_a, vector_b)\n",
    "    norm_a = np.linalg.norm(vector_a)\n",
    "    norm_b = np.linalg.norm(vector_b)\n",
    "    return dot_product / (norm_a * norm_b)\n",
    "\n",
    "\n",
    "def euclidean_similarity(vector_a: np.array, vector_b: np.array) -> float:\n",
    "    \"\"\"Computes a similarity score based on inverse Euclidean distance.\"\"\"\n",
    "    distance = np.linalg.norm(vector_a - vector_b)\n",
    "    return 1 / (1 + distance)\n",
    "\n",
    "\n",
    "def get_similarity_function(name: str) -> Callable:\n",
    "    \"\"\"Returns the appropriate similarity function based on the name.\"\"\"\n",
    "    if name == \"cosine\":\n",
    "        return cosine_similarity\n",
    "    elif name == \"euclidean\":\n",
    "        return euclidean_similarity\n",
    "    else:\n",
    "        raise ValueError(f\"Unsupported similarity function: {name}\")\n",
    "\n",
    "\n",
    "class VectorDatabase:\n",
    "    def __init__(self, embedding_model: EmbeddingModel = None):\n",
    "        self.vectors = defaultdict(np.array)\n",
    "        self.embedding_model = embedding_model or EmbeddingModel()\n",
    "\n",
    "    def insert(self, key: str, vector: np.array) -> None:\n",
    "        self.vectors[key] = vector\n",
    "\n",
    "    def search(\n",
    "        self,\n",
    "        query_vector: np.array,\n",
    "        k: int,\n",
    "        distance_measure: Union[str, Callable] = \"cosine\",\n",
    "    ) -> List[Tuple[str, float]]:\n",
    "        if isinstance(distance_measure, str):\n",
    "            distance_measure = get_similarity_function(distance_measure)\n",
    "\n",
    "        scores = [\n",
    "            (key, distance_measure(query_vector, vector))\n",
    "            for key, vector in self.vectors.items()\n",
    "        ]\n",
    "        return sorted(scores, key=lambda x: x[1], reverse=True)[:k]\n",
    "\n",
    "    def search_by_text(\n",
    "        self,\n",
    "        query_text: str,\n",
    "        k: int,\n",
    "        distance_measure: Union[str, Callable] = \"cosine\",\n",
    "        return_as_text: bool = False,\n",
    "    ) -> List[Tuple[str, float]]:\n",
    "        if isinstance(distance_measure, str):\n",
    "            distance_measure = get_similarity_function(distance_measure)\n",
    "\n",
    "        query_vector = self.embedding_model.get_embedding(query_text)\n",
    "        results = self.search(query_vector, k, distance_measure)\n",
    "        return [result[0] for result in results] if return_as_text else results\n",
    "\n",
    "    def retrieve_from_key(self, key: str) -> np.array:\n",
    "        return self.vectors.get(key, None)\n",
    "\n",
    "    async def abuild_from_list(self, list_of_text: List[str]) -> \"VectorDatabase\":\n",
    "        embeddings = await self.embedding_model.async_get_embeddings(list_of_text)\n",
    "        for text, embedding in zip(list_of_text, embeddings):\n",
    "            self.insert(text, np.array(embedding))\n",
    "        return self\n",
    "\n",
    "\n",
    "if __name__ == \"__main__\":\n",
    "    list_of_text = [\n",
    "        \"I like to eat broccoli and bananas.\",\n",
    "        \"I ate a banana and spinach smoothie for breakfast.\",\n",
    "        \"Chinchillas and kittens are cute.\",\n",
    "        \"My sister adopted a kitten yesterday.\",\n",
    "        \"Look at this cute hamster munching on a piece of broccoli.\",\n",
    "    ]\n",
    "\n",
    "    vector_db = VectorDatabase()\n",
    "    vector_db = asyncio.run(vector_db.abuild_from_list(list_of_text))\n",
    "    k = 2\n",
    "\n",
    "    # Cosine (default)\n",
    "    searched_vector = vector_db.search_by_text(\"I think fruit is awesome!\", k=k)\n",
    "    print(f\"Closest {k} vector(s) [cosine]:\", searched_vector)\n",
    "\n",
    "    # Euclidean\n",
    "    searched_vector_euclidean = vector_db.search_by_text(\n",
    "        \"I think fruit is awesome!\", k=k, distance_measure=\"euclidean\"\n",
    "    )\n",
    "    print(f\"Closest {k} vector(s) [euclidean]:\", searched_vector_euclidean)\n",
    "\n",
    "    retrieved_vector = vector_db.retrieve_from_key(\n",
    "        \"I like to eat broccoli and bananas.\"\n",
    "    )\n",
    "    print(\"Retrieved vector:\", retrieved_vector)\n",
    "\n",
    "    # Cosine text\n",
    "    relevant_texts = vector_db.search_by_text(\n",
    "        \"I think fruit is awesome!\", k=k, return_as_text=True\n",
    "    )\n",
    "    print(f\"Closest {k} text(s) [cosine]:\", relevant_texts)\n",
    "\n",
    "    # Euclidean text\n",
    "    relevant_texts_euclidean = vector_db.search_by_text(\n",
    "        \"I think fruit is awesome!\", k=k, distance_measure=\"euclidean\", return_as_text=True\n",
    "    )\n",
    "    print(f\"Closest {k} text(s) [euclidean]:\", relevant_texts_euclidean)\n",
    "\n"
   ]
  },
  {
   "cell_type": "code",
   "execution_count": null,
   "metadata": {},
   "outputs": [],
   "source": [
    "###################################\n",
    "#      Q3. vectordatabase.py updated:\n",
    "###################################\n",
    "\n",
    "import numpy as np\n",
    "from collections import defaultdict\n",
    "from typing import List, Tuple, Callable, Union\n",
    "from aimakerspace.openai_utils.embedding import EmbeddingModel\n",
    "import asyncio\n",
    "\n",
    "\n",
    "def cosine_similarity(vector_a: np.array, vector_b: np.array) -> float:\n",
    "    dot_product = np.dot(vector_a, vector_b)\n",
    "    norm_a = np.linalg.norm(vector_a)\n",
    "    norm_b = np.linalg.norm(vector_b)\n",
    "    return dot_product / (norm_a * norm_b)\n",
    "\n",
    "\n",
    "def euclidean_similarity(vector_a: np.array, vector_b: np.array) -> float:\n",
    "    distance = np.linalg.norm(vector_a - vector_b)\n",
    "    return 1 / (1 + distance)\n",
    "\n",
    "\n",
    "def get_similarity_function(name: str) -> Callable:\n",
    "    if name == \"cosine\":\n",
    "        return cosine_similarity\n",
    "    elif name == \"euclidean\":\n",
    "        return euclidean_similarity\n",
    "    else:\n",
    "        raise ValueError(f\"Unsupported similarity function: {name}\")\n",
    "\n",
    "\n",
    "class VectorDatabase:\n",
    "    def __init__(self, embedding_model: EmbeddingModel = None):\n",
    "        self.vectors = defaultdict(dict)\n",
    "        self.embedding_model = embedding_model or EmbeddingModel()\n",
    "\n",
    "    def insert(self, key: str, vector: np.array, metadata: dict = None) -> None:\n",
    "        self.vectors[key] = {\n",
    "            \"vector\": vector,\n",
    "            \"metadata\": metadata or {},\n",
    "        }\n",
    "\n",
    "    def search(\n",
    "        self,\n",
    "        query_vector: np.array,\n",
    "        k: int,\n",
    "        distance_measure: Union[str, Callable] = \"cosine\",\n",
    "    ) -> List[Tuple[str, float, dict]]:\n",
    "        if isinstance(distance_measure, str):\n",
    "            distance_measure = get_similarity_function(distance_measure)\n",
    "\n",
    "        scores = [\n",
    "            (\n",
    "                key,\n",
    "                distance_measure(query_vector, data[\"vector\"]),\n",
    "                data[\"metadata\"],\n",
    "            )\n",
    "            for key, data in self.vectors.items()\n",
    "        ]\n",
    "        return sorted(scores, key=lambda x: x[1], reverse=True)[:k]\n",
    "\n",
    "    def search_by_text(\n",
    "        self,\n",
    "        query_text: str,\n",
    "        k: int,\n",
    "        distance_measure: Union[str, Callable] = \"cosine\",\n",
    "        return_as_text: bool = False,\n",
    "        return_metadata: bool = False,\n",
    "    ) -> Union[List[str], List[Tuple[str, float]], List[Tuple[str, float, dict]]]:\n",
    "        if isinstance(distance_measure, str):\n",
    "            distance_measure = get_similarity_function(distance_measure)\n",
    "\n",
    "        query_vector = self.embedding_model.get_embedding(query_text)\n",
    "        results = self.search(query_vector, k, distance_measure)\n",
    "\n",
    "        if return_as_text:\n",
    "            return [r[0] for r in results]\n",
    "        elif return_metadata:\n",
    "            return results\n",
    "        else:\n",
    "            return [(r[0], r[1]) for r in results]\n",
    "\n",
    "    def retrieve_from_key(self, key: str) -> Tuple[Union[np.array, None], Union[dict, None]]:\n",
    "        data = self.vectors.get(key)\n",
    "        if data:\n",
    "            return data[\"vector\"], data[\"metadata\"]\n",
    "        return None, None\n",
    "\n",
    "    async def abuild_from_list(self, list_of_text: List[str], metadata_list: List[dict] = None) -> \"VectorDatabase\":\n",
    "        embeddings = await self.embedding_model.async_get_embeddings(list_of_text)\n",
    "        for i, (text, embedding) in enumerate(zip(list_of_text, embeddings)):\n",
    "            metadata = metadata_list[i] if metadata_list and i < len(metadata_list) else {}\n",
    "            self.insert(text, np.array(embedding), metadata)\n",
    "        return self\n"
   ]
  }
 ],
 "metadata": {
  "language_info": {
   "name": "python"
  }
 },
 "nbformat": 4,
 "nbformat_minor": 0
}
